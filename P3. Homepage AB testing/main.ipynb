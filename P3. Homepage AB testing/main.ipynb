{
 "cells": [
  {
   "cell_type": "code",
   "execution_count": 4,
   "metadata": {},
   "outputs": [],
   "source": [
    "import numpy as np\n",
    "import pandas as pd\n",
    "import scipy.stats as stats\n",
    "from statsmodels.stats import proportion as proptests\n",
    "\n",
    "import matplotlib.pyplot as plt\n",
    "%matplotlib inline"
   ]
  },
  {
   "cell_type": "code",
   "execution_count": 5,
   "metadata": {},
   "outputs": [
    {
     "data": {
      "text/html": [
       "<div>\n",
       "<style scoped>\n",
       "    .dataframe tbody tr th:only-of-type {\n",
       "        vertical-align: middle;\n",
       "    }\n",
       "\n",
       "    .dataframe tbody tr th {\n",
       "        vertical-align: top;\n",
       "    }\n",
       "\n",
       "    .dataframe thead th {\n",
       "        text-align: right;\n",
       "    }\n",
       "</style>\n",
       "<table border=\"1\" class=\"dataframe\">\n",
       "  <thead>\n",
       "    <tr style=\"text-align: right;\">\n",
       "      <th></th>\n",
       "      <th>Day</th>\n",
       "      <th>Control Cookies</th>\n",
       "      <th>Control Downloads</th>\n",
       "      <th>Control Licenses</th>\n",
       "      <th>Experiment Cookies</th>\n",
       "      <th>Experiment Downloads</th>\n",
       "      <th>Experiment Licenses</th>\n",
       "    </tr>\n",
       "  </thead>\n",
       "  <tbody>\n",
       "    <tr>\n",
       "      <th>0</th>\n",
       "      <td>1</td>\n",
       "      <td>1764</td>\n",
       "      <td>246</td>\n",
       "      <td>1</td>\n",
       "      <td>1850</td>\n",
       "      <td>339</td>\n",
       "      <td>3</td>\n",
       "    </tr>\n",
       "    <tr>\n",
       "      <th>1</th>\n",
       "      <td>2</td>\n",
       "      <td>1541</td>\n",
       "      <td>234</td>\n",
       "      <td>2</td>\n",
       "      <td>1590</td>\n",
       "      <td>281</td>\n",
       "      <td>2</td>\n",
       "    </tr>\n",
       "    <tr>\n",
       "      <th>2</th>\n",
       "      <td>3</td>\n",
       "      <td>1457</td>\n",
       "      <td>240</td>\n",
       "      <td>1</td>\n",
       "      <td>1515</td>\n",
       "      <td>274</td>\n",
       "      <td>1</td>\n",
       "    </tr>\n",
       "    <tr>\n",
       "      <th>3</th>\n",
       "      <td>4</td>\n",
       "      <td>1587</td>\n",
       "      <td>224</td>\n",
       "      <td>1</td>\n",
       "      <td>1541</td>\n",
       "      <td>284</td>\n",
       "      <td>2</td>\n",
       "    </tr>\n",
       "    <tr>\n",
       "      <th>4</th>\n",
       "      <td>5</td>\n",
       "      <td>1606</td>\n",
       "      <td>253</td>\n",
       "      <td>2</td>\n",
       "      <td>1643</td>\n",
       "      <td>292</td>\n",
       "      <td>3</td>\n",
       "    </tr>\n",
       "    <tr>\n",
       "      <th>5</th>\n",
       "      <td>6</td>\n",
       "      <td>1681</td>\n",
       "      <td>287</td>\n",
       "      <td>3</td>\n",
       "      <td>1780</td>\n",
       "      <td>299</td>\n",
       "      <td>3</td>\n",
       "    </tr>\n",
       "    <tr>\n",
       "      <th>6</th>\n",
       "      <td>7</td>\n",
       "      <td>1534</td>\n",
       "      <td>262</td>\n",
       "      <td>5</td>\n",
       "      <td>1555</td>\n",
       "      <td>276</td>\n",
       "      <td>8</td>\n",
       "    </tr>\n",
       "    <tr>\n",
       "      <th>7</th>\n",
       "      <td>8</td>\n",
       "      <td>1798</td>\n",
       "      <td>331</td>\n",
       "      <td>12</td>\n",
       "      <td>1787</td>\n",
       "      <td>326</td>\n",
       "      <td>20</td>\n",
       "    </tr>\n",
       "    <tr>\n",
       "      <th>8</th>\n",
       "      <td>9</td>\n",
       "      <td>1478</td>\n",
       "      <td>223</td>\n",
       "      <td>30</td>\n",
       "      <td>1553</td>\n",
       "      <td>298</td>\n",
       "      <td>38</td>\n",
       "    </tr>\n",
       "    <tr>\n",
       "      <th>9</th>\n",
       "      <td>10</td>\n",
       "      <td>1461</td>\n",
       "      <td>236</td>\n",
       "      <td>32</td>\n",
       "      <td>1458</td>\n",
       "      <td>289</td>\n",
       "      <td>23</td>\n",
       "    </tr>\n",
       "  </tbody>\n",
       "</table>\n",
       "</div>"
      ],
      "text/plain": [
       "   Day  Control Cookies  Control Downloads  Control Licenses  \\\n",
       "0    1             1764                246                 1   \n",
       "1    2             1541                234                 2   \n",
       "2    3             1457                240                 1   \n",
       "3    4             1587                224                 1   \n",
       "4    5             1606                253                 2   \n",
       "5    6             1681                287                 3   \n",
       "6    7             1534                262                 5   \n",
       "7    8             1798                331                12   \n",
       "8    9             1478                223                30   \n",
       "9   10             1461                236                32   \n",
       "\n",
       "   Experiment Cookies  Experiment Downloads  Experiment Licenses  \n",
       "0                1850                   339                    3  \n",
       "1                1590                   281                    2  \n",
       "2                1515                   274                    1  \n",
       "3                1541                   284                    2  \n",
       "4                1643                   292                    3  \n",
       "5                1780                   299                    3  \n",
       "6                1555                   276                    8  \n",
       "7                1787                   326                   20  \n",
       "8                1553                   298                   38  \n",
       "9                1458                   289                   23  "
      ]
     },
     "execution_count": 5,
     "metadata": {},
     "output_type": "execute_result"
    }
   ],
   "source": [
    "data = pd.read_csv('homepage-experiment-data.csv')\n",
    "data.head(10)"
   ]
  },
  {
   "cell_type": "code",
   "execution_count": 6,
   "metadata": {},
   "outputs": [
    {
     "data": {
      "text/plain": [
       "29"
      ]
     },
     "execution_count": 6,
     "metadata": {},
     "output_type": "execute_result"
    }
   ],
   "source": [
    "data.shape[0]"
   ]
  },
  {
   "cell_type": "markdown",
   "metadata": {},
   "source": [
    "### Invariant metric"
   ]
  },
  {
   "cell_type": "code",
   "execution_count": 50,
   "metadata": {},
   "outputs": [
    {
     "name": "stdout",
     "output_type": "stream",
     "text": [
      "Total number of observations:  94197\n",
      "Total number of observations in the control group:  46851\n",
      "Total number of observations in the experiment group:  47346\n",
      "0.10749294050130409\n"
     ]
    }
   ],
   "source": [
    "\"\"\"\n",
    "H0: even distribution in control and experiment group\n",
    "H1: the distribution is unequal in control and experiment group\n",
    "\n",
    "Type 1 error rate: 0.05\n",
    "\"\"\"\n",
    "\n",
    "n_control = data['Control Cookies'].sum()\n",
    "n_experiment = data['Experiment Cookies'].sum()\n",
    "n_obs = n_control + n_experiment\n",
    "\n",
    "print(\"Total number of observations: \", n_obs)\n",
    "print(\"Total number of observations in the control group: \", n_control)\n",
    "print(\"Total number of observations in the experiment group: \", n_experiment)\n",
    "\n",
    "# probability of user belonging to either group\n",
    "p_null = 0.5\n",
    "\n",
    "sd = np.sqrt(p_null * (1 - p_null) * n_obs)\n",
    "mean = p_null * n_obs\n",
    "\n",
    "# P(X >= n_experiment)\n",
    "exp_correction = n_experiment - 0.5\n",
    "\n",
    "# P(X <= n_control)\n",
    "control_correction = n_control + 0.5\n",
    "\n",
    "z_exp = (exp_correction - mean) / sd\n",
    "z_control = (control_correction - mean) / sd\n",
    "\n",
    "print(stats.norm.cdf(z_control) + 1 - stats.norm.cdf(z_exp))"
   ]
  },
  {
   "cell_type": "markdown",
   "metadata": {},
   "source": [
    "Since, the p-value is greater than 0.05 type 1 error rate, we fail to reject H0, i.e, the distribution is almost even"
   ]
  },
  {
   "cell_type": "markdown",
   "metadata": {},
   "source": [
    "### Evaluation metrics"
   ]
  },
  {
   "cell_type": "code",
   "execution_count": 71,
   "metadata": {},
   "outputs": [
    {
     "name": "stdout",
     "output_type": "stream",
     "text": [
      "7.870833726066236\n",
      "1.7763568394002505e-15\n"
     ]
    }
   ],
   "source": [
    "# downloads\n",
    "\"\"\"\n",
    "H0: experiment downloads <= control downloads\n",
    "H1: experiment downloads > control downloads\n",
    "\"\"\"\n",
    "n_control_downloads = data['Control Downloads'].sum()\n",
    "n_experiment_downloads = data['Experiment Downloads'].sum()\n",
    "\n",
    "# control group download rate = base probability based on historic data = p_null\n",
    "mean_control_downloads = n_control_downloads / n_control\n",
    "\n",
    "# experiment group download rate\n",
    "mean_experiment_downloads = n_experiment_downloads / n_experiment\n",
    "\n",
    "# observation download rate\n",
    "p_obs_downloads = (n_control_downloads + n_experiment_downloads) / (n_control + n_experiment)\n",
    "\n",
    "# assuming one trial\n",
    "var_obs = p_obs_downloads * (1 - p_obs_downloads) * 1\n",
    "\n",
    "sd = np.sqrt(var_obs * (1 / n_control + 1 / n_experiment))\n",
    "\n",
    "# two-sampled z-test\n",
    "z = (mean_experiment_downloads - mean_control_downloads - 0) / sd\n",
    "print(z)\n",
    "print(1 - stats.norm.cdf(z))"
   ]
  },
  {
   "cell_type": "code",
   "execution_count": 74,
   "metadata": {},
   "outputs": [
    {
     "name": "stdout",
     "output_type": "stream",
     "text": [
      "0.2586750111658684\n",
      "0.3979430008399871\n"
     ]
    }
   ],
   "source": [
    "# license\n",
    "\"\"\"\n",
    "H0: experiment purchases <= control purchases\n",
    "H1: experiment purchases > control purchases\n",
    "\"\"\"\n",
    "n_control = data.query('Day < 22')['Control Cookies'].sum()\n",
    "n_experiment = data.query('Day < 22')['Experiment Cookies'].sum()\n",
    "\n",
    "n_control_licenses = data['Control Licenses'].sum()\n",
    "n_experiment_licenses = data['Experiment Licenses'].sum()\n",
    "\n",
    "# control group licenses rate = base probability based on historic data = p_null\n",
    "mean_control_licenses = n_control_licenses / n_control\n",
    "\n",
    "# experiment group licenses rate\n",
    "mean_experiment_licenses = n_experiment_licenses / n_experiment\n",
    "\n",
    "# observation licenses rate\n",
    "p_obs_licenses = (n_control_licenses + n_experiment_licenses) / (n_control + n_experiment)\n",
    "\n",
    "# assuming one trial\n",
    "var_obs = p_obs_licenses * (1 - p_obs_licenses) * 1\n",
    "\n",
    "sd = np.sqrt(var_obs * (1 / n_control + 1 / n_experiment))\n",
    "\n",
    "# two-sampled z-test\n",
    "z = (mean_experiment_licenses - mean_control_licenses - 0) / sd\n",
    "print(z)\n",
    "print(1 - stats.norm.cdf(z))"
   ]
  },
  {
   "cell_type": "markdown",
   "metadata": {},
   "source": [
    "The statistical significance wasn't obtained for the number of licenses purchased, but the new homepage appeared to have a strong effect on the number of downloads made. So, this feature can be deployes as we initially considered, if only one of our metrics shows a statistically significant positive change we should be happy enough to deploy the new homepage."
   ]
  },
  {
   "cell_type": "code",
   "execution_count": null,
   "metadata": {},
   "outputs": [],
   "source": []
  }
 ],
 "metadata": {
  "kernelspec": {
   "display_name": "Python 3",
   "language": "python",
   "name": "python3"
  },
  "language_info": {
   "codemirror_mode": {
    "name": "ipython",
    "version": 3
   },
   "file_extension": ".py",
   "mimetype": "text/x-python",
   "name": "python",
   "nbconvert_exporter": "python",
   "pygments_lexer": "ipython3",
   "version": "3.8.2"
  }
 },
 "nbformat": 4,
 "nbformat_minor": 4
}
