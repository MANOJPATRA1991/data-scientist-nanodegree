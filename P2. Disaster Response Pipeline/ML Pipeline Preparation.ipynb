{
 "cells": [
  {
   "cell_type": "markdown",
   "metadata": {},
   "source": [
    "# ML Pipeline Preparation\n",
    "Follow the instructions below to help you create your ML pipeline.\n",
    "### 1. Import libraries and load data from database.\n",
    "- Import Python libraries\n",
    "- Load dataset from database with [`read_sql_table`](https://pandas.pydata.org/pandas-docs/stable/generated/pandas.read_sql_table.html)\n",
    "- Define feature and target variables X and Y"
   ]
  },
  {
   "cell_type": "code",
   "execution_count": 32,
   "metadata": {
    "tags": []
   },
   "outputs": [
    {
     "output_type": "stream",
     "name": "stdout",
     "text": "Requirement already satisfied: nltk in c:\\users\\admin\\documents\\data scientist nanodegree\\disaster response\\env\\lib\\site-packages (3.5)\nRequirement already satisfied: click in c:\\users\\admin\\documents\\data scientist nanodegree\\disaster response\\env\\lib\\site-packages (from nltk) (7.1.2)\nRequirement already satisfied: joblib in c:\\users\\admin\\documents\\data scientist nanodegree\\disaster response\\env\\lib\\site-packages (from nltk) (0.16.0)\nRequirement already satisfied: regex in c:\\users\\admin\\documents\\data scientist nanodegree\\disaster response\\env\\lib\\site-packages (from nltk) (2020.6.8)\nRequirement already satisfied: tqdm in c:\\users\\admin\\documents\\data scientist nanodegree\\disaster response\\env\\lib\\site-packages (from nltk) (4.47.0)\nWARNING: You are using pip version 19.2.3, however version 20.1.1 is available.\nYou should consider upgrading via the 'python -m pip install --upgrade pip' command.\n"
    }
   ],
   "source": [
    "!pip install nltk"
   ]
  },
  {
   "cell_type": "code",
   "execution_count": 33,
   "metadata": {
    "tags": []
   },
   "outputs": [
    {
     "output_type": "stream",
     "name": "stderr",
     "text": "[nltk_data] Downloading package punkt to\n[nltk_data]     C:\\Users\\Admin\\AppData\\Roaming\\nltk_data...\n[nltk_data]   Package punkt is already up-to-date!\n[nltk_data] Downloading package wordnet to\n[nltk_data]     C:\\Users\\Admin\\AppData\\Roaming\\nltk_data...\n[nltk_data]   Package wordnet is already up-to-date!\n[nltk_data] Downloading package averaged_perceptron_tagger to\n[nltk_data]     C:\\Users\\Admin\\AppData\\Roaming\\nltk_data...\n[nltk_data]   Package averaged_perceptron_tagger is already up-to-\n[nltk_data]       date!\n"
    },
    {
     "output_type": "execute_result",
     "data": {
      "text/plain": "True"
     },
     "metadata": {},
     "execution_count": 33
    }
   ],
   "source": [
    "# import libraries\n",
    "import pandas as pd\n",
    "import numpy as np\n",
    "from sqlalchemy import create_engine\n",
    "\n",
    "import nltk\n",
    "nltk.download(['punkt', 'wordnet', 'averaged_perceptron_tagger'])\n"
   ]
  },
  {
   "cell_type": "code",
   "execution_count": 84,
   "metadata": {},
   "outputs": [],
   "source": [
    "import re\n",
    "from nltk.tokenize import word_tokenize\n",
    "from nltk.stem import WordNetLemmatizer\n",
    "import joblib\n",
    "from sklearn.metrics import classification_report\n",
    "from sklearn.model_selection import GridSearchCV\n",
    "from sklearn.ensemble import AdaBoostClassifier, RandomForestClassifier\n",
    "from sklearn.model_selection import train_test_split\n",
    "from sklearn.pipeline import Pipeline, FeatureUnion\n",
    "from sklearn.base import BaseEstimator, TransformerMixin\n",
    "from sklearn.feature_extraction.text import CountVectorizer, TfidfTransformer\n",
    "from sklearn.multioutput import MultiOutputClassifier\n",
    "from sklearn.naive_bayes import MultinomialNB\n",
    "\n",
    "import matplotlib.pyplot as plt"
   ]
  },
  {
   "cell_type": "code",
   "execution_count": 35,
   "metadata": {},
   "outputs": [
    {
     "output_type": "execute_result",
     "data": {
      "text/plain": "   id                                            message  \\\n0   2  Weather update - a cold front from Cuba that c...   \n1   7            Is the Hurricane over or is it not over   \n2   8                    Looking for someone but no name   \n3   9  UN reports Leogane 80-90 destroyed. Only Hospi...   \n4  12  says: west side of Haiti, rest of the country ...   \n\n                                            original   genre  related  \\\n0  Un front froid se retrouve sur Cuba ce matin. ...  direct        1   \n1                 Cyclone nan fini osinon li pa fini  direct        1   \n2  Patnm, di Maryani relem pou li banm nouvel li ...  direct        1   \n3  UN reports Leogane 80-90 destroyed. Only Hospi...  direct        1   \n4  facade ouest d Haiti et le reste du pays aujou...  direct        1   \n\n   request  offer  aid_related  medical_help  medical_products  ...  \\\n0        0      0            0             0                 0  ...   \n1        0      0            1             0                 0  ...   \n2        0      0            0             0                 0  ...   \n3        1      0            1             0                 1  ...   \n4        0      0            0             0                 0  ...   \n\n   aid_centers  other_infrastructure  weather_related  floods  storm  fire  \\\n0            0                     0                0       0      0     0   \n1            0                     0                1       0      1     0   \n2            0                     0                0       0      0     0   \n3            0                     0                0       0      0     0   \n4            0                     0                0       0      0     0   \n\n   earthquake  cold  other_weather  direct_report  \n0           0     0              0              0  \n1           0     0              0              0  \n2           0     0              0              0  \n3           0     0              0              0  \n4           0     0              0              0  \n\n[5 rows x 39 columns]",
      "text/html": "<div>\n<style scoped>\n    .dataframe tbody tr th:only-of-type {\n        vertical-align: middle;\n    }\n\n    .dataframe tbody tr th {\n        vertical-align: top;\n    }\n\n    .dataframe thead th {\n        text-align: right;\n    }\n</style>\n<table border=\"1\" class=\"dataframe\">\n  <thead>\n    <tr style=\"text-align: right;\">\n      <th></th>\n      <th>id</th>\n      <th>message</th>\n      <th>original</th>\n      <th>genre</th>\n      <th>related</th>\n      <th>request</th>\n      <th>offer</th>\n      <th>aid_related</th>\n      <th>medical_help</th>\n      <th>medical_products</th>\n      <th>...</th>\n      <th>aid_centers</th>\n      <th>other_infrastructure</th>\n      <th>weather_related</th>\n      <th>floods</th>\n      <th>storm</th>\n      <th>fire</th>\n      <th>earthquake</th>\n      <th>cold</th>\n      <th>other_weather</th>\n      <th>direct_report</th>\n    </tr>\n  </thead>\n  <tbody>\n    <tr>\n      <th>0</th>\n      <td>2</td>\n      <td>Weather update - a cold front from Cuba that c...</td>\n      <td>Un front froid se retrouve sur Cuba ce matin. ...</td>\n      <td>direct</td>\n      <td>1</td>\n      <td>0</td>\n      <td>0</td>\n      <td>0</td>\n      <td>0</td>\n      <td>0</td>\n      <td>...</td>\n      <td>0</td>\n      <td>0</td>\n      <td>0</td>\n      <td>0</td>\n      <td>0</td>\n      <td>0</td>\n      <td>0</td>\n      <td>0</td>\n      <td>0</td>\n      <td>0</td>\n    </tr>\n    <tr>\n      <th>1</th>\n      <td>7</td>\n      <td>Is the Hurricane over or is it not over</td>\n      <td>Cyclone nan fini osinon li pa fini</td>\n      <td>direct</td>\n      <td>1</td>\n      <td>0</td>\n      <td>0</td>\n      <td>1</td>\n      <td>0</td>\n      <td>0</td>\n      <td>...</td>\n      <td>0</td>\n      <td>0</td>\n      <td>1</td>\n      <td>0</td>\n      <td>1</td>\n      <td>0</td>\n      <td>0</td>\n      <td>0</td>\n      <td>0</td>\n      <td>0</td>\n    </tr>\n    <tr>\n      <th>2</th>\n      <td>8</td>\n      <td>Looking for someone but no name</td>\n      <td>Patnm, di Maryani relem pou li banm nouvel li ...</td>\n      <td>direct</td>\n      <td>1</td>\n      <td>0</td>\n      <td>0</td>\n      <td>0</td>\n      <td>0</td>\n      <td>0</td>\n      <td>...</td>\n      <td>0</td>\n      <td>0</td>\n      <td>0</td>\n      <td>0</td>\n      <td>0</td>\n      <td>0</td>\n      <td>0</td>\n      <td>0</td>\n      <td>0</td>\n      <td>0</td>\n    </tr>\n    <tr>\n      <th>3</th>\n      <td>9</td>\n      <td>UN reports Leogane 80-90 destroyed. Only Hospi...</td>\n      <td>UN reports Leogane 80-90 destroyed. Only Hospi...</td>\n      <td>direct</td>\n      <td>1</td>\n      <td>1</td>\n      <td>0</td>\n      <td>1</td>\n      <td>0</td>\n      <td>1</td>\n      <td>...</td>\n      <td>0</td>\n      <td>0</td>\n      <td>0</td>\n      <td>0</td>\n      <td>0</td>\n      <td>0</td>\n      <td>0</td>\n      <td>0</td>\n      <td>0</td>\n      <td>0</td>\n    </tr>\n    <tr>\n      <th>4</th>\n      <td>12</td>\n      <td>says: west side of Haiti, rest of the country ...</td>\n      <td>facade ouest d Haiti et le reste du pays aujou...</td>\n      <td>direct</td>\n      <td>1</td>\n      <td>0</td>\n      <td>0</td>\n      <td>0</td>\n      <td>0</td>\n      <td>0</td>\n      <td>...</td>\n      <td>0</td>\n      <td>0</td>\n      <td>0</td>\n      <td>0</td>\n      <td>0</td>\n      <td>0</td>\n      <td>0</td>\n      <td>0</td>\n      <td>0</td>\n      <td>0</td>\n    </tr>\n  </tbody>\n</table>\n<p>5 rows × 39 columns</p>\n</div>"
     },
     "metadata": {},
     "execution_count": 35
    }
   ],
   "source": [
    "# load data from database\n",
    "engine = create_engine('sqlite:///./data/DisasterResponse.db')\n",
    "df = pd.read_sql(\"SELECT * FROM DisasterResponseTable\", engine)\n",
    "df.head()"
   ]
  },
  {
   "cell_type": "code",
   "execution_count": 36,
   "metadata": {},
   "outputs": [],
   "source": [
    "X = df['message']\n",
    "Y = df.iloc[:, 4:]"
   ]
  },
  {
   "cell_type": "markdown",
   "metadata": {},
   "source": [
    "### 2. Write a tokenization function to process your text data"
   ]
  },
  {
   "cell_type": "code",
   "execution_count": 38,
   "metadata": {},
   "outputs": [],
   "source": [
    "url_regex = 'http[s]?://(?:[a-zA-Z]|[0-9]|[$-_@.&+]|[!*\\(\\),]|(?:%[0-9a-fA-F][0-9a-fA-F]))+'"
   ]
  },
  {
   "cell_type": "code",
   "execution_count": 39,
   "metadata": {},
   "outputs": [],
   "source": [
    "def tokenize(text):\n",
    "    # get list of all urls using regex\n",
    "    detected_urls = re.findall(url_regex, text)\n",
    "    \n",
    "    # replace each url in text string with placeholder\n",
    "    for url in detected_urls:\n",
    "        text = text.replace(url, 'urlplaceholder')\n",
    "\n",
    "    # tokenize text\n",
    "    tokens = word_tokenize(text)\n",
    "    \n",
    "    # initiate lemmatizer\n",
    "    lemmatizer = WordNetLemmatizer()\n",
    "\n",
    "    # lemmatize, normalize case, and remove leading/trailing white space\n",
    "    clean_tokens = [lemmatizer.lemmatize(tok).lower().strip() for tok in tokens]\n",
    "\n",
    "    return clean_tokens"
   ]
  },
  {
   "cell_type": "code",
   "execution_count": 40,
   "metadata": {},
   "outputs": [],
   "source": [
    "class StartingVerbExtractor(BaseEstimator, TransformerMixin):\n",
    "\n",
    "    def starting_verb(self, text):\n",
    "        sentence_list = nltk.sent_tokenize(text)\n",
    "        for sentence in sentence_list:\n",
    "            pos_tags = nltk.pos_tag(tokenize(sentence))\n",
    "            first_word, first_tag = pos_tags[0]\n",
    "            if first_tag in ['VB', 'VBP'] or first_word == 'RT':\n",
    "                return True\n",
    "        return False\n",
    "\n",
    "    def fit(self, X, y=None):\n",
    "        return self\n",
    "\n",
    "    def transform(self, X):\n",
    "        X_tagged = pd.Series(X).apply(self.starting_verb)\n",
    "        return pd.DataFrame(X_tagged)"
   ]
  },
  {
   "cell_type": "markdown",
   "metadata": {},
   "source": [
    "### 3. Build a machine learning pipeline\n",
    "This machine pipeline should take in the `message` column as input and output classification results on the other 36 categories in the dataset. You may find the [MultiOutputClassifier](http://scikit-learn.org/stable/modules/generated/sklearn.multioutput.MultiOutputClassifier.html) helpful for predicting multiple target variables."
   ]
  },
  {
   "cell_type": "code",
   "execution_count": 41,
   "metadata": {},
   "outputs": [
    {
     "output_type": "execute_result",
     "data": {
      "text/plain": "['./models/classifier_without_cv.pkl']"
     },
     "metadata": {},
     "execution_count": 41
    }
   ],
   "source": [
    "pipeline = Pipeline([\n",
    "    ('features', FeatureUnion([\n",
    "\n",
    "        ('text_pipeline', Pipeline([\n",
    "            ('vect', CountVectorizer(tokenizer=tokenize)),\n",
    "            ('tfidf', TfidfTransformer())\n",
    "        ])),\n",
    "\n",
    "        ('starting_verb', StartingVerbExtractor())\n",
    "    ])),\n",
    "\n",
    "    ('clf', MultiOutputClassifier(AdaBoostClassifier()))\n",
    "])\n",
    "\n",
    "joblib.dump(pipeline, './models/classifier_without_cv.pkl')"
   ]
  },
  {
   "cell_type": "markdown",
   "metadata": {},
   "source": [
    "### 4. Train pipeline\n",
    "- Split data into train and test sets\n",
    "- Train pipeline"
   ]
  },
  {
   "cell_type": "code",
   "execution_count": 42,
   "metadata": {},
   "outputs": [],
   "source": [
    "X_train, X_test, y_train, y_test = train_test_split(X, Y)"
   ]
  },
  {
   "cell_type": "code",
   "execution_count": 43,
   "metadata": {},
   "outputs": [
    {
     "output_type": "execute_result",
     "data": {
      "text/plain": "Pipeline(steps=[('features',\n                 FeatureUnion(transformer_list=[('text_pipeline',\n                                                 Pipeline(steps=[('vect',\n                                                                  CountVectorizer(tokenizer=<function tokenize at 0x0000016233C60160>)),\n                                                                 ('tfidf',\n                                                                  TfidfTransformer())])),\n                                                ('starting_verb',\n                                                 StartingVerbExtractor())])),\n                ('clf', MultiOutputClassifier(estimator=AdaBoostClassifier()))])"
     },
     "metadata": {},
     "execution_count": 43
    }
   ],
   "source": [
    "pipeline.fit(X_train, y_train)"
   ]
  },
  {
   "cell_type": "markdown",
   "metadata": {},
   "source": [
    "### 5. Test your model\n",
    "Report the f1 score, precision and recall for each output category of the dataset. You can do this by iterating through the columns and calling sklearn's `classification_report` on each."
   ]
  },
  {
   "cell_type": "code",
   "execution_count": 44,
   "metadata": {
    "tags": []
   },
   "outputs": [
    {
     "output_type": "stream",
     "name": "stdout",
     "text": "precision    recall  f1-score   support\n\n               related       0.83      0.94      0.88      5006\n               request       0.79      0.55      0.65      1142\n                 offer       0.00      0.00      0.00        31\n           aid_related       0.76      0.60      0.67      2718\n          medical_help       0.61      0.26      0.36       501\n      medical_products       0.62      0.33      0.43       315\n     search_and_rescue       0.63      0.22      0.33       174\n              security       0.29      0.07      0.11        99\n              military       0.54      0.37      0.44       190\n                 water       0.74      0.63      0.68       434\n                  food       0.78      0.66      0.72       767\n               shelter       0.80      0.58      0.67       593\n              clothing       0.68      0.49      0.57       101\n                 money       0.49      0.27      0.35       143\n        missing_people       0.59      0.13      0.22        75\n              refugees       0.58      0.24      0.34       233\n                 death       0.76      0.43      0.55       302\n             other_aid       0.52      0.12      0.19       859\ninfrastructure_related       0.45      0.10      0.17       407\n             transport       0.73      0.20      0.32       274\n             buildings       0.70      0.43      0.53       321\n           electricity       0.59      0.31      0.41       119\n                 tools       0.12      0.03      0.04        39\n             hospitals       0.32      0.10      0.15        59\n                 shops       0.00      0.00      0.00        28\n           aid_centers       0.33      0.08      0.13        74\n  other_infrastructure       0.31      0.09      0.14       280\n       weather_related       0.83      0.65      0.73      1768\n                floods       0.84      0.57      0.68       517\n                 storm       0.73      0.48      0.58       607\n                  fire       0.54      0.19      0.29        67\n            earthquake       0.88      0.75      0.81       587\n                  cold       0.65      0.37      0.47       121\n         other_weather       0.49      0.15      0.23       366\n         direct_report       0.74      0.49      0.59      1291\n\n             micro avg       0.77      0.58      0.67     20608\n             macro avg       0.58      0.34      0.41     20608\n          weighted avg       0.74      0.58      0.63     20608\n           samples avg       0.63      0.50      0.52     20608\n\n"
    }
   ],
   "source": [
    "y_pred = pipeline.predict(X_test)\n",
    "print(classification_report(y_test, y_pred, target_names=Y.columns.values))"
   ]
  },
  {
   "cell_type": "code",
   "execution_count": 45,
   "metadata": {
    "tags": []
   },
   "outputs": [
    {
     "output_type": "stream",
     "name": "stdout",
     "text": "precision    recall  f1-score   support\n\n               related       0.83      0.94      0.88     15087\n               request       0.80      0.55      0.65      3332\n                 offer       0.44      0.08      0.14        87\n           aid_related       0.77      0.61      0.68      8142\n          medical_help       0.65      0.29      0.40      1583\n      medical_products       0.67      0.35      0.46       998\n     search_and_rescue       0.64      0.22      0.32       550\n              security       0.37      0.06      0.10       372\n              military       0.67      0.36      0.47       670\n                 water       0.79      0.65      0.71      1238\n                  food       0.82      0.70      0.76      2156\n               shelter       0.79      0.55      0.64      1721\n              clothing       0.79      0.51      0.62       304\n                 money       0.68      0.33      0.44       461\n        missing_people       0.68      0.18      0.29       223\n              refugees       0.67      0.27      0.39       642\n                 death       0.78      0.47      0.59       892\n             other_aid       0.56      0.15      0.24      2587\ninfrastructure_related       0.51      0.11      0.18      1298\n             transport       0.78      0.25      0.38       927\n             buildings       0.68      0.40      0.51      1012\n           electricity       0.64      0.35      0.45       413\n                 tools       0.44      0.09      0.15       120\n             hospitals       0.53      0.11      0.18       224\n                 shops       0.62      0.11      0.19        92\n           aid_centers       0.53      0.14      0.22       235\n  other_infrastructure       0.41      0.10      0.17       871\n       weather_related       0.86      0.68      0.76      5529\n                floods       0.88      0.56      0.69      1638\n                 storm       0.79      0.51      0.62      1836\n                  fire       0.68      0.24      0.36       215\n            earthquake       0.90      0.79      0.84      1868\n                  cold       0.80      0.42      0.55       409\n         other_weather       0.55      0.18      0.27      1010\n         direct_report       0.75      0.50      0.60      3784\n\n             micro avg       0.80      0.60      0.68     62526\n             macro avg       0.68      0.37      0.45     62526\n          weighted avg       0.77      0.60      0.65     62526\n           samples avg       0.65      0.52      0.53     62526\n\n"
    }
   ],
   "source": [
    "y_true = pipeline.predict(X_train)\n",
    "print(classification_report(y_train, y_true, target_names=Y.columns.values))"
   ]
  },
  {
   "cell_type": "markdown",
   "metadata": {},
   "source": [
    "### 6. Improve your model\n",
    "Use grid search to find better parameters. "
   ]
  },
  {
   "cell_type": "code",
   "execution_count": 23,
   "metadata": {},
   "outputs": [],
   "source": [
    "parameters = {\n",
    "    'clf__estimator__n_estimators': [50, 100],\n",
    "    'clf__estimator__learning_rate': [0.01, 0.1],\n",
    "}\n",
    "\n",
    "cv = GridSearchCV(pipeline, param_grid=parameters, verbose=2, n_jobs=-1)"
   ]
  },
  {
   "cell_type": "markdown",
   "metadata": {},
   "source": [
    "### 7. Test your model\n",
    "Show the accuracy, precision, and recall of the tuned model.  \n",
    "\n",
    "Since this project focuses on code quality, process, and  pipelines, there is no minimum performance metric needed to pass. However, make sure to fine tune your models for accuracy, precision and recall to make your project stand out - especially for your portfolio!"
   ]
  },
  {
   "cell_type": "code",
   "execution_count": 24,
   "metadata": {
    "scrolled": false,
    "tags": []
   },
   "outputs": [
    {
     "output_type": "stream",
     "name": "stdout",
     "text": "Fitting 5 folds for each of 4 candidates, totalling 20 fits\n[Parallel(n_jobs=-1)]: Using backend LokyBackend with 8 concurrent workers.\n[Parallel(n_jobs=-1)]: Done  16 out of  20 | elapsed: 17.7min remaining:  4.4min\n[Parallel(n_jobs=-1)]: Done  20 out of  20 | elapsed: 21.1min finished\n"
    },
    {
     "output_type": "execute_result",
     "data": {
      "text/plain": "GridSearchCV(estimator=Pipeline(steps=[('features',\n                                        FeatureUnion(transformer_list=[('text_pipeline',\n                                                                        Pipeline(steps=[('vect',\n                                                                                         CountVectorizer(tokenizer=<function tokenize at 0x000001DCA516D3A0>)),\n                                                                                        ('tfidf',\n                                                                                         TfidfTransformer())])),\n                                                                       ('starting_verb',\n                                                                        StartingVerbExtractor())])),\n                                       ('clf',\n                                        MultiOutputClassifier(estimator=AdaBoostClassifier()))]),\n             n_jobs=-1,\n             param_grid={'clf__estimator__learning_rate': [0.01, 0.1],\n                         'clf__estimator__n_estimators': [50, 100]},\n             verbose=2)"
     },
     "metadata": {},
     "execution_count": 24
    }
   ],
   "source": [
    "cv.fit(X_train, y_train)"
   ]
  },
  {
   "cell_type": "code",
   "execution_count": 26,
   "metadata": {},
   "outputs": [],
   "source": [
    "best_model = cv.best_estimator_"
   ]
  },
  {
   "cell_type": "code",
   "execution_count": 27,
   "metadata": {
    "tags": []
   },
   "outputs": [
    {
     "output_type": "stream",
     "name": "stdout",
     "text": "precision    recall  f1-score   support\n\n               related       0.78      1.00      0.87      5051\n               request       0.84      0.40      0.55      1129\n                 offer       0.00      0.00      0.00        24\n           aid_related       0.77      0.44      0.56      2717\n          medical_help       0.66      0.09      0.16       504\n      medical_products       0.71      0.12      0.21       336\n     search_and_rescue       0.67      0.07      0.13       165\n              security       0.00      0.00      0.00       118\n              military       0.65      0.05      0.10       208\n                 water       0.76      0.54      0.64       437\n                  food       0.77      0.67      0.72       707\n               shelter       0.86      0.41      0.55       604\n              clothing       0.70      0.30      0.42        99\n                 money       0.82      0.12      0.21       152\n        missing_people       0.71      0.06      0.12        79\n              refugees       0.59      0.09      0.15       222\n                 death       0.82      0.15      0.26       323\n             other_aid       0.48      0.02      0.04       890\ninfrastructure_related       0.44      0.01      0.02       459\n             transport       0.78      0.10      0.18       285\n             buildings       0.70      0.23      0.35       314\n           electricity       0.48      0.07      0.13       138\n                 tools       0.00      0.00      0.00        45\n             hospitals       0.50      0.01      0.03        76\n                 shops       0.00      0.00      0.00        30\n           aid_centers       0.50      0.01      0.02        84\n  other_infrastructure       0.33      0.00      0.01       313\n       weather_related       0.91      0.49      0.64      1817\n                floods       0.90      0.48      0.62       530\n                 storm       0.85      0.27      0.41       604\n                  fire       0.60      0.04      0.08        68\n            earthquake       0.90      0.78      0.83       612\n                  cold       0.73      0.14      0.24       133\n         other_weather       0.60      0.01      0.02       324\n         direct_report       0.80      0.34      0.48      1287\n\n             micro avg       0.79      0.49      0.61     20884\n             macro avg       0.62      0.22      0.28     20884\n          weighted avg       0.75      0.49      0.54     20884\n           samples avg       0.72      0.48      0.52     20884\n\n"
    }
   ],
   "source": [
    "y_pred = best_model.predict(X_test)\n",
    "print(classification_report(y_test, y_pred, target_names=Y.columns.values))"
   ]
  },
  {
   "cell_type": "code",
   "execution_count": 28,
   "metadata": {
    "tags": []
   },
   "outputs": [
    {
     "output_type": "stream",
     "name": "stdout",
     "text": "precision    recall  f1-score   support\n\n               related       0.77      1.00      0.87     15043\n               request       0.84      0.39      0.53      3345\n                 offer       0.00      0.00      0.00        94\n           aid_related       0.79      0.45      0.57      8143\n          medical_help       0.71      0.08      0.14      1580\n      medical_products       0.80      0.13      0.23       977\n     search_and_rescue       0.88      0.08      0.15       559\n              security       0.00      0.00      0.00       353\n              military       0.76      0.06      0.12       652\n                 water       0.82      0.58      0.68      1235\n                  food       0.78      0.71      0.74      2216\n               shelter       0.85      0.40      0.55      1710\n              clothing       0.81      0.32      0.46       306\n                 money       0.83      0.08      0.14       452\n        missing_people       0.88      0.10      0.17       219\n              refugees       0.79      0.10      0.17       653\n                 death       0.82      0.13      0.23       871\n             other_aid       0.67      0.02      0.04      2556\ninfrastructure_related       0.83      0.01      0.02      1246\n             transport       0.82      0.10      0.17       916\n             buildings       0.77      0.19      0.30      1019\n           electricity       0.79      0.11      0.20       394\n                 tools       1.00      0.01      0.02       114\n             hospitals       0.44      0.02      0.04       207\n                 shops       1.00      0.02      0.04        90\n           aid_centers       1.00      0.01      0.03       225\n  other_infrastructure       0.57      0.00      0.01       838\n       weather_related       0.90      0.48      0.63      5480\n                floods       0.92      0.49      0.64      1625\n                 storm       0.79      0.27      0.40      1839\n                  fire       0.80      0.04      0.07       214\n            earthquake       0.90      0.74      0.81      1843\n                  cold       0.83      0.18      0.30       397\n         other_weather       0.56      0.02      0.03      1052\n         direct_report       0.81      0.34      0.48      3788\n\n             micro avg       0.80      0.49      0.61     62251\n             macro avg       0.76      0.22      0.28     62251\n          weighted avg       0.79      0.49      0.54     62251\n           samples avg       0.72      0.48      0.52     62251\n\n"
    }
   ],
   "source": [
    "y_true = best_model.predict(X_train)\n",
    "print(classification_report(y_train, y_true, target_names=Y.columns.values))"
   ]
  },
  {
   "cell_type": "markdown",
   "metadata": {},
   "source": [
    "### 8. Try improving your model further. Here are a few ideas:\n",
    "* try other machine learning algorithms\n",
    "* add other features besides the TF-IDF"
   ]
  },
  {
   "cell_type": "code",
   "execution_count": null,
   "metadata": {},
   "outputs": [],
   "source": []
  },
  {
   "cell_type": "markdown",
   "metadata": {},
   "source": [
    "### 9. Export your model as a pickle file"
   ]
  },
  {
   "cell_type": "code",
   "execution_count": 34,
   "metadata": {},
   "outputs": [
    {
     "output_type": "execute_result",
     "data": {
      "text/plain": "['classifier.pkl']"
     },
     "metadata": {},
     "execution_count": 34
    }
   ],
   "source": [
    "import joblib\n",
    "joblib.dump(best_model, 'classifier.pkl')"
   ]
  },
  {
   "cell_type": "code",
   "execution_count": 46,
   "metadata": {},
   "outputs": [],
   "source": [
    "parameters = {\n",
    "    'features__text_pipeline__vect__ngram_range': ((1, 1), (1, 2)),\n",
    "    'features__text_pipeline__vect__max_df': (0.75, 1.0),\n",
    "    'features__text_pipeline__vect__max_features': (None, 5000),\n",
    "    'features__text_pipeline__tfidf__use_idf': (True, False),\n",
    "}\n",
    "\n",
    "cv = GridSearchCV(pipeline, param_grid=parameters, verbose=2, n_jobs=-1)"
   ]
  },
  {
   "cell_type": "code",
   "execution_count": 47,
   "metadata": {
    "tags": []
   },
   "outputs": [
    {
     "output_type": "stream",
     "name": "stdout",
     "text": "Fitting 5 folds for each of 16 candidates, totalling 80 fits\n[Parallel(n_jobs=-1)]: Using backend LokyBackend with 8 concurrent workers.\n[Parallel(n_jobs=-1)]: Done  25 tasks      | elapsed: 22.3min\n[Parallel(n_jobs=-1)]: Done  80 out of  80 | elapsed: 66.1min finished\n"
    },
    {
     "output_type": "execute_result",
     "data": {
      "text/plain": "GridSearchCV(estimator=Pipeline(steps=[('features',\n                                        FeatureUnion(transformer_list=[('text_pipeline',\n                                                                        Pipeline(steps=[('vect',\n                                                                                         CountVectorizer(tokenizer=<function tokenize at 0x0000016233C60160>)),\n                                                                                        ('tfidf',\n                                                                                         TfidfTransformer())])),\n                                                                       ('starting_verb',\n                                                                        StartingVerbExtractor())])),\n                                       ('clf',\n                                        MultiOutputClassifier(estimator=AdaBoostClassifier()))]),\n             n_jobs=-1,\n             param_grid={'features__text_pipeline__tfidf__use_idf': (True,\n                                                                     False),\n                         'features__text_pipeline__vect__max_df': (0.75, 1.0),\n                         'features__text_pipeline__vect__max_features': (None,\n                                                                         5000),\n                         'features__text_pipeline__vect__ngram_range': ((1, 1),\n                                                                        (1,\n                                                                         2))},\n             verbose=2)"
     },
     "metadata": {},
     "execution_count": 47
    }
   ],
   "source": [
    "cv.fit(X_train, y_train)"
   ]
  },
  {
   "cell_type": "code",
   "execution_count": 48,
   "metadata": {},
   "outputs": [],
   "source": [
    "best_model = cv.best_estimator_"
   ]
  },
  {
   "cell_type": "code",
   "execution_count": 60,
   "metadata": {},
   "outputs": [
    {
     "output_type": "execute_result",
     "data": {
      "text/plain": "{'features__text_pipeline__tfidf__use_idf': True,\n 'features__text_pipeline__vect__max_df': 0.75,\n 'features__text_pipeline__vect__max_features': 5000,\n 'features__text_pipeline__vect__ngram_range': (1, 1)}"
     },
     "metadata": {},
     "execution_count": 60
    }
   ],
   "source": [
    "cv.best_params_"
   ]
  },
  {
   "cell_type": "code",
   "execution_count": 49,
   "metadata": {},
   "outputs": [
    {
     "output_type": "execute_result",
     "data": {
      "text/plain": "['classifier2.pkl']"
     },
     "metadata": {},
     "execution_count": 49
    }
   ],
   "source": [
    "joblib.dump(best_model, 'classifier2.pkl')"
   ]
  },
  {
   "cell_type": "code",
   "execution_count": 50,
   "metadata": {
    "tags": []
   },
   "outputs": [
    {
     "output_type": "stream",
     "name": "stdout",
     "text": "precision    recall  f1-score   support\n\n               related       0.82      0.94      0.88      5006\n               request       0.77      0.54      0.63      1142\n                 offer       0.00      0.00      0.00        31\n           aid_related       0.77      0.59      0.67      2718\n          medical_help       0.63      0.28      0.39       501\n      medical_products       0.62      0.32      0.42       315\n     search_and_rescue       0.66      0.24      0.35       174\n              security       0.38      0.08      0.13        99\n              military       0.56      0.36      0.44       190\n                 water       0.73      0.61      0.67       434\n                  food       0.80      0.63      0.71       767\n               shelter       0.80      0.56      0.66       593\n              clothing       0.68      0.43      0.52       101\n                 money       0.52      0.27      0.35       143\n        missing_people       0.54      0.19      0.28        75\n              refugees       0.60      0.20      0.30       233\n                 death       0.76      0.46      0.57       302\n             other_aid       0.52      0.13      0.21       859\ninfrastructure_related       0.42      0.09      0.14       407\n             transport       0.77      0.22      0.34       274\n             buildings       0.71      0.42      0.53       321\n           electricity       0.58      0.27      0.37       119\n                 tools       0.00      0.00      0.00        39\n             hospitals       0.23      0.08      0.12        59\n                 shops       0.00      0.00      0.00        28\n           aid_centers       0.24      0.05      0.09        74\n  other_infrastructure       0.36      0.09      0.15       280\n       weather_related       0.83      0.65      0.73      1768\n                floods       0.84      0.56      0.67       517\n                 storm       0.72      0.49      0.58       607\n                  fire       0.60      0.22      0.33        67\n            earthquake       0.88      0.76      0.82       587\n                  cold       0.58      0.27      0.37       121\n         other_weather       0.54      0.16      0.24       366\n         direct_report       0.75      0.48      0.58      1291\n\n             micro avg       0.78      0.58      0.66     20608\n             macro avg       0.58      0.33      0.41     20608\n          weighted avg       0.74      0.58      0.63     20608\n           samples avg       0.64      0.50      0.52     20608\n\n"
    }
   ],
   "source": [
    "y_pred = best_model.predict(X_test)\n",
    "print(classification_report(y_test, y_pred, target_names=Y.columns.values))"
   ]
  },
  {
   "cell_type": "code",
   "execution_count": 51,
   "metadata": {
    "tags": []
   },
   "outputs": [
    {
     "output_type": "stream",
     "name": "stdout",
     "text": "['related' 'request' 'aid_related' 'shelter' 'buildings' 'weather_related'\n 'fire']\n"
    }
   ],
   "source": [
    "msg = ['Hello I see fire in the street and many houses are destroyed, homeless people everywhere']\n",
    "test_output = best_model.predict(msg)\n",
    "print(y_train.columns.values[(test_output.flatten()==1)])"
   ]
  },
  {
   "cell_type": "markdown",
   "metadata": {},
   "source": [
    "### 10. Use this notebook to complete `train.py`\n",
    "Use the template file attached in the Resources folder to write a script that runs the steps above to create a database and export a model based on a new dataset specified by the user."
   ]
  },
  {
   "cell_type": "code",
   "execution_count": 64,
   "metadata": {},
   "outputs": [],
   "source": [
    "parameters = { \n",
    " \t'features__text_pipeline__vect__max_features': [5000, 3000, 1000],\n",
    " \t'features__text_pipeline__vect__ngram_range': ((1,1),(1,2)),\n",
    " \t'features__text_pipeline__tfidf__use_idf': (True, False)\n",
    "}\n",
    "\n",
    "cv = GridSearchCV(pipeline, param_grid=parameters, verbose=2, n_jobs=-1)"
   ]
  },
  {
   "cell_type": "code",
   "execution_count": 65,
   "metadata": {
    "tags": []
   },
   "outputs": [
    {
     "output_type": "stream",
     "name": "stdout",
     "text": "Fitting 5 folds for each of 12 candidates, totalling 60 fits\n[Parallel(n_jobs=-1)]: Using backend LokyBackend with 8 concurrent workers.\n[Parallel(n_jobs=-1)]: Done  25 tasks      | elapsed: 19.3min\n[Parallel(n_jobs=-1)]: Done  60 out of  60 | elapsed: 36.4min finished\n"
    },
    {
     "output_type": "execute_result",
     "data": {
      "text/plain": "GridSearchCV(estimator=Pipeline(steps=[('features',\n                                        FeatureUnion(transformer_list=[('text_pipeline',\n                                                                        Pipeline(steps=[('vect',\n                                                                                         CountVectorizer(tokenizer=<function tokenize at 0x0000016233C60160>)),\n                                                                                        ('tfidf',\n                                                                                         TfidfTransformer())])),\n                                                                       ('starting_verb',\n                                                                        StartingVerbExtractor())])),\n                                       ('clf',\n                                        MultiOutputClassifier(estimator=AdaBoostClassifier()))]),\n             n_jobs=-1,\n             param_grid={'features__text_pipeline__tfidf__use_idf': (True,\n                                                                     False),\n                         'features__text_pipeline__vect__max_features': [5000,\n                                                                         3000,\n                                                                         1000],\n                         'features__text_pipeline__vect__ngram_range': ((1, 1),\n                                                                        (1,\n                                                                         2))},\n             verbose=2)"
     },
     "metadata": {},
     "execution_count": 65
    }
   ],
   "source": [
    "cv.fit(X_train, y_train)"
   ]
  },
  {
   "cell_type": "code",
   "execution_count": 66,
   "metadata": {},
   "outputs": [
    {
     "output_type": "execute_result",
     "data": {
      "text/plain": "{'features__text_pipeline__tfidf__use_idf': True,\n 'features__text_pipeline__vect__max_features': 1000,\n 'features__text_pipeline__vect__ngram_range': (1, 1)}"
     },
     "metadata": {},
     "execution_count": 66
    }
   ],
   "source": [
    "cv.best_params_"
   ]
  },
  {
   "cell_type": "code",
   "execution_count": 67,
   "metadata": {},
   "outputs": [],
   "source": [
    "best_model = cv.best_estimator_"
   ]
  },
  {
   "cell_type": "code",
   "execution_count": 69,
   "metadata": {},
   "outputs": [
    {
     "output_type": "execute_result",
     "data": {
      "text/plain": "['./models/classifier3.pkl']"
     },
     "metadata": {},
     "execution_count": 69
    }
   ],
   "source": [
    "joblib.dump(best_model, './models/classifier3.pkl')"
   ]
  },
  {
   "cell_type": "code",
   "execution_count": 70,
   "metadata": {
    "tags": []
   },
   "outputs": [
    {
     "output_type": "stream",
     "name": "stdout",
     "text": "precision    recall  f1-score   support\n\n               related       0.82      0.94      0.88      5006\n               request       0.79      0.55      0.65      1142\n                 offer       0.14      0.03      0.05        31\n           aid_related       0.76      0.61      0.68      2718\n          medical_help       0.60      0.24      0.35       501\n      medical_products       0.62      0.30      0.40       315\n     search_and_rescue       0.58      0.17      0.26       174\n              security       0.30      0.06      0.10        99\n              military       0.60      0.31      0.41       190\n                 water       0.72      0.59      0.65       434\n                  food       0.79      0.66      0.72       767\n               shelter       0.78      0.55      0.65       593\n              clothing       0.72      0.44      0.54       101\n                 money       0.52      0.25      0.34       143\n        missing_people       0.68      0.17      0.28        75\n              refugees       0.61      0.21      0.31       233\n                 death       0.76      0.42      0.54       302\n             other_aid       0.53      0.14      0.22       859\ninfrastructure_related       0.47      0.09      0.16       407\n             transport       0.68      0.27      0.39       274\n             buildings       0.72      0.42      0.53       321\n           electricity       0.64      0.29      0.40       119\n                 tools       0.20      0.03      0.05        39\n             hospitals       0.32      0.14      0.19        59\n                 shops       0.00      0.00      0.00        28\n           aid_centers       0.28      0.07      0.11        74\n  other_infrastructure       0.33      0.07      0.12       280\n       weather_related       0.84      0.65      0.73      1768\n                floods       0.85      0.54      0.66       517\n                 storm       0.72      0.53      0.61       607\n                  fire       0.71      0.18      0.29        67\n            earthquake       0.88      0.73      0.80       587\n                  cold       0.65      0.36      0.46       121\n         other_weather       0.50      0.14      0.22       366\n         direct_report       0.74      0.49      0.59      1291\n\n             micro avg       0.78      0.58      0.67     20608\n             macro avg       0.60      0.33      0.41     20608\n          weighted avg       0.74      0.58      0.63     20608\n           samples avg       0.64      0.50      0.52     20608\n\n"
    }
   ],
   "source": [
    "y_pred = best_model.predict(X_test)\n",
    "print(classification_report(y_test, y_pred, target_names=Y.columns.values))"
   ]
  },
  {
   "cell_type": "code",
   "execution_count": 83,
   "metadata": {
    "tags": []
   },
   "outputs": [
    {
     "output_type": "stream",
     "name": "stdout",
     "text": "['related' 'request' 'aid_related' 'shelter' 'buildings' 'weather_related'\n 'direct_report']\n"
    }
   ],
   "source": [
    "msg = ['Hello I see fire in the street and many houses are destroyed, homeless people everywhere']\n",
    "test_output = best_model.predict(msg)\n",
    "print(y_train.columns.values[(test_output.flatten()==1)])"
   ]
  },
  {
   "cell_type": "code",
   "execution_count": 73,
   "metadata": {},
   "outputs": [],
   "source": [
    "rf_pipeline = Pipeline([\n",
    "    ('features', FeatureUnion([\n",
    "\n",
    "        ('text_pipeline', Pipeline([\n",
    "            ('vect', CountVectorizer(tokenizer=tokenize)),\n",
    "            ('tfidf', TfidfTransformer())\n",
    "        ])),\n",
    "\n",
    "        ('starting_verb', StartingVerbExtractor())\n",
    "    ])),\n",
    "\n",
    "    ('clf', MultiOutputClassifier(RandomForestClassifier()))\n",
    "])"
   ]
  },
  {
   "cell_type": "code",
   "execution_count": 74,
   "metadata": {},
   "outputs": [],
   "source": [
    "rf_parameters = { \n",
    " \t'features__text_pipeline__vect__max_features': [5000, 3000, 1000],\n",
    " \t'features__text_pipeline__vect__ngram_range': ((1,1),(1,2)),\n",
    " \t'features__text_pipeline__tfidf__use_idf': (True, False)\n",
    "}\n",
    "\n",
    "rf_cv = GridSearchCV(rf_pipeline, param_grid=parameters, verbose=2, n_jobs=-1)"
   ]
  },
  {
   "cell_type": "code",
   "execution_count": 75,
   "metadata": {
    "tags": []
   },
   "outputs": [
    {
     "output_type": "stream",
     "name": "stdout",
     "text": "Fitting 5 folds for each of 12 candidates, totalling 60 fits\n[Parallel(n_jobs=-1)]: Using backend LokyBackend with 8 concurrent workers.\n[Parallel(n_jobs=-1)]: Done  25 tasks      | elapsed: 42.7min\n[Parallel(n_jobs=-1)]: Done  60 out of  60 | elapsed: 78.3min finished\n"
    },
    {
     "output_type": "execute_result",
     "data": {
      "text/plain": "GridSearchCV(estimator=Pipeline(steps=[('features',\n                                        FeatureUnion(transformer_list=[('text_pipeline',\n                                                                        Pipeline(steps=[('vect',\n                                                                                         CountVectorizer(tokenizer=<function tokenize at 0x0000016233C60160>)),\n                                                                                        ('tfidf',\n                                                                                         TfidfTransformer())])),\n                                                                       ('starting_verb',\n                                                                        StartingVerbExtractor())])),\n                                       ('clf',\n                                        MultiOutputClassifier(estimator=RandomForestClassifier()))]),\n             n_jobs=-1,\n             param_grid={'features__text_pipeline__tfidf__use_idf': (True,\n                                                                     False),\n                         'features__text_pipeline__vect__max_features': [5000,\n                                                                         3000,\n                                                                         1000],\n                         'features__text_pipeline__vect__ngram_range': ((1, 1),\n                                                                        (1,\n                                                                         2))},\n             verbose=2)"
     },
     "metadata": {},
     "execution_count": 75
    }
   ],
   "source": [
    "rf_cv.fit(X_train, y_train)"
   ]
  },
  {
   "cell_type": "code",
   "execution_count": 77,
   "metadata": {},
   "outputs": [
    {
     "output_type": "execute_result",
     "data": {
      "text/plain": "{'features__text_pipeline__tfidf__use_idf': False,\n 'features__text_pipeline__vect__max_features': 5000,\n 'features__text_pipeline__vect__ngram_range': (1, 2)}"
     },
     "metadata": {},
     "execution_count": 77
    }
   ],
   "source": [
    "rf_cv.best_params_"
   ]
  },
  {
   "cell_type": "code",
   "execution_count": 78,
   "metadata": {},
   "outputs": [],
   "source": [
    "best_rf_model = rf_cv.best_estimator_"
   ]
  },
  {
   "cell_type": "code",
   "execution_count": 79,
   "metadata": {},
   "outputs": [
    {
     "output_type": "execute_result",
     "data": {
      "text/plain": "['./models/rf_classifier1.pkl']"
     },
     "metadata": {},
     "execution_count": 79
    }
   ],
   "source": [
    "joblib.dump(best_rf_model, './models/rf_classifier1.pkl')"
   ]
  },
  {
   "cell_type": "code",
   "execution_count": 81,
   "metadata": {
    "tags": []
   },
   "outputs": [
    {
     "output_type": "stream",
     "name": "stdout",
     "text": "precision    recall  f1-score   support\n\n               related       0.82      0.96      0.88      5006\n               request       0.85      0.51      0.64      1142\n                 offer       0.00      0.00      0.00        31\n           aid_related       0.76      0.65      0.70      2718\n          medical_help       0.60      0.11      0.19       501\n      medical_products       0.83      0.20      0.33       315\n     search_and_rescue       0.73      0.09      0.16       174\n              security       0.00      0.00      0.00        99\n              military       0.54      0.07      0.12       190\n                 water       0.84      0.49      0.62       434\n                  food       0.80      0.71      0.75       767\n               shelter       0.80      0.53      0.64       593\n              clothing       0.66      0.23      0.34       101\n                 money       1.00      0.01      0.03       143\n        missing_people       0.00      0.00      0.00        75\n              refugees       0.77      0.04      0.08       233\n                 death       0.80      0.32      0.46       302\n             other_aid       0.58      0.04      0.08       859\ninfrastructure_related       0.00      0.00      0.00       407\n             transport       0.77      0.14      0.23       274\n             buildings       0.69      0.17      0.28       321\n           electricity       0.50      0.03      0.05       119\n                 tools       0.00      0.00      0.00        39\n             hospitals       0.00      0.00      0.00        59\n                 shops       0.00      0.00      0.00        28\n           aid_centers       0.00      0.00      0.00        74\n  other_infrastructure       0.00      0.00      0.00       280\n       weather_related       0.83      0.71      0.77      1768\n                floods       0.89      0.51      0.65       517\n                 storm       0.74      0.66      0.70       607\n                  fire       0.80      0.06      0.11        67\n            earthquake       0.89      0.78      0.83       587\n                  cold       0.65      0.14      0.23       121\n         other_weather       0.61      0.05      0.10       366\n         direct_report       0.80      0.41      0.54      1291\n\n             micro avg       0.80      0.56      0.66     20608\n             macro avg       0.56      0.25      0.30     20608\n          weighted avg       0.74      0.56      0.60     20608\n           samples avg       0.67      0.50      0.53     20608\n\n"
    }
   ],
   "source": [
    "y_pred = rf_cv.predict(X_test)\n",
    "print(classification_report(y_test, y_pred, target_names=Y.columns.values))"
   ]
  },
  {
   "cell_type": "code",
   "execution_count": 82,
   "metadata": {
    "tags": []
   },
   "outputs": [
    {
     "output_type": "stream",
     "name": "stdout",
     "text": "['related' 'aid_related' 'buildings']\n"
    }
   ],
   "source": [
    "msg = ['Hello I see fire in the street and many houses are destroyed, homeless people everywhere']\n",
    "test_output = best_rf_model.predict(msg)\n",
    "print(y_train.columns.values[(test_output.flatten()==1)])"
   ]
  },
  {
   "cell_type": "code",
   "execution_count": 85,
   "metadata": {},
   "outputs": [],
   "source": [
    "nb_pipeline = Pipeline([\n",
    "    ('features', FeatureUnion([\n",
    "\n",
    "        ('text_pipeline', Pipeline([\n",
    "            ('vect', CountVectorizer(tokenizer=tokenize)),\n",
    "            ('tfidf', TfidfTransformer())\n",
    "        ])),\n",
    "\n",
    "        ('starting_verb', StartingVerbExtractor())\n",
    "    ])),\n",
    "\n",
    "    ('clf', MultiOutputClassifier(MultinomialNB()))\n",
    "])"
   ]
  },
  {
   "cell_type": "code",
   "execution_count": 87,
   "metadata": {},
   "outputs": [],
   "source": [
    "nb_parameters = { \n",
    " \t'features__text_pipeline__vect__max_features': [5000, 3000, 1000],\n",
    " \t'features__text_pipeline__vect__ngram_range': ((1,1),(1,2)),\n",
    " \t'features__text_pipeline__tfidf__use_idf': (True, False)\n",
    "}\n",
    "\n",
    "nb_cv = GridSearchCV(nb_pipeline, param_grid=parameters, verbose=2, n_jobs=-1)"
   ]
  },
  {
   "cell_type": "code",
   "execution_count": 88,
   "metadata": {
    "tags": []
   },
   "outputs": [
    {
     "output_type": "stream",
     "name": "stdout",
     "text": "Fitting 5 folds for each of 12 candidates, totalling 60 fits\n[Parallel(n_jobs=-1)]: Using backend LokyBackend with 8 concurrent workers.\n[Parallel(n_jobs=-1)]: Done  25 tasks      | elapsed:  9.0min\n[Parallel(n_jobs=-1)]: Done  60 out of  60 | elapsed: 16.6min finished\n"
    },
    {
     "output_type": "execute_result",
     "data": {
      "text/plain": "GridSearchCV(estimator=Pipeline(steps=[('features',\n                                        FeatureUnion(transformer_list=[('text_pipeline',\n                                                                        Pipeline(steps=[('vect',\n                                                                                         CountVectorizer(tokenizer=<function tokenize at 0x0000016233C60160>)),\n                                                                                        ('tfidf',\n                                                                                         TfidfTransformer())])),\n                                                                       ('starting_verb',\n                                                                        StartingVerbExtractor())])),\n                                       ('clf',\n                                        MultiOutputClassifier(estimator=MultinomialNB()))]),\n             n_jobs=-1,\n             param_grid={'features__text_pipeline__tfidf__use_idf': (True,\n                                                                     False),\n                         'features__text_pipeline__vect__max_features': [5000,\n                                                                         3000,\n                                                                         1000],\n                         'features__text_pipeline__vect__ngram_range': ((1, 1),\n                                                                        (1,\n                                                                         2))},\n             verbose=2)"
     },
     "metadata": {},
     "execution_count": 88
    }
   ],
   "source": [
    "nb_cv.fit(X_train, y_train)"
   ]
  },
  {
   "cell_type": "code",
   "execution_count": 89,
   "metadata": {},
   "outputs": [
    {
     "output_type": "execute_result",
     "data": {
      "text/plain": "{'features__text_pipeline__tfidf__use_idf': True,\n 'features__text_pipeline__vect__max_features': 5000,\n 'features__text_pipeline__vect__ngram_range': (1, 2)}"
     },
     "metadata": {},
     "execution_count": 89
    }
   ],
   "source": [
    "nb_cv.best_params_"
   ]
  },
  {
   "cell_type": "code",
   "execution_count": 90,
   "metadata": {},
   "outputs": [],
   "source": [
    "best_nb_model = nb_cv.best_estimator_"
   ]
  },
  {
   "cell_type": "code",
   "execution_count": 91,
   "metadata": {},
   "outputs": [
    {
     "output_type": "execute_result",
     "data": {
      "text/plain": "['./models/nb_classifier1.pkl']"
     },
     "metadata": {},
     "execution_count": 91
    }
   ],
   "source": [
    "joblib.dump(best_nb_model, './models/nb_classifier1.pkl')"
   ]
  },
  {
   "cell_type": "code",
   "execution_count": 92,
   "metadata": {
    "tags": []
   },
   "outputs": [
    {
     "output_type": "stream",
     "name": "stdout",
     "text": "precision    recall  f1-score   support\n\n               related       0.84      0.93      0.88      5006\n               request       0.71      0.68      0.70      1142\n                 offer       0.00      0.00      0.00        31\n           aid_related       0.73      0.65      0.69      2718\n          medical_help       0.57      0.11      0.18       501\n      medical_products       0.68      0.20      0.31       315\n     search_and_rescue       1.00      0.01      0.02       174\n              security       0.00      0.00      0.00        99\n              military       0.53      0.10      0.17       190\n                 water       0.76      0.26      0.39       434\n                  food       0.74      0.46      0.56       767\n               shelter       0.83      0.29      0.43       593\n              clothing       0.41      0.09      0.15       101\n                 money       1.00      0.02      0.04       143\n        missing_people       0.00      0.00      0.00        75\n              refugees       1.00      0.00      0.01       233\n                 death       0.84      0.23      0.36       302\n             other_aid       0.63      0.03      0.06       859\ninfrastructure_related       0.77      0.02      0.05       407\n             transport       0.81      0.05      0.09       274\n             buildings       0.78      0.07      0.12       321\n           electricity       0.00      0.00      0.00       119\n                 tools       0.00      0.00      0.00        39\n             hospitals       0.00      0.00      0.00        59\n                 shops       0.00      0.00      0.00        28\n           aid_centers       0.00      0.00      0.00        74\n  other_infrastructure       1.00      0.01      0.01       280\n       weather_related       0.74      0.65      0.69      1768\n                floods       0.72      0.36      0.48       517\n                 storm       0.70      0.40      0.51       607\n                  fire       0.00      0.00      0.00        67\n            earthquake       0.89      0.44      0.59       587\n                  cold       0.00      0.00      0.00       121\n         other_weather       0.38      0.01      0.03       366\n         direct_report       0.65      0.60      0.63      1291\n\n             micro avg       0.77      0.52      0.62     20608\n             macro avg       0.53      0.19      0.23     20608\n          weighted avg       0.73      0.52      0.55     20608\n           samples avg       0.63      0.47      0.49     20608\n\n"
    }
   ],
   "source": [
    "y_pred = nb_cv.predict(X_test)\n",
    "print(classification_report(y_test, y_pred, target_names=Y.columns.values))"
   ]
  },
  {
   "cell_type": "code",
   "execution_count": null,
   "metadata": {},
   "outputs": [],
   "source": []
  }
 ],
 "metadata": {
  "kernelspec": {
   "display_name": "Python 3.8.3 64-bit ('env': venv)",
   "language": "python",
   "name": "python38364bitenvvenv3ddb3686d95b42288d169594bb20f3f0"
  },
  "language_info": {
   "codemirror_mode": {
    "name": "ipython",
    "version": 3
   },
   "file_extension": ".py",
   "mimetype": "text/x-python",
   "name": "python",
   "nbconvert_exporter": "python",
   "pygments_lexer": "ipython3",
   "version": "3.8.3-final"
  }
 },
 "nbformat": 4,
 "nbformat_minor": 2
}