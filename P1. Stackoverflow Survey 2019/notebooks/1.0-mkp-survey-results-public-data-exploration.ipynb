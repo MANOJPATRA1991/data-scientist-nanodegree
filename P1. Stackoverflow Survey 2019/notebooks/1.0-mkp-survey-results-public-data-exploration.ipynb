{
 "cells": [
  {
   "cell_type": "markdown",
   "metadata": {},
   "source": [
    "## Business Questions\n",
    "Q1. How satisfied are individuals with their jobs in terms of salary?\n",
    "\n",
    "Q2. Which profession is the most preferred by individuals?\n",
    "\n",
    "Q3. Which profession is the most rewarding in terms of salary?\n",
    "\n",
    "Q4. How does work load vary with compensation?\n",
    "\n",
    "Q5. What web frameworks are most used by web developers?\n",
    "\n",
    "Q6. Which languages are most used by data scientists?\n",
    "\n",
    "Q7. What languages are most used by people working with data?\n",
    "\n",
    "Q8. What languages are most used by mobile developers?"
   ]
  },
  {
   "cell_type": "code",
   "execution_count": 2,
   "metadata": {},
   "outputs": [],
   "source": [
    "import numpy as np\n",
    "import pandas as pd\n",
    "import matplotlib.pyplot as plt\n",
    "import seaborn as sns\n",
    "%matplotlib inline"
   ]
  },
  {
   "cell_type": "markdown",
   "metadata": {},
   "source": [
    "## Data exploration"
   ]
  },
  {
   "cell_type": "markdown",
   "metadata": {},
   "source": [
    "Let's read the data for the stackoverflow survey results."
   ]
  },
  {
   "cell_type": "code",
   "execution_count": 3,
   "metadata": {},
   "outputs": [],
   "source": [
    "# Read the data\n",
    "df = pd.read_csv('../data/external/survey_results_public.csv')"
   ]
  },
  {
   "cell_type": "code",
   "execution_count": 4,
   "metadata": {},
   "outputs": [
    {
     "data": {
      "text/html": [
       "<div>\n",
       "<style scoped>\n",
       "    .dataframe tbody tr th:only-of-type {\n",
       "        vertical-align: middle;\n",
       "    }\n",
       "\n",
       "    .dataframe tbody tr th {\n",
       "        vertical-align: top;\n",
       "    }\n",
       "\n",
       "    .dataframe thead th {\n",
       "        text-align: right;\n",
       "    }\n",
       "</style>\n",
       "<table border=\"1\" class=\"dataframe\">\n",
       "  <thead>\n",
       "    <tr style=\"text-align: right;\">\n",
       "      <th></th>\n",
       "      <th>Respondent</th>\n",
       "      <th>MainBranch</th>\n",
       "      <th>Hobbyist</th>\n",
       "      <th>OpenSourcer</th>\n",
       "      <th>OpenSource</th>\n",
       "      <th>Employment</th>\n",
       "      <th>Country</th>\n",
       "      <th>Student</th>\n",
       "      <th>EdLevel</th>\n",
       "      <th>UndergradMajor</th>\n",
       "      <th>...</th>\n",
       "      <th>WelcomeChange</th>\n",
       "      <th>SONewContent</th>\n",
       "      <th>Age</th>\n",
       "      <th>Gender</th>\n",
       "      <th>Trans</th>\n",
       "      <th>Sexuality</th>\n",
       "      <th>Ethnicity</th>\n",
       "      <th>Dependents</th>\n",
       "      <th>SurveyLength</th>\n",
       "      <th>SurveyEase</th>\n",
       "    </tr>\n",
       "  </thead>\n",
       "  <tbody>\n",
       "    <tr>\n",
       "      <th>0</th>\n",
       "      <td>1</td>\n",
       "      <td>I am a student who is learning to code</td>\n",
       "      <td>Yes</td>\n",
       "      <td>Never</td>\n",
       "      <td>The quality of OSS and closed source software ...</td>\n",
       "      <td>Not employed, and not looking for work</td>\n",
       "      <td>United Kingdom</td>\n",
       "      <td>No</td>\n",
       "      <td>Primary/elementary school</td>\n",
       "      <td>NaN</td>\n",
       "      <td>...</td>\n",
       "      <td>Just as welcome now as I felt last year</td>\n",
       "      <td>Tech articles written by other developers;Indu...</td>\n",
       "      <td>14.0</td>\n",
       "      <td>Man</td>\n",
       "      <td>No</td>\n",
       "      <td>Straight / Heterosexual</td>\n",
       "      <td>NaN</td>\n",
       "      <td>No</td>\n",
       "      <td>Appropriate in length</td>\n",
       "      <td>Neither easy nor difficult</td>\n",
       "    </tr>\n",
       "    <tr>\n",
       "      <th>1</th>\n",
       "      <td>2</td>\n",
       "      <td>I am a student who is learning to code</td>\n",
       "      <td>No</td>\n",
       "      <td>Less than once per year</td>\n",
       "      <td>The quality of OSS and closed source software ...</td>\n",
       "      <td>Not employed, but looking for work</td>\n",
       "      <td>Bosnia and Herzegovina</td>\n",
       "      <td>Yes, full-time</td>\n",
       "      <td>Secondary school (e.g. American high school, G...</td>\n",
       "      <td>NaN</td>\n",
       "      <td>...</td>\n",
       "      <td>Just as welcome now as I felt last year</td>\n",
       "      <td>Tech articles written by other developers;Indu...</td>\n",
       "      <td>19.0</td>\n",
       "      <td>Man</td>\n",
       "      <td>No</td>\n",
       "      <td>Straight / Heterosexual</td>\n",
       "      <td>NaN</td>\n",
       "      <td>No</td>\n",
       "      <td>Appropriate in length</td>\n",
       "      <td>Neither easy nor difficult</td>\n",
       "    </tr>\n",
       "    <tr>\n",
       "      <th>2</th>\n",
       "      <td>3</td>\n",
       "      <td>I am not primarily a developer, but I write co...</td>\n",
       "      <td>Yes</td>\n",
       "      <td>Never</td>\n",
       "      <td>The quality of OSS and closed source software ...</td>\n",
       "      <td>Employed full-time</td>\n",
       "      <td>Thailand</td>\n",
       "      <td>No</td>\n",
       "      <td>Bachelor’s degree (BA, BS, B.Eng., etc.)</td>\n",
       "      <td>Web development or web design</td>\n",
       "      <td>...</td>\n",
       "      <td>Just as welcome now as I felt last year</td>\n",
       "      <td>Tech meetups or events in your area;Courses on...</td>\n",
       "      <td>28.0</td>\n",
       "      <td>Man</td>\n",
       "      <td>No</td>\n",
       "      <td>Straight / Heterosexual</td>\n",
       "      <td>NaN</td>\n",
       "      <td>Yes</td>\n",
       "      <td>Appropriate in length</td>\n",
       "      <td>Neither easy nor difficult</td>\n",
       "    </tr>\n",
       "    <tr>\n",
       "      <th>3</th>\n",
       "      <td>4</td>\n",
       "      <td>I am a developer by profession</td>\n",
       "      <td>No</td>\n",
       "      <td>Never</td>\n",
       "      <td>The quality of OSS and closed source software ...</td>\n",
       "      <td>Employed full-time</td>\n",
       "      <td>United States</td>\n",
       "      <td>No</td>\n",
       "      <td>Bachelor’s degree (BA, BS, B.Eng., etc.)</td>\n",
       "      <td>Computer science, computer engineering, or sof...</td>\n",
       "      <td>...</td>\n",
       "      <td>Just as welcome now as I felt last year</td>\n",
       "      <td>Tech articles written by other developers;Indu...</td>\n",
       "      <td>22.0</td>\n",
       "      <td>Man</td>\n",
       "      <td>No</td>\n",
       "      <td>Straight / Heterosexual</td>\n",
       "      <td>White or of European descent</td>\n",
       "      <td>No</td>\n",
       "      <td>Appropriate in length</td>\n",
       "      <td>Easy</td>\n",
       "    </tr>\n",
       "    <tr>\n",
       "      <th>4</th>\n",
       "      <td>5</td>\n",
       "      <td>I am a developer by profession</td>\n",
       "      <td>Yes</td>\n",
       "      <td>Once a month or more often</td>\n",
       "      <td>OSS is, on average, of HIGHER quality than pro...</td>\n",
       "      <td>Employed full-time</td>\n",
       "      <td>Ukraine</td>\n",
       "      <td>No</td>\n",
       "      <td>Bachelor’s degree (BA, BS, B.Eng., etc.)</td>\n",
       "      <td>Computer science, computer engineering, or sof...</td>\n",
       "      <td>...</td>\n",
       "      <td>Just as welcome now as I felt last year</td>\n",
       "      <td>Tech meetups or events in your area;Courses on...</td>\n",
       "      <td>30.0</td>\n",
       "      <td>Man</td>\n",
       "      <td>No</td>\n",
       "      <td>Straight / Heterosexual</td>\n",
       "      <td>White or of European descent;Multiracial</td>\n",
       "      <td>No</td>\n",
       "      <td>Appropriate in length</td>\n",
       "      <td>Easy</td>\n",
       "    </tr>\n",
       "  </tbody>\n",
       "</table>\n",
       "<p>5 rows × 85 columns</p>\n",
       "</div>"
      ],
      "text/plain": [
       "   Respondent                                         MainBranch Hobbyist  \\\n",
       "0           1             I am a student who is learning to code      Yes   \n",
       "1           2             I am a student who is learning to code       No   \n",
       "2           3  I am not primarily a developer, but I write co...      Yes   \n",
       "3           4                     I am a developer by profession       No   \n",
       "4           5                     I am a developer by profession      Yes   \n",
       "\n",
       "                  OpenSourcer  \\\n",
       "0                       Never   \n",
       "1     Less than once per year   \n",
       "2                       Never   \n",
       "3                       Never   \n",
       "4  Once a month or more often   \n",
       "\n",
       "                                          OpenSource  \\\n",
       "0  The quality of OSS and closed source software ...   \n",
       "1  The quality of OSS and closed source software ...   \n",
       "2  The quality of OSS and closed source software ...   \n",
       "3  The quality of OSS and closed source software ...   \n",
       "4  OSS is, on average, of HIGHER quality than pro...   \n",
       "\n",
       "                               Employment                 Country  \\\n",
       "0  Not employed, and not looking for work          United Kingdom   \n",
       "1      Not employed, but looking for work  Bosnia and Herzegovina   \n",
       "2                      Employed full-time                Thailand   \n",
       "3                      Employed full-time           United States   \n",
       "4                      Employed full-time                 Ukraine   \n",
       "\n",
       "          Student                                            EdLevel  \\\n",
       "0              No                          Primary/elementary school   \n",
       "1  Yes, full-time  Secondary school (e.g. American high school, G...   \n",
       "2              No           Bachelor’s degree (BA, BS, B.Eng., etc.)   \n",
       "3              No           Bachelor’s degree (BA, BS, B.Eng., etc.)   \n",
       "4              No           Bachelor’s degree (BA, BS, B.Eng., etc.)   \n",
       "\n",
       "                                      UndergradMajor  ...  \\\n",
       "0                                                NaN  ...   \n",
       "1                                                NaN  ...   \n",
       "2                      Web development or web design  ...   \n",
       "3  Computer science, computer engineering, or sof...  ...   \n",
       "4  Computer science, computer engineering, or sof...  ...   \n",
       "\n",
       "                             WelcomeChange  \\\n",
       "0  Just as welcome now as I felt last year   \n",
       "1  Just as welcome now as I felt last year   \n",
       "2  Just as welcome now as I felt last year   \n",
       "3  Just as welcome now as I felt last year   \n",
       "4  Just as welcome now as I felt last year   \n",
       "\n",
       "                                        SONewContent   Age Gender Trans  \\\n",
       "0  Tech articles written by other developers;Indu...  14.0    Man    No   \n",
       "1  Tech articles written by other developers;Indu...  19.0    Man    No   \n",
       "2  Tech meetups or events in your area;Courses on...  28.0    Man    No   \n",
       "3  Tech articles written by other developers;Indu...  22.0    Man    No   \n",
       "4  Tech meetups or events in your area;Courses on...  30.0    Man    No   \n",
       "\n",
       "                 Sexuality                                 Ethnicity  \\\n",
       "0  Straight / Heterosexual                                       NaN   \n",
       "1  Straight / Heterosexual                                       NaN   \n",
       "2  Straight / Heterosexual                                       NaN   \n",
       "3  Straight / Heterosexual              White or of European descent   \n",
       "4  Straight / Heterosexual  White or of European descent;Multiracial   \n",
       "\n",
       "  Dependents           SurveyLength                  SurveyEase  \n",
       "0         No  Appropriate in length  Neither easy nor difficult  \n",
       "1         No  Appropriate in length  Neither easy nor difficult  \n",
       "2        Yes  Appropriate in length  Neither easy nor difficult  \n",
       "3         No  Appropriate in length                        Easy  \n",
       "4         No  Appropriate in length                        Easy  \n",
       "\n",
       "[5 rows x 85 columns]"
      ]
     },
     "execution_count": 4,
     "metadata": {},
     "output_type": "execute_result"
    }
   ],
   "source": [
    "df.head()"
   ]
  },
  {
   "cell_type": "code",
   "execution_count": 5,
   "metadata": {},
   "outputs": [
    {
     "name": "stdout",
     "output_type": "stream",
     "text": [
      "There are 88883 records and 85 features\n"
     ]
    }
   ],
   "source": [
    "print('There are {0} records and {1} features'.format(df.shape[0], df.shape[1]))"
   ]
  },
  {
   "cell_type": "code",
   "execution_count": 6,
   "metadata": {},
   "outputs": [
    {
     "name": "stdout",
     "output_type": "stream",
     "text": [
      "['Respondent', 'MainBranch', 'Hobbyist', 'OpenSourcer', 'OpenSource', 'Employment', 'Country', 'Student', 'EdLevel', 'UndergradMajor', 'EduOther', 'OrgSize', 'DevType', 'YearsCode', 'Age1stCode', 'YearsCodePro', 'CareerSat', 'JobSat', 'MgrIdiot', 'MgrMoney', 'MgrWant', 'JobSeek', 'LastHireDate', 'LastInt', 'FizzBuzz', 'JobFactors', 'ResumeUpdate', 'CurrencySymbol', 'CurrencyDesc', 'CompTotal', 'CompFreq', 'ConvertedComp', 'WorkWeekHrs', 'WorkPlan', 'WorkChallenge', 'WorkRemote', 'WorkLoc', 'ImpSyn', 'CodeRev', 'CodeRevHrs', 'UnitTests', 'PurchaseHow', 'PurchaseWhat', 'LanguageWorkedWith', 'LanguageDesireNextYear', 'DatabaseWorkedWith', 'DatabaseDesireNextYear', 'PlatformWorkedWith', 'PlatformDesireNextYear', 'WebFrameWorkedWith', 'WebFrameDesireNextYear', 'MiscTechWorkedWith', 'MiscTechDesireNextYear', 'DevEnviron', 'OpSys', 'Containers', 'BlockchainOrg', 'BlockchainIs', 'BetterLife', 'ITperson', 'OffOn', 'SocialMedia', 'Extraversion', 'ScreenName', 'SOVisit1st', 'SOVisitFreq', 'SOVisitTo', 'SOFindAnswer', 'SOTimeSaved', 'SOHowMuchTime', 'SOAccount', 'SOPartFreq', 'SOJobs', 'EntTeams', 'SOComm', 'WelcomeChange', 'SONewContent', 'Age', 'Gender', 'Trans', 'Sexuality', 'Ethnicity', 'Dependents', 'SurveyLength', 'SurveyEase']\n"
     ]
    }
   ],
   "source": [
    "df_columns = list(df.columns)\n",
    "print(df_columns)"
   ]
  },
  {
   "cell_type": "code",
   "execution_count": 7,
   "metadata": {
    "scrolled": true
   },
   "outputs": [],
   "source": [
    "def get_quantitative_columns():\n",
    "    \"\"\"\n",
    "    Returns a list of column names that contain quantitative data\n",
    "    \"\"\"\n",
    "    quantitative_data = df.select_dtypes(exclude=['object'])\n",
    "    return list(quantitative_data.columns)"
   ]
  },
  {
   "cell_type": "code",
   "execution_count": 8,
   "metadata": {},
   "outputs": [],
   "source": [
    "def get_categorical_columns():\n",
    "    \"\"\"\n",
    "    Returns a list of column names that contain categorical data\n",
    "    \"\"\"\n",
    "    categorical_data = df.select_dtypes(include=['object'])\n",
    "    return list(categorical_data.columns)"
   ]
  },
  {
   "cell_type": "code",
   "execution_count": 9,
   "metadata": {},
   "outputs": [
    {
     "name": "stdout",
     "output_type": "stream",
     "text": [
      "['MainBranch', 'OpenSource', 'Employment', 'Country', 'Student', 'EdLevel', 'UndergradMajor', 'EduOther', 'OrgSize', 'DevType', 'YearsCode', 'Age1stCode', 'YearsCodePro', 'CareerSat', 'JobSat', 'MgrIdiot', 'MgrMoney', 'MgrWant', 'JobSeek', 'LastHireDate', 'LastInt', 'FizzBuzz', 'JobFactors', 'ResumeUpdate', 'CurrencySymbol', 'CurrencyDesc', 'CompTotal', 'CompFreq', 'ConvertedComp', 'WorkWeekHrs', 'WorkPlan', 'WorkChallenge', 'WorkRemote', 'WorkLoc', 'ImpSyn', 'CodeRev', 'CodeRevHrs', 'UnitTests', 'PurchaseHow', 'PurchaseWhat', 'LanguageWorkedWith', 'LanguageDesireNextYear', 'DatabaseWorkedWith', 'DatabaseDesireNextYear', 'PlatformWorkedWith', 'PlatformDesireNextYear', 'WebFrameWorkedWith', 'WebFrameDesireNextYear', 'MiscTechWorkedWith', 'MiscTechDesireNextYear', 'DevEnviron', 'OpSys', 'Containers', 'BlockchainOrg', 'BlockchainIs', 'BetterLife', 'ITperson', 'OffOn', 'SocialMedia', 'Extraversion', 'ScreenName', 'SOVisit1st', 'SOVisitFreq', 'SOVisitTo', 'SOFindAnswer', 'SOTimeSaved', 'SOHowMuchTime', 'SOAccount', 'SOPartFreq', 'SOJobs', 'EntTeams', 'SOComm', 'WelcomeChange', 'SONewContent', 'Age', 'Gender', 'Trans', 'Sexuality', 'Ethnicity', 'Dependents', 'SurveyLength', 'SurveyEase']\n"
     ]
    }
   ],
   "source": [
    "# Columns with null values\n",
    "print(list(df.columns[df.isnull().any()]))"
   ]
  },
  {
   "cell_type": "markdown",
   "metadata": {},
   "source": [
    "Seems like almost every other column has some missing values"
   ]
  },
  {
   "cell_type": "code",
   "execution_count": 10,
   "metadata": {},
   "outputs": [
    {
     "data": {
      "text/plain": [
       "{'Hobbyist', 'OpenSourcer', 'Respondent'}"
      ]
     },
     "execution_count": 10,
     "metadata": {},
     "output_type": "execute_result"
    }
   ],
   "source": [
    "# Columns with no missing values\n",
    "set(df.columns[df.isnull().mean() == 0])"
   ]
  },
  {
   "cell_type": "markdown",
   "metadata": {},
   "source": [
    "Only three columns have all values in place."
   ]
  },
  {
   "cell_type": "code",
   "execution_count": 11,
   "metadata": {},
   "outputs": [],
   "source": [
    "# Find columns with most missing values\n",
    "def get_columns_with_missing_values(ratio):\n",
    "    \"\"\"\n",
    "    Returns a list of column names with missing values\n",
    "    \"\"\"\n",
    "    return list(df.columns[df.isnull().mean() > ratio])"
   ]
  },
  {
   "cell_type": "code",
   "execution_count": 12,
   "metadata": {},
   "outputs": [
    {
     "name": "stdout",
     "output_type": "stream",
     "text": [
      "[]\n"
     ]
    }
   ],
   "source": [
    "print(get_columns_with_missing_values(0.75))"
   ]
  },
  {
   "cell_type": "code",
   "execution_count": 13,
   "metadata": {},
   "outputs": [
    {
     "name": "stdout",
     "output_type": "stream",
     "text": [
      "[]\n"
     ]
    }
   ],
   "source": [
    "print(get_columns_with_missing_values(0.5))"
   ]
  },
  {
   "cell_type": "code",
   "execution_count": 14,
   "metadata": {},
   "outputs": [
    {
     "name": "stdout",
     "output_type": "stream",
     "text": [
      "['MgrIdiot', 'MgrMoney', 'MgrWant', 'CompTotal', 'CompFreq', 'ConvertedComp', 'WorkWeekHrs', 'CodeRevHrs', 'UnitTests', 'PurchaseHow', 'PurchaseWhat', 'WebFrameWorkedWith', 'WebFrameDesireNextYear', 'MiscTechWorkedWith', 'MiscTechDesireNextYear', 'BlockchainOrg', 'BlockchainIs']\n"
     ]
    }
   ],
   "source": [
    "print(get_columns_with_missing_values(0.25))"
   ]
  },
  {
   "cell_type": "markdown",
   "metadata": {},
   "source": [
    "## Data Analysis - DevType"
   ]
  },
  {
   "cell_type": "code",
   "execution_count": 15,
   "metadata": {},
   "outputs": [
    {
     "name": "stdout",
     "output_type": "stream",
     "text": [
      "Developer, full-stack                                                                                                                                                                                  8433\n",
      "Developer, back-end                                                                                                                                                                                    4913\n",
      "Developer, back-end;Developer, front-end;Developer, full-stack                                                                                                                                         2399\n",
      "Developer, front-end                                                                                                                                                                                   2212\n",
      "Developer, mobile                                                                                                                                                                                      2172\n",
      "                                                                                                                                                                                                       ... \n",
      "Database administrator;Developer, back-end;Developer, full-stack;DevOps specialist;Educator;Engineer, data;Engineer, site reliability;System administrator                                                1\n",
      "Developer, desktop or enterprise applications;Developer, embedded applications or devices;Developer, full-stack;Developer, mobile;Scientist;Student                                                       1\n",
      "Academic researcher;Data scientist or machine learning specialist;Developer, desktop or enterprise applications;Developer, embedded applications or devices;Developer, front-end;Educator;Scientist       1\n",
      "Developer, front-end;Developer, game or graphics;Developer, mobile;Developer, QA or test                                                                                                                  1\n",
      "Developer, mobile;DevOps specialist;Educator;Student;System administrator                                                                                                                                 1\n",
      "Name: DevType, Length: 13141, dtype: int64\n"
     ]
    }
   ],
   "source": [
    "# Let's consider the DevType column:\n",
    "print(df['DevType'].value_counts())"
   ]
  },
  {
   "cell_type": "code",
   "execution_count": 16,
   "metadata": {},
   "outputs": [
    {
     "name": "stdout",
     "output_type": "stream",
     "text": [
      "There are 7548 records with developer type not available\n"
     ]
    }
   ],
   "source": [
    "print('There are {} records with developer type not available'.format(df['DevType'].isna().sum()))"
   ]
  },
  {
   "cell_type": "code",
   "execution_count": 17,
   "metadata": {},
   "outputs": [],
   "source": [
    "def get_unique_values_list(input_df, column_name, separator=';', remove_values=[]):\n",
    "    \"\"\"\n",
    "    Get list of unique values from a column\n",
    "    Args:\n",
    "        input_df -- The dataframe to work on\n",
    "        column_name -- { String } Column from which to get unique values\n",
    "        separator -- { String } Unique value separator (defaults to ;)\n",
    "        remove_values -- { List } List of values to remove from the final list (defaults to [])\n",
    "    Returns:\n",
    "        A list of unique values for the given column\n",
    "    \"\"\"\n",
    "    all_values_list = input_df[column_name].astype(str).unique()\n",
    "    output_list = []\n",
    "    for row in all_values_list:\n",
    "        for entry in row.split(separator):\n",
    "            if entry in output_list:\n",
    "                True\n",
    "            else:\n",
    "                output_list.append(entry)\n",
    "    for value in remove_values:\n",
    "        if (value in output_list):\n",
    "            output_list.remove(value)\n",
    "\n",
    "    return output_list"
   ]
  },
  {
   "cell_type": "markdown",
   "metadata": {},
   "source": [
    "## Data Cleaning - DevType"
   ]
  },
  {
   "cell_type": "code",
   "execution_count": 18,
   "metadata": {},
   "outputs": [],
   "source": [
    "# Remove records with DevType as Student or nan\n",
    "dev_types_to_remove = ['Student', 'nan']\n",
    "all_dev_types_list = get_unique_values_list(input_df=df, column_name='DevType', remove_values=dev_types_to_remove)"
   ]
  },
  {
   "cell_type": "code",
   "execution_count": 19,
   "metadata": {},
   "outputs": [
    {
     "name": "stdout",
     "output_type": "stream",
     "text": [
      "['Developer, desktop or enterprise applications', 'Developer, front-end', 'Designer', 'Developer, back-end', 'Developer, full-stack', 'Academic researcher', 'Developer, mobile', 'Data or business analyst', 'Data scientist or machine learning specialist', 'Database administrator', 'Engineer, data', 'Engineer, site reliability', 'Developer, QA or test', 'DevOps specialist', 'Developer, game or graphics', 'Educator', 'Engineering manager', 'Senior executive/VP', 'System administrator', 'Developer, embedded applications or devices', 'Product manager', 'Scientist', 'Marketing or sales professional']\n"
     ]
    }
   ],
   "source": [
    "print(all_dev_types_list)"
   ]
  },
  {
   "cell_type": "code",
   "execution_count": 20,
   "metadata": {},
   "outputs": [],
   "source": [
    "def create_feature_columns(input_df, values, parent_col, prefix='', preprocessor=None):\n",
    "    \"\"\"\n",
    "    Creates feature columns\n",
    "    Args:\n",
    "        input_df -- The dataframe to work on\n",
    "        values -- { List } List of values based on which to create columns\n",
    "        parent_col -- { String } Column from which we are creating features\n",
    "        prefix -- { String } String to prefix column names with (defaults to '')\n",
    "        preprocessor -- { Lambda function } Used for preprocessing the column name before adding to the dataframe (defaults to None)\n",
    "    Returns:\n",
    "        List of new column names added to the dataframe\n",
    "    \"\"\"\n",
    "    new_col_list = []\n",
    "    \n",
    "    for value in values:\n",
    "        new_df = input_df[parent_col].apply(lambda x: 1 if value in x else 0)\n",
    "        if preprocessor is not None:\n",
    "            value = preprocessor(value) \n",
    "        if prefix+value in input_df:\n",
    "            input_df[prefix+value] = input_df[prefix+value] | new_df\n",
    "        else:\n",
    "            input_df[prefix+value] = new_df\n",
    "            new_col_list.append(prefix+value)\n",
    "\n",
    "    return new_col_list"
   ]
  },
  {
   "cell_type": "code",
   "execution_count": 21,
   "metadata": {},
   "outputs": [],
   "source": [
    "# Drop rows where DevType is a null value\n",
    "df_with_dev_types = df.dropna(subset=['DevType'], axis=0)"
   ]
  },
  {
   "cell_type": "code",
   "execution_count": 22,
   "metadata": {},
   "outputs": [
    {
     "name": "stderr",
     "output_type": "stream",
     "text": [
      "<ipython-input-20-dde717315dca>:22: SettingWithCopyWarning: \n",
      "A value is trying to be set on a copy of a slice from a DataFrame.\n",
      "Try using .loc[row_indexer,col_indexer] = value instead\n",
      "\n",
      "See the caveats in the documentation: https://pandas.pydata.org/pandas-docs/stable/user_guide/indexing.html#returning-a-view-versus-a-copy\n",
      "  input_df[prefix+value] = new_df\n"
     ]
    },
    {
     "name": "stdout",
     "output_type": "stream",
     "text": [
      "['dev_type_ desktop or enterprise applications Developer', 'dev_type_ front-end Developer', 'dev_type_Designer', 'dev_type_ back-end Developer', 'dev_type_ full-stack Developer', 'dev_type_Academic researcher', 'dev_type_ mobile Developer', 'dev_type_Data or business analyst', 'dev_type_Data scientist or machine learning specialist', 'dev_type_Database administrator', 'dev_type_ data Engineer', 'dev_type_ site reliability Engineer', 'dev_type_ QA or test Developer', 'dev_type_DevOps specialist', 'dev_type_ game or graphics Developer', 'dev_type_Educator', 'dev_type_Engineering manager', 'dev_type_Senior executive/VP', 'dev_type_System administrator', 'dev_type_ embedded applications or devices Developer', 'dev_type_Product manager', 'dev_type_Scientist', 'dev_type_Marketing or sales professional']\n"
     ]
    }
   ],
   "source": [
    "# Create columns based on developer type\n",
    "dev_type_preprocessor = lambda x: ' '.join([e for e in reversed(x.split(','))])\n",
    "dev_type_columns = create_feature_columns(input_df=df_with_dev_types,\n",
    "                                          values=all_dev_types_list,\n",
    "                                          preprocessor=dev_type_preprocessor,\n",
    "                                          parent_col='DevType', \n",
    "                                          prefix='dev_type_')\n",
    "print(dev_type_columns)"
   ]
  },
  {
   "cell_type": "code",
   "execution_count": 23,
   "metadata": {},
   "outputs": [],
   "source": [
    "# Save df with dev_types_* columns\n",
    "df_with_dev_types.to_csv('../data/interim/survey_results_public_with_dev_types.csv', index=False)"
   ]
  },
  {
   "cell_type": "code",
   "execution_count": 24,
   "metadata": {},
   "outputs": [],
   "source": [
    "# Read df with dev_types_* columns\n",
    "df_with_dev_types = pd.read_csv('../data/interim/survey_results_public_with_dev_types.csv')"
   ]
  },
  {
   "cell_type": "markdown",
   "metadata": {},
   "source": [
    "## Data Analysis - ConvertedComp"
   ]
  },
  {
   "cell_type": "code",
   "execution_count": 25,
   "metadata": {},
   "outputs": [
    {
     "data": {
      "text/plain": [
       "0         NaN\n",
       "1      8820.0\n",
       "2     61000.0\n",
       "3         NaN\n",
       "4    366420.0\n",
       "Name: ConvertedComp, dtype: float64"
      ]
     },
     "execution_count": 25,
     "metadata": {},
     "output_type": "execute_result"
    }
   ],
   "source": [
    "df_with_dev_types['ConvertedComp'].head()"
   ]
  },
  {
   "cell_type": "code",
   "execution_count": 26,
   "metadata": {},
   "outputs": [
    {
     "data": {
      "text/plain": [
       "ConvertedComp    26254\n",
       "CompTotal        26138\n",
       "dtype: int64"
      ]
     },
     "execution_count": 26,
     "metadata": {},
     "output_type": "execute_result"
    }
   ],
   "source": [
    "df_with_dev_types[['ConvertedComp', 'CompTotal']].isna().sum()"
   ]
  },
  {
   "cell_type": "code",
   "execution_count": 28,
   "metadata": {
    "scrolled": true
   },
   "outputs": [
    {
     "data": {
      "text/plain": [
       "<matplotlib.axes._subplots.AxesSubplot at 0x1be6f340>"
      ]
     },
     "execution_count": 28,
     "metadata": {},
     "output_type": "execute_result"
    },
    {
     "data": {
      "image/png": "[encoded data removed]",
      "text/plain": [
       "<Figure size 432x288 with 1 Axes>"
      ]
     },
     "metadata": {
      "needs_background": "light"
     },
     "output_type": "display_data"
    }
   ],
   "source": [
    "sns.distplot(df_with_dev_types[['ConvertedComp']])"
   ]
  },
  {
   "cell_type": "markdown",
   "metadata": {},
   "source": [
    "As we can see, the **ConvertedComp** column is left-skewed"
   ]
  },
  {
   "cell_type": "markdown",
   "metadata": {},
   "source": [
    "## Data Cleaning - ConvertedComp"
   ]
  },
  {
   "cell_type": "code",
   "execution_count": 811,
   "metadata": {},
   "outputs": [],
   "source": [
    "# Remove null values from ConvertedComp column\n",
    "df_with_dev_types = df_with_dev_types.dropna(subset=['ConvertedComp'], axis=0)"
   ]
  },
  {
   "cell_type": "code",
   "execution_count": 812,
   "metadata": {},
   "outputs": [
    {
     "data": {
      "text/plain": [
       "ConvertedComp    0\n",
       "CompTotal        0\n",
       "dtype: int64"
      ]
     },
     "execution_count": 812,
     "metadata": {},
     "output_type": "execute_result"
    }
   ],
   "source": [
    "df_with_dev_types[['ConvertedComp', 'CompTotal']].isna().sum()"
   ]
  },
  {
   "cell_type": "code",
   "execution_count": 30,
   "metadata": {},
   "outputs": [
    {
     "data": {
      "text/plain": [
       "<matplotlib.axes._subplots.AxesSubplot at 0x1b90e478>"
      ]
     },
     "execution_count": 30,
     "metadata": {},
     "output_type": "execute_result"
    },
    {
     "data": {
      "image/png": "[encoded data removed]",
      "text/plain": [
       "<Figure size 432x288 with 1 Axes>"
      ]
     },
     "metadata": {
      "needs_background": "light"
     },
     "output_type": "display_data"
    }
   ],
   "source": [
    "sns.distplot(df_with_dev_types[['ConvertedComp']])"
   ]
  },
  {
   "cell_type": "markdown",
   "metadata": {},
   "source": [
    "The ConvertedComp column is still left-skewed!"
   ]
  },
  {
   "cell_type": "code",
   "execution_count": 814,
   "metadata": {},
   "outputs": [],
   "source": [
    "def get_salary_range(x):\n",
    "    \"\"\"\n",
    "    Classify salaries across different ranges\n",
    "    \"\"\"\n",
    "    x = int(x)\n",
    "    if (x in range(0, 250000)):\n",
    "        return 'S1'\n",
    "    \n",
    "    if (x in range(250000, 500000)):\n",
    "        return 'S2'\n",
    "    \n",
    "    if (x in range(500000, 750000)):\n",
    "        return 'S3'\n",
    "    \n",
    "    if (x in range(750000, 1000000)):\n",
    "        return 'S4'\n",
    "    \n",
    "    if (x in range(1000000, 1250000)):\n",
    "        return 'S5'\n",
    "    \n",
    "    if (x in range(1250000, 1500000)):\n",
    "        return 'S6'\n",
    "    \n",
    "    if (x in range(1500000, 1750000)):\n",
    "        return 'S7'\n",
    "    \n",
    "    if (x in range(1750000, 2000000)):\n",
    "        return 'S8'"
   ]
  },
  {
   "cell_type": "markdown",
   "metadata": {},
   "source": [
    "Create a new column named **CompRange** for salary ranges."
   ]
  },
  {
   "cell_type": "code",
   "execution_count": 815,
   "metadata": {},
   "outputs": [],
   "source": [
    "df_with_dev_types['CompRange'] = df_with_dev_types['ConvertedComp'].apply(get_salary_range)"
   ]
  },
  {
   "cell_type": "code",
   "execution_count": 816,
   "metadata": {},
   "outputs": [
    {
     "data": {
      "text/html": [
       "<div>\n",
       "<style scoped>\n",
       "    .dataframe tbody tr th:only-of-type {\n",
       "        vertical-align: middle;\n",
       "    }\n",
       "\n",
       "    .dataframe tbody tr th {\n",
       "        vertical-align: top;\n",
       "    }\n",
       "\n",
       "    .dataframe thead th {\n",
       "        text-align: right;\n",
       "    }\n",
       "</style>\n",
       "<table border=\"1\" class=\"dataframe\">\n",
       "  <thead>\n",
       "    <tr style=\"text-align: right;\">\n",
       "      <th></th>\n",
       "      <th>Respondent</th>\n",
       "      <th>MainBranch</th>\n",
       "      <th>Hobbyist</th>\n",
       "      <th>OpenSourcer</th>\n",
       "      <th>OpenSource</th>\n",
       "      <th>Employment</th>\n",
       "      <th>Country</th>\n",
       "      <th>Student</th>\n",
       "      <th>EdLevel</th>\n",
       "      <th>UndergradMajor</th>\n",
       "      <th>...</th>\n",
       "      <th>dev_type_DevOps specialist</th>\n",
       "      <th>dev_type_ game or graphics Developer</th>\n",
       "      <th>dev_type_Educator</th>\n",
       "      <th>dev_type_Engineering manager</th>\n",
       "      <th>dev_type_Senior executive/VP</th>\n",
       "      <th>dev_type_System administrator</th>\n",
       "      <th>dev_type_ embedded applications or devices Developer</th>\n",
       "      <th>dev_type_Product manager</th>\n",
       "      <th>dev_type_Scientist</th>\n",
       "      <th>dev_type_Marketing or sales professional</th>\n",
       "    </tr>\n",
       "    <tr>\n",
       "      <th>CompRange</th>\n",
       "      <th></th>\n",
       "      <th></th>\n",
       "      <th></th>\n",
       "      <th></th>\n",
       "      <th></th>\n",
       "      <th></th>\n",
       "      <th></th>\n",
       "      <th></th>\n",
       "      <th></th>\n",
       "      <th></th>\n",
       "      <th></th>\n",
       "      <th></th>\n",
       "      <th></th>\n",
       "      <th></th>\n",
       "      <th></th>\n",
       "      <th></th>\n",
       "      <th></th>\n",
       "      <th></th>\n",
       "      <th></th>\n",
       "      <th></th>\n",
       "      <th></th>\n",
       "    </tr>\n",
       "  </thead>\n",
       "  <tbody>\n",
       "    <tr>\n",
       "      <th>S1</th>\n",
       "      <td>51012</td>\n",
       "      <td>51012</td>\n",
       "      <td>51012</td>\n",
       "      <td>51012</td>\n",
       "      <td>50286</td>\n",
       "      <td>51012</td>\n",
       "      <td>51012</td>\n",
       "      <td>50705</td>\n",
       "      <td>50264</td>\n",
       "      <td>46816</td>\n",
       "      <td>...</td>\n",
       "      <td>51012</td>\n",
       "      <td>51012</td>\n",
       "      <td>51012</td>\n",
       "      <td>51012</td>\n",
       "      <td>51012</td>\n",
       "      <td>51012</td>\n",
       "      <td>51012</td>\n",
       "      <td>51012</td>\n",
       "      <td>51012</td>\n",
       "      <td>51012</td>\n",
       "    </tr>\n",
       "    <tr>\n",
       "      <th>S2</th>\n",
       "      <td>1110</td>\n",
       "      <td>1110</td>\n",
       "      <td>1110</td>\n",
       "      <td>1110</td>\n",
       "      <td>1089</td>\n",
       "      <td>1110</td>\n",
       "      <td>1110</td>\n",
       "      <td>1107</td>\n",
       "      <td>1100</td>\n",
       "      <td>1034</td>\n",
       "      <td>...</td>\n",
       "      <td>1110</td>\n",
       "      <td>1110</td>\n",
       "      <td>1110</td>\n",
       "      <td>1110</td>\n",
       "      <td>1110</td>\n",
       "      <td>1110</td>\n",
       "      <td>1110</td>\n",
       "      <td>1110</td>\n",
       "      <td>1110</td>\n",
       "      <td>1110</td>\n",
       "    </tr>\n",
       "    <tr>\n",
       "      <th>S3</th>\n",
       "      <td>710</td>\n",
       "      <td>710</td>\n",
       "      <td>710</td>\n",
       "      <td>710</td>\n",
       "      <td>700</td>\n",
       "      <td>710</td>\n",
       "      <td>710</td>\n",
       "      <td>709</td>\n",
       "      <td>696</td>\n",
       "      <td>645</td>\n",
       "      <td>...</td>\n",
       "      <td>710</td>\n",
       "      <td>710</td>\n",
       "      <td>710</td>\n",
       "      <td>710</td>\n",
       "      <td>710</td>\n",
       "      <td>710</td>\n",
       "      <td>710</td>\n",
       "      <td>710</td>\n",
       "      <td>710</td>\n",
       "      <td>710</td>\n",
       "    </tr>\n",
       "    <tr>\n",
       "      <th>S4</th>\n",
       "      <td>600</td>\n",
       "      <td>600</td>\n",
       "      <td>600</td>\n",
       "      <td>600</td>\n",
       "      <td>591</td>\n",
       "      <td>600</td>\n",
       "      <td>600</td>\n",
       "      <td>597</td>\n",
       "      <td>593</td>\n",
       "      <td>558</td>\n",
       "      <td>...</td>\n",
       "      <td>600</td>\n",
       "      <td>600</td>\n",
       "      <td>600</td>\n",
       "      <td>600</td>\n",
       "      <td>600</td>\n",
       "      <td>600</td>\n",
       "      <td>600</td>\n",
       "      <td>600</td>\n",
       "      <td>600</td>\n",
       "      <td>600</td>\n",
       "    </tr>\n",
       "    <tr>\n",
       "      <th>S5</th>\n",
       "      <td>694</td>\n",
       "      <td>694</td>\n",
       "      <td>694</td>\n",
       "      <td>694</td>\n",
       "      <td>689</td>\n",
       "      <td>694</td>\n",
       "      <td>694</td>\n",
       "      <td>691</td>\n",
       "      <td>680</td>\n",
       "      <td>640</td>\n",
       "      <td>...</td>\n",
       "      <td>694</td>\n",
       "      <td>694</td>\n",
       "      <td>694</td>\n",
       "      <td>694</td>\n",
       "      <td>694</td>\n",
       "      <td>694</td>\n",
       "      <td>694</td>\n",
       "      <td>694</td>\n",
       "      <td>694</td>\n",
       "      <td>694</td>\n",
       "    </tr>\n",
       "    <tr>\n",
       "      <th>S6</th>\n",
       "      <td>118</td>\n",
       "      <td>118</td>\n",
       "      <td>118</td>\n",
       "      <td>118</td>\n",
       "      <td>118</td>\n",
       "      <td>118</td>\n",
       "      <td>118</td>\n",
       "      <td>118</td>\n",
       "      <td>118</td>\n",
       "      <td>110</td>\n",
       "      <td>...</td>\n",
       "      <td>118</td>\n",
       "      <td>118</td>\n",
       "      <td>118</td>\n",
       "      <td>118</td>\n",
       "      <td>118</td>\n",
       "      <td>118</td>\n",
       "      <td>118</td>\n",
       "      <td>118</td>\n",
       "      <td>118</td>\n",
       "      <td>118</td>\n",
       "    </tr>\n",
       "    <tr>\n",
       "      <th>S7</th>\n",
       "      <td>92</td>\n",
       "      <td>92</td>\n",
       "      <td>92</td>\n",
       "      <td>92</td>\n",
       "      <td>90</td>\n",
       "      <td>92</td>\n",
       "      <td>92</td>\n",
       "      <td>91</td>\n",
       "      <td>92</td>\n",
       "      <td>88</td>\n",
       "      <td>...</td>\n",
       "      <td>92</td>\n",
       "      <td>92</td>\n",
       "      <td>92</td>\n",
       "      <td>92</td>\n",
       "      <td>92</td>\n",
       "      <td>92</td>\n",
       "      <td>92</td>\n",
       "      <td>92</td>\n",
       "      <td>92</td>\n",
       "      <td>92</td>\n",
       "    </tr>\n",
       "    <tr>\n",
       "      <th>S8</th>\n",
       "      <td>49</td>\n",
       "      <td>49</td>\n",
       "      <td>49</td>\n",
       "      <td>49</td>\n",
       "      <td>48</td>\n",
       "      <td>49</td>\n",
       "      <td>49</td>\n",
       "      <td>49</td>\n",
       "      <td>49</td>\n",
       "      <td>47</td>\n",
       "      <td>...</td>\n",
       "      <td>49</td>\n",
       "      <td>49</td>\n",
       "      <td>49</td>\n",
       "      <td>49</td>\n",
       "      <td>49</td>\n",
       "      <td>49</td>\n",
       "      <td>49</td>\n",
       "      <td>49</td>\n",
       "      <td>49</td>\n",
       "      <td>49</td>\n",
       "    </tr>\n",
       "  </tbody>\n",
       "</table>\n",
       "<p>8 rows × 108 columns</p>\n",
       "</div>"
      ],
      "text/plain": [
       "           Respondent  MainBranch  Hobbyist  OpenSourcer  OpenSource  \\\n",
       "CompRange                                                              \n",
       "S1              51012       51012     51012        51012       50286   \n",
       "S2               1110        1110      1110         1110        1089   \n",
       "S3                710         710       710          710         700   \n",
       "S4                600         600       600          600         591   \n",
       "S5                694         694       694          694         689   \n",
       "S6                118         118       118          118         118   \n",
       "S7                 92          92        92           92          90   \n",
       "S8                 49          49        49           49          48   \n",
       "\n",
       "           Employment  Country  Student  EdLevel  UndergradMajor  ...  \\\n",
       "CompRange                                                         ...   \n",
       "S1              51012    51012    50705    50264           46816  ...   \n",
       "S2               1110     1110     1107     1100            1034  ...   \n",
       "S3                710      710      709      696             645  ...   \n",
       "S4                600      600      597      593             558  ...   \n",
       "S5                694      694      691      680             640  ...   \n",
       "S6                118      118      118      118             110  ...   \n",
       "S7                 92       92       91       92              88  ...   \n",
       "S8                 49       49       49       49              47  ...   \n",
       "\n",
       "           dev_type_DevOps specialist  dev_type_ game or graphics Developer  \\\n",
       "CompRange                                                                     \n",
       "S1                              51012                                 51012   \n",
       "S2                               1110                                  1110   \n",
       "S3                                710                                   710   \n",
       "S4                                600                                   600   \n",
       "S5                                694                                   694   \n",
       "S6                                118                                   118   \n",
       "S7                                 92                                    92   \n",
       "S8                                 49                                    49   \n",
       "\n",
       "           dev_type_Educator  dev_type_Engineering manager  \\\n",
       "CompRange                                                    \n",
       "S1                     51012                         51012   \n",
       "S2                      1110                          1110   \n",
       "S3                       710                           710   \n",
       "S4                       600                           600   \n",
       "S5                       694                           694   \n",
       "S6                       118                           118   \n",
       "S7                        92                            92   \n",
       "S8                        49                            49   \n",
       "\n",
       "           dev_type_Senior executive/VP  dev_type_System administrator  \\\n",
       "CompRange                                                                \n",
       "S1                                51012                          51012   \n",
       "S2                                 1110                           1110   \n",
       "S3                                  710                            710   \n",
       "S4                                  600                            600   \n",
       "S5                                  694                            694   \n",
       "S6                                  118                            118   \n",
       "S7                                   92                             92   \n",
       "S8                                   49                             49   \n",
       "\n",
       "           dev_type_ embedded applications or devices Developer  \\\n",
       "CompRange                                                         \n",
       "S1                                                     51012      \n",
       "S2                                                      1110      \n",
       "S3                                                       710      \n",
       "S4                                                       600      \n",
       "S5                                                       694      \n",
       "S6                                                       118      \n",
       "S7                                                        92      \n",
       "S8                                                        49      \n",
       "\n",
       "           dev_type_Product manager  dev_type_Scientist  \\\n",
       "CompRange                                                 \n",
       "S1                            51012               51012   \n",
       "S2                             1110                1110   \n",
       "S3                              710                 710   \n",
       "S4                              600                 600   \n",
       "S5                              694                 694   \n",
       "S6                              118                 118   \n",
       "S7                               92                  92   \n",
       "S8                               49                  49   \n",
       "\n",
       "           dev_type_Marketing or sales professional  \n",
       "CompRange                                            \n",
       "S1                                            51012  \n",
       "S2                                             1110  \n",
       "S3                                              710  \n",
       "S4                                              600  \n",
       "S5                                              694  \n",
       "S6                                              118  \n",
       "S7                                               92  \n",
       "S8                                               49  \n",
       "\n",
       "[8 rows x 108 columns]"
      ]
     },
     "execution_count": 816,
     "metadata": {},
     "output_type": "execute_result"
    }
   ],
   "source": [
    "df_with_dev_types.groupby('CompRange').count()"
   ]
  },
  {
   "cell_type": "code",
   "execution_count": 817,
   "metadata": {},
   "outputs": [
    {
     "name": "stdout",
     "output_type": "stream",
     "text": [
      "<class 'pandas.core.frame.DataFrame'>\n",
      "Int64Index: 55081 entries, 1 to 81070\n",
      "Columns: 109 entries, Respondent to CompRange\n",
      "dtypes: float64(5), int64(24), object(80)\n",
      "memory usage: 29.4+ MB\n"
     ]
    }
   ],
   "source": [
    "df_with_dev_types.info()"
   ]
  },
  {
   "cell_type": "markdown",
   "metadata": {},
   "source": [
    "## Data Analysis - Year related columns"
   ]
  },
  {
   "cell_type": "code",
   "execution_count": 818,
   "metadata": {},
   "outputs": [],
   "source": [
    "# year columns\n",
    "year_cols = ['YearsCode', 'YearsCodePro', 'Age1stCode', 'Age']"
   ]
  },
  {
   "cell_type": "code",
   "execution_count": 819,
   "metadata": {},
   "outputs": [
    {
     "data": {
      "text/plain": [
       "YearsCode         74\n",
       "YearsCodePro     149\n",
       "Age1stCode       132\n",
       "Age             2231\n",
       "dtype: int64"
      ]
     },
     "execution_count": 819,
     "metadata": {},
     "output_type": "execute_result"
    }
   ],
   "source": [
    "df_with_dev_types[year_cols].isna().sum()"
   ]
  },
  {
   "cell_type": "code",
   "execution_count": 31,
   "metadata": {},
   "outputs": [
    {
     "data": {
      "text/plain": [
       "<matplotlib.axes._subplots.AxesSubplot at 0x616aa8>"
      ]
     },
     "execution_count": 31,
     "metadata": {},
     "output_type": "execute_result"
    },
    {
     "data": {
      "image/png": "[encoded data removed]",
      "text/plain": [
       "<Figure size 432x288 with 1 Axes>"
      ]
     },
     "metadata": {
      "needs_background": "light"
     },
     "output_type": "display_data"
    }
   ],
   "source": [
    "sns.distplot(df_with_dev_types[['Age']])"
   ]
  },
  {
   "cell_type": "code",
   "execution_count": 821,
   "metadata": {},
   "outputs": [],
   "source": [
    "def mapper(x, mapped_data):\n",
    "    \"\"\"\n",
    "    Maps values from one type to another\n",
    "    Args:\n",
    "        x -- { String } Value to map\n",
    "        mapped_data -- { Dict } Dictionary of old to new mappings\n",
    "    Returns:\n",
    "        New mapped value\n",
    "    \"\"\"\n",
    "    for key in mapped_data:\n",
    "        if x == key:\n",
    "            x = mapped_data[key]\n",
    "    \n",
    "    return x"
   ]
  },
  {
   "cell_type": "code",
   "execution_count": 822,
   "metadata": {},
   "outputs": [
    {
     "data": {
      "text/plain": [
       "(55081, 109)"
      ]
     },
     "execution_count": 822,
     "metadata": {},
     "output_type": "execute_result"
    }
   ],
   "source": [
    "df_with_dev_types.shape"
   ]
  },
  {
   "cell_type": "markdown",
   "metadata": {},
   "source": [
    "## Data Cleaning - Year related Columns"
   ]
  },
  {
   "cell_type": "markdown",
   "metadata": {},
   "source": [
    "There are values in the year related columns which are strings and need to be converted to meaningful numeric values. These columns include: YearsCode, YearsCodePro, Age1stCode, and Age."
   ]
  },
  {
   "cell_type": "code",
   "execution_count": 823,
   "metadata": {},
   "outputs": [],
   "source": [
    "year_mappings = {\n",
    "    'Less than 1 year': 0.5, \n",
    "    'More than 50 years': 55, \n",
    "    'Younger than 5 years': 5, \n",
    "    'Older than 85': 90\n",
    "}\n",
    "\n",
    "# Map all values in these columns to integers\n",
    "for col in year_cols:\n",
    "    df_with_dev_types[col] = df_with_dev_types[col].apply(lambda x: mapper(x, year_mappings))"
   ]
  },
  {
   "cell_type": "code",
   "execution_count": 824,
   "metadata": {},
   "outputs": [
    {
     "data": {
      "text/html": [
       "<div>\n",
       "<style scoped>\n",
       "    .dataframe tbody tr th:only-of-type {\n",
       "        vertical-align: middle;\n",
       "    }\n",
       "\n",
       "    .dataframe tbody tr th {\n",
       "        vertical-align: top;\n",
       "    }\n",
       "\n",
       "    .dataframe thead th {\n",
       "        text-align: right;\n",
       "    }\n",
       "</style>\n",
       "<table border=\"1\" class=\"dataframe\">\n",
       "  <thead>\n",
       "    <tr style=\"text-align: right;\">\n",
       "      <th></th>\n",
       "      <th>YearsCode</th>\n",
       "      <th>YearsCodePro</th>\n",
       "      <th>Age1stCode</th>\n",
       "      <th>Age</th>\n",
       "    </tr>\n",
       "  </thead>\n",
       "  <tbody>\n",
       "    <tr>\n",
       "      <th>1</th>\n",
       "      <td>3</td>\n",
       "      <td>1</td>\n",
       "      <td>22</td>\n",
       "      <td>28.0</td>\n",
       "    </tr>\n",
       "    <tr>\n",
       "      <th>2</th>\n",
       "      <td>3</td>\n",
       "      <td>0.5</td>\n",
       "      <td>16</td>\n",
       "      <td>22.0</td>\n",
       "    </tr>\n",
       "    <tr>\n",
       "      <th>4</th>\n",
       "      <td>13</td>\n",
       "      <td>3</td>\n",
       "      <td>15</td>\n",
       "      <td>28.0</td>\n",
       "    </tr>\n",
       "    <tr>\n",
       "      <th>7</th>\n",
       "      <td>12</td>\n",
       "      <td>4</td>\n",
       "      <td>11</td>\n",
       "      <td>23.0</td>\n",
       "    </tr>\n",
       "    <tr>\n",
       "      <th>8</th>\n",
       "      <td>12</td>\n",
       "      <td>10</td>\n",
       "      <td>20</td>\n",
       "      <td>NaN</td>\n",
       "    </tr>\n",
       "    <tr>\n",
       "      <th>...</th>\n",
       "      <td>...</td>\n",
       "      <td>...</td>\n",
       "      <td>...</td>\n",
       "      <td>...</td>\n",
       "    </tr>\n",
       "    <tr>\n",
       "      <th>81065</th>\n",
       "      <td>12</td>\n",
       "      <td>3</td>\n",
       "      <td>14</td>\n",
       "      <td>26.0</td>\n",
       "    </tr>\n",
       "    <tr>\n",
       "      <th>81066</th>\n",
       "      <td>17</td>\n",
       "      <td>7</td>\n",
       "      <td>16</td>\n",
       "      <td>34.0</td>\n",
       "    </tr>\n",
       "    <tr>\n",
       "      <th>81068</th>\n",
       "      <td>18</td>\n",
       "      <td>9</td>\n",
       "      <td>17</td>\n",
       "      <td>37.0</td>\n",
       "    </tr>\n",
       "    <tr>\n",
       "      <th>81069</th>\n",
       "      <td>10</td>\n",
       "      <td>8</td>\n",
       "      <td>15</td>\n",
       "      <td>NaN</td>\n",
       "    </tr>\n",
       "    <tr>\n",
       "      <th>81070</th>\n",
       "      <td>9</td>\n",
       "      <td>5</td>\n",
       "      <td>15</td>\n",
       "      <td>33.0</td>\n",
       "    </tr>\n",
       "  </tbody>\n",
       "</table>\n",
       "<p>55081 rows × 4 columns</p>\n",
       "</div>"
      ],
      "text/plain": [
       "      YearsCode YearsCodePro Age1stCode   Age\n",
       "1             3            1         22  28.0\n",
       "2             3          0.5         16  22.0\n",
       "4            13            3         15  28.0\n",
       "7            12            4         11  23.0\n",
       "8            12           10         20   NaN\n",
       "...         ...          ...        ...   ...\n",
       "81065        12            3         14  26.0\n",
       "81066        17            7         16  34.0\n",
       "81068        18            9         17  37.0\n",
       "81069        10            8         15   NaN\n",
       "81070         9            5         15  33.0\n",
       "\n",
       "[55081 rows x 4 columns]"
      ]
     },
     "execution_count": 824,
     "metadata": {},
     "output_type": "execute_result"
    }
   ],
   "source": [
    "df_with_dev_types[year_cols]"
   ]
  },
  {
   "cell_type": "code",
   "execution_count": 32,
   "metadata": {},
   "outputs": [
    {
     "data": {
      "text/plain": [
       "<matplotlib.axes._subplots.AxesSubplot at 0x9c6658>"
      ]
     },
     "execution_count": 32,
     "metadata": {},
     "output_type": "execute_result"
    },
    {
     "data": {
      "image/png": "[encoded data removed]",
      "text/plain": [
       "<Figure size 432x288 with 1 Axes>"
      ]
     },
     "metadata": {
      "needs_background": "light"
     },
     "output_type": "display_data"
    }
   ],
   "source": [
    "sns.distplot(df_with_dev_types[['Age']])"
   ]
  },
  {
   "cell_type": "code",
   "execution_count": 826,
   "metadata": {},
   "outputs": [
    {
     "data": {
      "text/plain": [
       "YearsCode         74\n",
       "YearsCodePro     149\n",
       "Age1stCode       132\n",
       "Age             2231\n",
       "dtype: int64"
      ]
     },
     "execution_count": 826,
     "metadata": {},
     "output_type": "execute_result"
    }
   ],
   "source": [
    "df_with_dev_types[year_cols].isna().sum()"
   ]
  },
  {
   "cell_type": "markdown",
   "metadata": {},
   "source": [
    "There are still null values that exist in these columns!"
   ]
  },
  {
   "cell_type": "code",
   "execution_count": 827,
   "metadata": {},
   "outputs": [],
   "source": [
    "df_with_dev_types.to_csv('../data/interim/survey_results_public_with_years_encoded_v2.csv', index=False)"
   ]
  },
  {
   "cell_type": "code",
   "execution_count": 828,
   "metadata": {},
   "outputs": [],
   "source": [
    "df_with_years_encoded = pd.read_csv('../data/interim/survey_results_public_with_years_encoded_v2.csv')"
   ]
  },
  {
   "cell_type": "markdown",
   "metadata": {},
   "source": [
    "## Data Analysis - CareerSat and JobSat"
   ]
  },
  {
   "cell_type": "code",
   "execution_count": 829,
   "metadata": {},
   "outputs": [
    {
     "data": {
      "text/plain": [
       "Very satisfied                        22972\n",
       "Slightly satisfied                    19227\n",
       "Slightly dissatisfied                  5612\n",
       "Neither satisfied nor dissatisfied     4660\n",
       "Very dissatisfied                      2610\n",
       "Name: CareerSat, dtype: int64"
      ]
     },
     "execution_count": 829,
     "metadata": {},
     "output_type": "execute_result"
    }
   ],
   "source": [
    "df_with_years_encoded['CareerSat'].value_counts()"
   ]
  },
  {
   "cell_type": "code",
   "execution_count": 830,
   "metadata": {},
   "outputs": [
    {
     "data": {
      "text/plain": [
       "Slightly satisfied                    18987\n",
       "Very satisfied                        17651\n",
       "Slightly dissatisfied                  8510\n",
       "Neither satisfied nor dissatisfied     6125\n",
       "Very dissatisfied                      3761\n",
       "Name: JobSat, dtype: int64"
      ]
     },
     "execution_count": 830,
     "metadata": {},
     "output_type": "execute_result"
    }
   ],
   "source": [
    "df_with_years_encoded['JobSat'].value_counts()"
   ]
  },
  {
   "cell_type": "code",
   "execution_count": 831,
   "metadata": {},
   "outputs": [],
   "source": [
    "# Map job satisfaction and career satisfaction values to numeric values\n",
    "sat_mappings = {\n",
    "    'Very satisfied': 5,\n",
    "    'Slightly satisfied': 4,\n",
    "    'Neither satisfied nor dissatisfied': 3,\n",
    "    'Slightly dissatisfied': 2,\n",
    "    'Very dissatisfied': 1\n",
    "}"
   ]
  },
  {
   "cell_type": "markdown",
   "metadata": {},
   "source": [
    "## Data Analysis - JobSat and CareerSat"
   ]
  },
  {
   "cell_type": "code",
   "execution_count": 832,
   "metadata": {},
   "outputs": [],
   "source": [
    "df_with_years_encoded['JobSat'] = df_with_years_encoded['JobSat'].apply(lambda x: mapper(x, sat_mappings))\n",
    "df_with_years_encoded['CareerSat'] = df_with_years_encoded['CareerSat'].apply(lambda x: mapper(x, sat_mappings))"
   ]
  },
  {
   "cell_type": "code",
   "execution_count": 833,
   "metadata": {},
   "outputs": [
    {
     "data": {
      "text/plain": [
       "4.0    18987\n",
       "5.0    17651\n",
       "2.0     8510\n",
       "3.0     6125\n",
       "1.0     3761\n",
       "Name: JobSat, dtype: int64"
      ]
     },
     "execution_count": 833,
     "metadata": {},
     "output_type": "execute_result"
    }
   ],
   "source": [
    "df_with_years_encoded['JobSat'].value_counts()"
   ]
  },
  {
   "cell_type": "code",
   "execution_count": 834,
   "metadata": {},
   "outputs": [
    {
     "data": {
      "text/plain": [
       "5    22972\n",
       "4    19227\n",
       "2     5612\n",
       "3     4660\n",
       "1     2610\n",
       "Name: CareerSat, dtype: int64"
      ]
     },
     "execution_count": 834,
     "metadata": {},
     "output_type": "execute_result"
    }
   ],
   "source": [
    "df_with_years_encoded['CareerSat'].value_counts()"
   ]
  },
  {
   "cell_type": "code",
   "execution_count": 835,
   "metadata": {},
   "outputs": [],
   "source": [
    "df_with_years_encoded.to_csv('../data/interim/survey_results_public_with_job_sat_encoded_v3.csv', index=False)"
   ]
  },
  {
   "cell_type": "code",
   "execution_count": 836,
   "metadata": {},
   "outputs": [],
   "source": [
    "df_with_job_sat_encoded = pd.read_csv('../data/interim/survey_results_public_with_job_sat_encoded_v3.csv')"
   ]
  },
  {
   "cell_type": "markdown",
   "metadata": {},
   "source": [
    "## Data Analysis - Other features that might be worth looking at"
   ]
  },
  {
   "cell_type": "code",
   "execution_count": 837,
   "metadata": {},
   "outputs": [
    {
     "data": {
      "text/plain": [
       "Yearly     30097\n",
       "Monthly    22930\n",
       "Weekly      2054\n",
       "Name: CompFreq, dtype: int64"
      ]
     },
     "execution_count": 837,
     "metadata": {},
     "output_type": "execute_result"
    }
   ],
   "source": [
    "df_with_job_sat_encoded['CompFreq'].value_counts()"
   ]
  },
  {
   "cell_type": "code",
   "execution_count": 838,
   "metadata": {},
   "outputs": [
    {
     "data": {
      "text/plain": [
       "0"
      ]
     },
     "execution_count": 838,
     "metadata": {},
     "output_type": "execute_result"
    }
   ],
   "source": [
    "df_with_job_sat_encoded['CompFreq'].isna().sum()"
   ]
  },
  {
   "cell_type": "code",
   "execution_count": 839,
   "metadata": {},
   "outputs": [
    {
     "data": {
      "text/plain": [
       "Never                                                 18904\n",
       "Less than once per year                               16359\n",
       "Less than once a month but more than once per year    13511\n",
       "Once a month or more often                             6307\n",
       "Name: OpenSourcer, dtype: int64"
      ]
     },
     "execution_count": 839,
     "metadata": {},
     "output_type": "execute_result"
    }
   ],
   "source": [
    "df_with_job_sat_encoded['OpenSourcer'].value_counts()"
   ]
  },
  {
   "cell_type": "code",
   "execution_count": 840,
   "metadata": {},
   "outputs": [
    {
     "data": {
      "text/plain": [
       "Employed full-time                                      48548\n",
       "Independent contractor, freelancer, or self-employed     4500\n",
       "Employed part-time                                       2033\n",
       "Name: Employment, dtype: int64"
      ]
     },
     "execution_count": 840,
     "metadata": {},
     "output_type": "execute_result"
    }
   ],
   "source": [
    "df_with_job_sat_encoded['Employment'].value_counts()"
   ]
  },
  {
   "cell_type": "code",
   "execution_count": 841,
   "metadata": {},
   "outputs": [
    {
     "data": {
      "text/plain": [
       "I’m not actively looking, but I am open to new opportunities    33104\n",
       "I am not interested in new job opportunities                    15776\n",
       "I am actively looking for a job                                  6201\n",
       "Name: JobSeek, dtype: int64"
      ]
     },
     "execution_count": 841,
     "metadata": {},
     "output_type": "execute_result"
    }
   ],
   "source": [
    "df_with_job_sat_encoded['JobSeek'].value_counts()"
   ]
  },
  {
   "cell_type": "code",
   "execution_count": 842,
   "metadata": {},
   "outputs": [
    {
     "data": {
      "text/plain": [
       "I am a developer by profession                                                   50124\n",
       "I am not primarily a developer, but I write code sometimes as part of my work     4957\n",
       "Name: MainBranch, dtype: int64"
      ]
     },
     "execution_count": 842,
     "metadata": {},
     "output_type": "execute_result"
    }
   ],
   "source": [
    "df_with_job_sat_encoded['MainBranch'].value_counts()"
   ]
  },
  {
   "cell_type": "code",
   "execution_count": 843,
   "metadata": {},
   "outputs": [
    {
     "data": {
      "text/plain": [
       "20 to 99 employees                                    11964\n",
       "100 to 499 employees                                  10031\n",
       "10,000 or more employees                               7689\n",
       "1,000 to 4,999 employees                               5824\n",
       "2-9 employees                                          5339\n",
       "10 to 19 employees                                     5238\n",
       "500 to 999 employees                                   3546\n",
       "5,000 to 9,999 employees                               2318\n",
       "Just me - I am a freelancer, sole proprietor, etc.     2300\n",
       "Name: OrgSize, dtype: int64"
      ]
     },
     "execution_count": 843,
     "metadata": {},
     "output_type": "execute_result"
    }
   ],
   "source": [
    "df_with_job_sat_encoded['OrgSize'].value_counts()"
   ]
  },
  {
   "cell_type": "markdown",
   "metadata": {},
   "source": [
    "## Data cleaning - MainBranch\n",
    "\n",
    "I am more interested in individuals who are developer by profession."
   ]
  },
  {
   "cell_type": "code",
   "execution_count": 844,
   "metadata": {},
   "outputs": [],
   "source": [
    "# Keep only individuals whose primary job is being a developer\n",
    "developer = 'I am a developer by profession'\n",
    "df_with_only_devs = df_with_job_sat_encoded[df_with_job_sat_encoded['MainBranch'] == developer]"
   ]
  },
  {
   "cell_type": "code",
   "execution_count": 845,
   "metadata": {},
   "outputs": [
    {
     "data": {
      "text/plain": [
       "(50124, 109)"
      ]
     },
     "execution_count": 845,
     "metadata": {},
     "output_type": "execute_result"
    }
   ],
   "source": [
    "df_with_only_devs.shape"
   ]
  },
  {
   "cell_type": "markdown",
   "metadata": {},
   "source": [
    "## Data cleaning - OrgSize\n",
    "\n",
    "I am more interested in individuals who are part of an organization"
   ]
  },
  {
   "cell_type": "code",
   "execution_count": 846,
   "metadata": {},
   "outputs": [],
   "source": [
    "# Remove OrgSize referring to freelancers\n",
    "freelancer = 'Just me - I am a freelancer, sole proprietor, etc.'\n",
    "df_with_only_devs = df_with_only_devs[df_with_only_devs['OrgSize'] != freelancer]"
   ]
  },
  {
   "cell_type": "code",
   "execution_count": 847,
   "metadata": {},
   "outputs": [],
   "source": [
    "df_with_only_devs.to_csv('../data/interim/survey_results_public_with_only_devs_v4.csv', index=False)"
   ]
  },
  {
   "cell_type": "code",
   "execution_count": 850,
   "metadata": {},
   "outputs": [],
   "source": [
    "df_with_only_prof_devs = pd.read_csv('../data/interim/survey_results_public_with_only_devs_v4.csv')"
   ]
  },
  {
   "cell_type": "markdown",
   "metadata": {},
   "source": [
    "## Data cleaning - Age\n",
    "\n",
    "I am interested in developers who are less than or equal to 55 years of age."
   ]
  },
  {
   "cell_type": "code",
   "execution_count": 851,
   "metadata": {},
   "outputs": [],
   "source": [
    "# Only keep developers less than or equal to 55 years of age\n",
    "df_with_only_prof_devs = df_with_only_prof_devs[df_with_only_prof_devs['Age'] <= 55]"
   ]
  },
  {
   "cell_type": "code",
   "execution_count": 852,
   "metadata": {},
   "outputs": [],
   "source": [
    "df_with_only_prof_devs.to_csv('../data/interim/survey_results_public_with_only_devs_age_lim_55_v5.csv', index=False)"
   ]
  },
  {
   "cell_type": "code",
   "execution_count": 34,
   "metadata": {},
   "outputs": [],
   "source": [
    "df_with_only_devs_age_lim_55 = pd.read_csv('../data/interim/survey_results_public_with_only_devs_age_lim_55_v5.csv')"
   ]
  },
  {
   "cell_type": "code",
   "execution_count": 854,
   "metadata": {},
   "outputs": [
    {
     "data": {
      "text/plain": [
       "(45654, 109)"
      ]
     },
     "execution_count": 854,
     "metadata": {},
     "output_type": "execute_result"
    }
   ],
   "source": [
    "df_with_only_devs_age_lim_55.shape"
   ]
  },
  {
   "cell_type": "code",
   "execution_count": 855,
   "metadata": {},
   "outputs": [
    {
     "data": {
      "text/html": [
       "<div>\n",
       "<style scoped>\n",
       "    .dataframe tbody tr th:only-of-type {\n",
       "        vertical-align: middle;\n",
       "    }\n",
       "\n",
       "    .dataframe tbody tr th {\n",
       "        vertical-align: top;\n",
       "    }\n",
       "\n",
       "    .dataframe thead th {\n",
       "        text-align: right;\n",
       "    }\n",
       "</style>\n",
       "<table border=\"1\" class=\"dataframe\">\n",
       "  <thead>\n",
       "    <tr style=\"text-align: right;\">\n",
       "      <th></th>\n",
       "      <th>Respondent</th>\n",
       "      <th>MainBranch</th>\n",
       "      <th>Hobbyist</th>\n",
       "      <th>OpenSourcer</th>\n",
       "      <th>OpenSource</th>\n",
       "      <th>Employment</th>\n",
       "      <th>Country</th>\n",
       "      <th>Student</th>\n",
       "      <th>EdLevel</th>\n",
       "      <th>UndergradMajor</th>\n",
       "      <th>...</th>\n",
       "      <th>dev_type_ game or graphics Developer</th>\n",
       "      <th>dev_type_Educator</th>\n",
       "      <th>dev_type_Engineering manager</th>\n",
       "      <th>dev_type_Senior executive/VP</th>\n",
       "      <th>dev_type_System administrator</th>\n",
       "      <th>dev_type_ embedded applications or devices Developer</th>\n",
       "      <th>dev_type_Product manager</th>\n",
       "      <th>dev_type_Scientist</th>\n",
       "      <th>dev_type_Marketing or sales professional</th>\n",
       "      <th>CompRange</th>\n",
       "    </tr>\n",
       "  </thead>\n",
       "  <tbody>\n",
       "    <tr>\n",
       "      <th>0</th>\n",
       "      <td>4</td>\n",
       "      <td>I am a developer by profession</td>\n",
       "      <td>No</td>\n",
       "      <td>Never</td>\n",
       "      <td>The quality of OSS and closed source software ...</td>\n",
       "      <td>Employed full-time</td>\n",
       "      <td>United States</td>\n",
       "      <td>No</td>\n",
       "      <td>Bachelor’s degree (BA, BS, B.Eng., etc.)</td>\n",
       "      <td>Computer science, computer engineering, or sof...</td>\n",
       "      <td>...</td>\n",
       "      <td>0</td>\n",
       "      <td>0</td>\n",
       "      <td>0</td>\n",
       "      <td>0</td>\n",
       "      <td>0</td>\n",
       "      <td>0</td>\n",
       "      <td>0</td>\n",
       "      <td>0</td>\n",
       "      <td>0</td>\n",
       "      <td>S1</td>\n",
       "    </tr>\n",
       "    <tr>\n",
       "      <th>1</th>\n",
       "      <td>9</td>\n",
       "      <td>I am a developer by profession</td>\n",
       "      <td>Yes</td>\n",
       "      <td>Once a month or more often</td>\n",
       "      <td>The quality of OSS and closed source software ...</td>\n",
       "      <td>Employed full-time</td>\n",
       "      <td>New Zealand</td>\n",
       "      <td>No</td>\n",
       "      <td>Some college/university study without earning ...</td>\n",
       "      <td>Computer science, computer engineering, or sof...</td>\n",
       "      <td>...</td>\n",
       "      <td>0</td>\n",
       "      <td>0</td>\n",
       "      <td>0</td>\n",
       "      <td>0</td>\n",
       "      <td>0</td>\n",
       "      <td>0</td>\n",
       "      <td>0</td>\n",
       "      <td>0</td>\n",
       "      <td>0</td>\n",
       "      <td>S1</td>\n",
       "    </tr>\n",
       "    <tr>\n",
       "      <th>2</th>\n",
       "      <td>13</td>\n",
       "      <td>I am a developer by profession</td>\n",
       "      <td>Yes</td>\n",
       "      <td>Less than once a month but more than once per ...</td>\n",
       "      <td>OSS is, on average, of HIGHER quality than pro...</td>\n",
       "      <td>Employed full-time</td>\n",
       "      <td>United States</td>\n",
       "      <td>No</td>\n",
       "      <td>Master’s degree (MA, MS, M.Eng., MBA, etc.)</td>\n",
       "      <td>Computer science, computer engineering, or sof...</td>\n",
       "      <td>...</td>\n",
       "      <td>0</td>\n",
       "      <td>0</td>\n",
       "      <td>1</td>\n",
       "      <td>1</td>\n",
       "      <td>1</td>\n",
       "      <td>0</td>\n",
       "      <td>0</td>\n",
       "      <td>0</td>\n",
       "      <td>0</td>\n",
       "      <td>S1</td>\n",
       "    </tr>\n",
       "    <tr>\n",
       "      <th>3</th>\n",
       "      <td>14</td>\n",
       "      <td>I am a developer by profession</td>\n",
       "      <td>Yes</td>\n",
       "      <td>Less than once per year</td>\n",
       "      <td>The quality of OSS and closed source software ...</td>\n",
       "      <td>Employed full-time</td>\n",
       "      <td>Germany</td>\n",
       "      <td>No</td>\n",
       "      <td>Other doctoral degree (Ph.D, Ed.D., etc.)</td>\n",
       "      <td>Computer science, computer engineering, or sof...</td>\n",
       "      <td>...</td>\n",
       "      <td>0</td>\n",
       "      <td>0</td>\n",
       "      <td>0</td>\n",
       "      <td>0</td>\n",
       "      <td>0</td>\n",
       "      <td>0</td>\n",
       "      <td>0</td>\n",
       "      <td>0</td>\n",
       "      <td>0</td>\n",
       "      <td>S1</td>\n",
       "    </tr>\n",
       "    <tr>\n",
       "      <th>4</th>\n",
       "      <td>16</td>\n",
       "      <td>I am a developer by profession</td>\n",
       "      <td>Yes</td>\n",
       "      <td>Never</td>\n",
       "      <td>The quality of OSS and closed source software ...</td>\n",
       "      <td>Employed full-time</td>\n",
       "      <td>United Kingdom</td>\n",
       "      <td>No</td>\n",
       "      <td>Master’s degree (MA, MS, M.Eng., MBA, etc.)</td>\n",
       "      <td>NaN</td>\n",
       "      <td>...</td>\n",
       "      <td>0</td>\n",
       "      <td>0</td>\n",
       "      <td>0</td>\n",
       "      <td>0</td>\n",
       "      <td>0</td>\n",
       "      <td>0</td>\n",
       "      <td>0</td>\n",
       "      <td>0</td>\n",
       "      <td>0</td>\n",
       "      <td>S2</td>\n",
       "    </tr>\n",
       "  </tbody>\n",
       "</table>\n",
       "<p>5 rows × 109 columns</p>\n",
       "</div>"
      ],
      "text/plain": [
       "   Respondent                      MainBranch Hobbyist  \\\n",
       "0           4  I am a developer by profession       No   \n",
       "1           9  I am a developer by profession      Yes   \n",
       "2          13  I am a developer by profession      Yes   \n",
       "3          14  I am a developer by profession      Yes   \n",
       "4          16  I am a developer by profession      Yes   \n",
       "\n",
       "                                         OpenSourcer  \\\n",
       "0                                              Never   \n",
       "1                         Once a month or more often   \n",
       "2  Less than once a month but more than once per ...   \n",
       "3                            Less than once per year   \n",
       "4                                              Never   \n",
       "\n",
       "                                          OpenSource          Employment  \\\n",
       "0  The quality of OSS and closed source software ...  Employed full-time   \n",
       "1  The quality of OSS and closed source software ...  Employed full-time   \n",
       "2  OSS is, on average, of HIGHER quality than pro...  Employed full-time   \n",
       "3  The quality of OSS and closed source software ...  Employed full-time   \n",
       "4  The quality of OSS and closed source software ...  Employed full-time   \n",
       "\n",
       "          Country Student                                            EdLevel  \\\n",
       "0   United States      No           Bachelor’s degree (BA, BS, B.Eng., etc.)   \n",
       "1     New Zealand      No  Some college/university study without earning ...   \n",
       "2   United States      No        Master’s degree (MA, MS, M.Eng., MBA, etc.)   \n",
       "3         Germany      No          Other doctoral degree (Ph.D, Ed.D., etc.)   \n",
       "4  United Kingdom      No        Master’s degree (MA, MS, M.Eng., MBA, etc.)   \n",
       "\n",
       "                                      UndergradMajor  ...  \\\n",
       "0  Computer science, computer engineering, or sof...  ...   \n",
       "1  Computer science, computer engineering, or sof...  ...   \n",
       "2  Computer science, computer engineering, or sof...  ...   \n",
       "3  Computer science, computer engineering, or sof...  ...   \n",
       "4                                                NaN  ...   \n",
       "\n",
       "  dev_type_ game or graphics Developer dev_type_Educator  \\\n",
       "0                                    0                 0   \n",
       "1                                    0                 0   \n",
       "2                                    0                 0   \n",
       "3                                    0                 0   \n",
       "4                                    0                 0   \n",
       "\n",
       "  dev_type_Engineering manager  dev_type_Senior executive/VP  \\\n",
       "0                            0                             0   \n",
       "1                            0                             0   \n",
       "2                            1                             1   \n",
       "3                            0                             0   \n",
       "4                            0                             0   \n",
       "\n",
       "   dev_type_System administrator  \\\n",
       "0                              0   \n",
       "1                              0   \n",
       "2                              1   \n",
       "3                              0   \n",
       "4                              0   \n",
       "\n",
       "   dev_type_ embedded applications or devices Developer  \\\n",
       "0                                                  0      \n",
       "1                                                  0      \n",
       "2                                                  0      \n",
       "3                                                  0      \n",
       "4                                                  0      \n",
       "\n",
       "   dev_type_Product manager  dev_type_Scientist  \\\n",
       "0                         0                   0   \n",
       "1                         0                   0   \n",
       "2                         0                   0   \n",
       "3                         0                   0   \n",
       "4                         0                   0   \n",
       "\n",
       "  dev_type_Marketing or sales professional CompRange  \n",
       "0                                        0        S1  \n",
       "1                                        0        S1  \n",
       "2                                        0        S1  \n",
       "3                                        0        S1  \n",
       "4                                        0        S2  \n",
       "\n",
       "[5 rows x 109 columns]"
      ]
     },
     "execution_count": 855,
     "metadata": {},
     "output_type": "execute_result"
    }
   ],
   "source": [
    "df_with_only_devs_age_lim_55.head()"
   ]
  },
  {
   "cell_type": "markdown",
   "metadata": {},
   "source": [
    "## Data Analysis - BetterLife, WorkWeekHrs, JobFactors, WorkPlan, WorkChallenge, WorkRemote, WorkLoc"
   ]
  },
  {
   "cell_type": "code",
   "execution_count": 856,
   "metadata": {},
   "outputs": [
    {
     "data": {
      "text/plain": [
       "Yes    28292\n",
       "No     16580\n",
       "Name: BetterLife, dtype: int64"
      ]
     },
     "execution_count": 856,
     "metadata": {},
     "output_type": "execute_result"
    }
   ],
   "source": [
    "df_with_only_devs_age_lim_55['BetterLife'].value_counts()"
   ]
  },
  {
   "cell_type": "code",
   "execution_count": 35,
   "metadata": {},
   "outputs": [
    {
     "data": {
      "text/plain": [
       "<matplotlib.axes._subplots.AxesSubplot at 0xa40880>"
      ]
     },
     "execution_count": 35,
     "metadata": {},
     "output_type": "execute_result"
    },
    {
     "data": {
      "image/png": "[encoded data removed]",
      "text/plain": [
       "<Figure size 432x288 with 1 Axes>"
      ]
     },
     "metadata": {
      "needs_background": "light"
     },
     "output_type": "display_data"
    }
   ],
   "source": [
    "sns.distplot(df_with_only_devs_age_lim_55[['WorkWeekHrs']])"
   ]
  },
  {
   "cell_type": "code",
   "execution_count": 858,
   "metadata": {},
   "outputs": [],
   "source": [
    "other_factors = ['JobFactors','WorkPlan', 'WorkChallenge', 'WorkRemote', 'WorkLoc']"
   ]
  },
  {
   "cell_type": "code",
   "execution_count": 859,
   "metadata": {},
   "outputs": [
    {
     "data": {
      "text/plain": [
       "Office                                            27150\n",
       "Home                                              14451\n",
       "Other place, such as a coworking space or cafe     3825\n",
       "Name: WorkLoc, dtype: int64"
      ]
     },
     "execution_count": 859,
     "metadata": {},
     "output_type": "execute_result"
    }
   ],
   "source": [
    "df_with_only_devs_age_lim_55[other_factors[4]].value_counts()"
   ]
  },
  {
   "cell_type": "code",
   "execution_count": 860,
   "metadata": {},
   "outputs": [
    {
     "data": {
      "text/plain": [
       "Less than once per month / Never                           20564\n",
       "A few days each month                                      11952\n",
       "All or almost all the time (I'm full-time remote)           4569\n",
       "Less than half the time, but at least one day each week     4305\n",
       "It's complicated                                            1804\n",
       "More than half, but not all, the time                       1276\n",
       "About half the time                                         1100\n",
       "Name: WorkRemote, dtype: int64"
      ]
     },
     "execution_count": 860,
     "metadata": {},
     "output_type": "execute_result"
    }
   ],
   "source": [
    "df_with_only_devs_age_lim_55[other_factors[3]].value_counts()"
   ]
  },
  {
   "cell_type": "code",
   "execution_count": 861,
   "metadata": {},
   "outputs": [
    {
     "data": {
      "text/plain": [
       "Being tasked with non-development work;Distracting work environment;Meetings                                                1574\n",
       "Being tasked with non-development work;Meetings;Not enough people for the workload                                          1195\n",
       "Distracting work environment;Meetings;Not enough people for the workload                                                    1049\n",
       "Being tasked with non-development work;Distracting work environment;Not enough people for the workload                       998\n",
       "Not enough people for the workload                                                                                           886\n",
       "                                                                                                                            ... \n",
       "Being tasked with non-development work;Toxic work environment                                                                 71\n",
       "Inadequate access to necessary tools;Toxic work environment                                                                   67\n",
       "Time spent commuting;Toxic work environment                                                                                   61\n",
       "Inadequate access to necessary tools;Non-work commitments (parenting, school work, hobbies, etc.);Toxic work environment      58\n",
       "Non-work commitments (parenting, school work, hobbies, etc.);Toxic work environment                                           39\n",
       "Name: WorkChallenge, Length: 129, dtype: int64"
      ]
     },
     "execution_count": 861,
     "metadata": {},
     "output_type": "execute_result"
    }
   ],
   "source": [
    "df_with_only_devs_age_lim_55[other_factors[2]].value_counts()"
   ]
  },
  {
   "cell_type": "code",
   "execution_count": 862,
   "metadata": {},
   "outputs": [
    {
     "data": {
      "text/plain": [
       "There is a schedule and/or spec (made by me or by a colleague), and my work somewhat aligns     23886\n",
       "There's no schedule or spec; I work on what seems most important or urgent                      12087\n",
       "There is a schedule and/or spec (made by me or by a colleague), and I follow it very closely     8877\n",
       "Name: WorkPlan, dtype: int64"
      ]
     },
     "execution_count": 862,
     "metadata": {},
     "output_type": "execute_result"
    }
   ],
   "source": [
    "df_with_only_devs_age_lim_55[other_factors[1]].value_counts()"
   ]
  },
  {
   "cell_type": "code",
   "execution_count": 863,
   "metadata": {},
   "outputs": [
    {
     "data": {
      "text/plain": [
       "Languages, frameworks, and other technologies I'd be working with;Office environment or company culture;Flex time or a flexible schedule              3222\n",
       "Languages, frameworks, and other technologies I'd be working with;Office environment or company culture;Opportunities for professional development    3144\n",
       "Languages, frameworks, and other technologies I'd be working with;Remote work options;Flex time or a flexible schedule                                2829\n",
       "Languages, frameworks, and other technologies I'd be working with;Opportunities for professional development;Flex time or a flexible schedule         2044\n",
       "Office environment or company culture;Opportunities for professional development;Flex time or a flexible schedule                                     1940\n",
       "                                                                                                                                                      ... \n",
       "Financial performance or funding status of the company or organization;Specific department or team I'd be working on                                     1\n",
       "Office environment or company culture;Diversity of the company or organization                                                                           1\n",
       "Industry that I'd be working in;Financial performance or funding status of the company or organization                                                   1\n",
       "Opportunities for professional development;Diversity of the company or organization                                                                      1\n",
       "Industry that I'd be working in;Specific department or team I'd be working on                                                                            1\n",
       "Name: JobFactors, Length: 170, dtype: int64"
      ]
     },
     "execution_count": 863,
     "metadata": {},
     "output_type": "execute_result"
    }
   ],
   "source": [
    "df_with_only_devs_age_lim_55[other_factors[0]].value_counts()"
   ]
  },
  {
   "cell_type": "markdown",
   "metadata": {},
   "source": [
    "## Data cleaning - JobFactors\n",
    "\n",
    "Map job factors to more meaningful classes"
   ]
  },
  {
   "cell_type": "code",
   "execution_count": 864,
   "metadata": {},
   "outputs": [
    {
     "name": "stdout",
     "output_type": "stream",
     "text": [
      "[\"Languages, frameworks, and other technologies I'd be working with\", 'Office environment or company culture', 'Opportunities for professional development', 'Financial performance or funding status of the company or organization', 'How widely used or impactful my work output would be', 'Remote work options', 'Flex time or a flexible schedule', \"Industry that I'd be working in\", 'Diversity of the company or organization', \"Specific department or team I'd be working on\"]\n"
     ]
    }
   ],
   "source": [
    "all_job_factors = get_unique_values_list(input_df=df_with_only_devs_age_lim_55, \n",
    "                                         column_name='JobFactors', \n",
    "                                         remove_values=['nan'])\n",
    "print(all_job_factors)"
   ]
  },
  {
   "cell_type": "code",
   "execution_count": 865,
   "metadata": {},
   "outputs": [],
   "source": [
    "job_factors_mapping = {\n",
    "    \"Languages, frameworks, and other technologies I'd be working with\": \"Dream Tech\",\n",
    "    \"Office environment or company culture\": \"Growth\",\n",
    "    \"Opportunities for professional development\": \"Growth\",\n",
    "    \"Financial performance or funding status of the company or organization\": \"Company Value\",\n",
    "    \"How widely used or impactful my work output would be\": \"Growth\",\n",
    "    \"Remote work options\": \"Flexibility\",\n",
    "    \"Flex time or a flexible schedule\": \"Flexibility\",\n",
    "    \"Industry that I'd be working in\": \"Dream Tech\",\n",
    "    \"Diversity of the company or organization\": \"Company Value\", \n",
    "    \"Specific department or team I'd be working on\": \"Dream Tech\"\n",
    "}\n",
    "\n",
    "job_factors_preprocessor = lambda x: job_factors_mapping[x]"
   ]
  },
  {
   "cell_type": "code",
   "execution_count": 866,
   "metadata": {},
   "outputs": [
    {
     "name": "stdout",
     "output_type": "stream",
     "text": [
      "['job_factor_type_Dream Tech', 'job_factor_type_Growth', 'job_factor_type_Company Value', 'job_factor_type_Flexibility']\n"
     ]
    }
   ],
   "source": [
    "df_with_only_devs_age_lim_55 = df_with_only_devs_age_lim_55.dropna(subset=['JobFactors'], axis=0)\n",
    "job_factors_columns = create_feature_columns(input_df=df_with_only_devs_age_lim_55,\n",
    "                                          values=all_job_factors,\n",
    "                                          preprocessor=job_factors_preprocessor,\n",
    "                                          parent_col='JobFactors', \n",
    "                                          prefix='job_factor_type_')\n",
    "print(job_factors_columns)"
   ]
  },
  {
   "cell_type": "markdown",
   "metadata": {},
   "source": [
    "## Data cleaning - WorkChallenge\n",
    "\n",
    "Map work challenges to more meaningful classes"
   ]
  },
  {
   "cell_type": "code",
   "execution_count": 867,
   "metadata": {},
   "outputs": [
    {
     "data": {
      "text/plain": [
       "['Being tasked with non-development work',\n",
       " 'Inadequate access to necessary tools',\n",
       " 'Not enough people for the workload',\n",
       " 'Meetings',\n",
       " 'Non-work commitments (parenting, school work, hobbies, etc.)',\n",
       " 'Distracting work environment',\n",
       " 'Time spent commuting',\n",
       " 'Lack of support from management',\n",
       " 'Toxic work environment']"
      ]
     },
     "execution_count": 867,
     "metadata": {},
     "output_type": "execute_result"
    }
   ],
   "source": [
    "all_work_challenges = get_unique_values_list(input_df=df_with_only_devs_age_lim_55, \n",
    "                                         column_name='WorkChallenge', \n",
    "                                         remove_values=['nan'])\n",
    "all_work_challenges"
   ]
  },
  {
   "cell_type": "code",
   "execution_count": 868,
   "metadata": {},
   "outputs": [],
   "source": [
    "work_challenge_mapping = {\n",
    "    'Being tasked with non-development work': 'Less resource',\n",
    "    'Inadequate access to necessary tools': 'Less resource',\n",
    "    'Not enough people for the workload': 'Less resource',\n",
    "    'Meetings': 'Meetings',\n",
    "    'Non-work commitments (parenting, school work, hobbies, etc.)': 'Outside work',\n",
    "    'Distracting work environment': 'Bad work env',\n",
    "    'Time spent commuting': 'Outside work',\n",
    "    'Lack of support from management': 'Bad work env',\n",
    "    'Toxic work environment': 'Bad work env'\n",
    "}\n",
    "\n",
    "work_challenge_preprocessor = lambda x: work_challenge_mapping[x]"
   ]
  },
  {
   "cell_type": "code",
   "execution_count": 869,
   "metadata": {},
   "outputs": [
    {
     "name": "stdout",
     "output_type": "stream",
     "text": [
      "['work_challenge_type_Less resource', 'work_challenge_type_Meetings', 'work_challenge_type_Outside work', 'work_challenge_type_Bad work env']\n"
     ]
    }
   ],
   "source": [
    "df_with_only_devs_age_lim_55 = df_with_only_devs_age_lim_55.dropna(subset=['WorkChallenge'], axis=0)\n",
    "work_challenge_columns = create_feature_columns(input_df=df_with_only_devs_age_lim_55,\n",
    "                                          values=all_work_challenges,\n",
    "                                          preprocessor=work_challenge_preprocessor,\n",
    "                                          parent_col='WorkChallenge', \n",
    "                                          prefix='work_challenge_type_')\n",
    "print(work_challenge_columns)"
   ]
  },
  {
   "cell_type": "code",
   "execution_count": 870,
   "metadata": {},
   "outputs": [
    {
     "name": "stdout",
     "output_type": "stream",
     "text": [
      "['S1', 'S2', 'S5', 'S4', 'S3', 'S6', 'S7', 'S8']\n"
     ]
    }
   ],
   "source": [
    "# New compensation ranges\n",
    "comp_ranges = list(df_with_only_devs_age_lim_55['CompRange'].astype(str).unique())\n",
    "comp_ranges.remove('nan')\n",
    "print(comp_ranges)"
   ]
  },
  {
   "cell_type": "code",
   "execution_count": 871,
   "metadata": {},
   "outputs": [],
   "source": [
    "df_with_only_devs_age_lim_55.to_csv('../data/processed/survey_results_public_with_only_devs_age_lim_55.csv', index=False)"
   ]
  },
  {
   "cell_type": "code",
   "execution_count": 872,
   "metadata": {},
   "outputs": [],
   "source": [
    "# Questions and Findings"
   ]
  },
  {
   "cell_type": "code",
   "execution_count": 873,
   "metadata": {},
   "outputs": [],
   "source": [
    "df_with_only_devs_age_lim_55 = pd.read_csv('../data/processed/survey_results_public_with_only_devs_age_lim_55.csv')"
   ]
  },
  {
   "cell_type": "markdown",
   "metadata": {},
   "source": [
    "## Findings based on Data Analysis and Data Visualization"
   ]
  },
  {
   "cell_type": "markdown",
   "metadata": {},
   "source": [
    "### Q1. How satisfied are individuals with their jobs in terms of salary?"
   ]
  },
  {
   "cell_type": "code",
   "execution_count": 874,
   "metadata": {},
   "outputs": [
    {
     "data": {
      "image/png": "[encoded data removed]",
      "text/plain": [
       "<Figure size 360x360 with 1 Axes>"
      ]
     },
     "metadata": {
      "needs_background": "light"
     },
     "output_type": "display_data"
    }
   ],
   "source": [
    "df_job_sat_and_comp = df_with_only_devs_age_lim_55[['JobSat', 'ConvertedComp', 'CareerSat']]\n",
    "sns.catplot(x=\"JobSat\", y=\"ConvertedComp\", kind=\"box\", data=df_job_sat_and_comp, sym='');"
   ]
  },
  {
   "cell_type": "markdown",
   "metadata": {},
   "source": [
    "As we can see, job satisfaction does become better with compensation. The effect is more seen for individuals in the salary range of 0 to 280000 USD."
   ]
  },
  {
   "cell_type": "markdown",
   "metadata": {},
   "source": [
    "### Q2. Which profession is the most preferred by individuals?"
   ]
  },
  {
   "cell_type": "code",
   "execution_count": 875,
   "metadata": {},
   "outputs": [
    {
     "data": {
      "text/html": [
       "<div>\n",
       "<style scoped>\n",
       "    .dataframe tbody tr th:only-of-type {\n",
       "        vertical-align: middle;\n",
       "    }\n",
       "\n",
       "    .dataframe tbody tr th {\n",
       "        vertical-align: top;\n",
       "    }\n",
       "\n",
       "    .dataframe thead th {\n",
       "        text-align: right;\n",
       "    }\n",
       "</style>\n",
       "<table border=\"1\" class=\"dataframe\">\n",
       "  <thead>\n",
       "    <tr style=\"text-align: right;\">\n",
       "      <th></th>\n",
       "      <th>dev_type</th>\n",
       "      <th>salary_type</th>\n",
       "      <th>count</th>\n",
       "    </tr>\n",
       "  </thead>\n",
       "  <tbody>\n",
       "    <tr>\n",
       "      <th>4</th>\n",
       "      <td>dev_type_ full-stack Developer</td>\n",
       "      <td>S1</td>\n",
       "      <td>24210</td>\n",
       "    </tr>\n",
       "    <tr>\n",
       "      <th>3</th>\n",
       "      <td>dev_type_ back-end Developer</td>\n",
       "      <td>S1</td>\n",
       "      <td>22625</td>\n",
       "    </tr>\n",
       "    <tr>\n",
       "      <th>1</th>\n",
       "      <td>dev_type_ front-end Developer</td>\n",
       "      <td>S1</td>\n",
       "      <td>14408</td>\n",
       "    </tr>\n",
       "    <tr>\n",
       "      <th>0</th>\n",
       "      <td>dev_type_ desktop or enterprise applications D...</td>\n",
       "      <td>S1</td>\n",
       "      <td>9208</td>\n",
       "    </tr>\n",
       "    <tr>\n",
       "      <th>6</th>\n",
       "      <td>dev_type_ mobile Developer</td>\n",
       "      <td>S1</td>\n",
       "      <td>7589</td>\n",
       "    </tr>\n",
       "  </tbody>\n",
       "</table>\n",
       "</div>"
      ],
      "text/plain": [
       "                                            dev_type salary_type  count\n",
       "4                     dev_type_ full-stack Developer          S1  24210\n",
       "3                       dev_type_ back-end Developer          S1  22625\n",
       "1                      dev_type_ front-end Developer          S1  14408\n",
       "0  dev_type_ desktop or enterprise applications D...          S1   9208\n",
       "6                         dev_type_ mobile Developer          S1   7589"
      ]
     },
     "execution_count": 875,
     "metadata": {},
     "output_type": "execute_result"
    }
   ],
   "source": [
    "records = {\n",
    "    'dev_type': [],\n",
    "    'salary_type': [],\n",
    "    'count': []\n",
    "}\n",
    "\n",
    "for idx, c_range in enumerate(comp_ranges):\n",
    "    c_range_df = df_with_only_devs_age_lim_55[df_with_only_devs_age_lim_55['CompRange'] == c_range]\n",
    "    for col in dev_type_columns:\n",
    "        df_with_dev_types_col_set = c_range_df[c_range_df[col] == 1]\n",
    "        records['count'].append(df_with_dev_types_col_set.shape[0])\n",
    "        records['salary_type'].append(c_range)\n",
    "        records['dev_type'].append(col)\n",
    "\n",
    "records_dict =  pd.DataFrame.from_dict(records)\n",
    "records_dict = records_dict.sort_values(by=\"count\", ascending=False)\n",
    "records_dict.head()"
   ]
  },
  {
   "cell_type": "code",
   "execution_count": 876,
   "metadata": {},
   "outputs": [
    {
     "data": {
      "text/plain": [
       "<seaborn.axisgrid.FacetGrid at 0x4c7f1688>"
      ]
     },
     "execution_count": 876,
     "metadata": {},
     "output_type": "execute_result"
    },
    {
     "data": {
      "image/png": "[encoded data removed]",
      "text/plain": [
       "<Figure size 842.4x595.44 with 1 Axes>"
      ]
     },
     "metadata": {
      "needs_background": "light"
     },
     "output_type": "display_data"
    }
   ],
   "source": [
    "chart = sns.catplot(y=\"count\", x=\"dev_type\", kind=\"bar\", \n",
    "            height=8.27, aspect=11.7/8.27,\n",
    "            data=records_dict)\n",
    "chart.set_xticklabels(rotation=45, horizontalalignment='right')"
   ]
  },
  {
   "cell_type": "code",
   "execution_count": 877,
   "metadata": {},
   "outputs": [
    {
     "data": {
      "text/plain": [
       "<seaborn.axisgrid.FacetGrid at 0x2ce33fb8>"
      ]
     },
     "execution_count": 877,
     "metadata": {},
     "output_type": "execute_result"
    },
    {
     "data": {
      "image/png": "[encoded data removed]",
      "text/plain": [
       "<Figure size 907.9x595.44 with 1 Axes>"
      ]
     },
     "metadata": {
      "needs_background": "light"
     },
     "output_type": "display_data"
    }
   ],
   "source": [
    "chart = sns.catplot(y=\"count\", x=\"dev_type\", kind=\"bar\", hue=\"salary_type\",\n",
    "            height=8.27, aspect=11.7/8.27,\n",
    "            data=records_dict)\n",
    "chart.set_xticklabels(rotation=45, horizontalalignment='right')"
   ]
  },
  {
   "cell_type": "markdown",
   "metadata": {},
   "source": [
    "Clearly, most individuals are employed as full-stack developers and back-end developers. So, we can conclude, most of the work force consists of individuals experienced in the field of web developement, followed by application developement."
   ]
  },
  {
   "cell_type": "markdown",
   "metadata": {},
   "source": [
    "### Q3. Which profession is the most rewarding in terms of salary?"
   ]
  },
  {
   "cell_type": "code",
   "execution_count": 878,
   "metadata": {},
   "outputs": [
    {
     "data": {
      "text/plain": [
       "<matplotlib.axes._subplots.AxesSubplot at 0x2fe5d5e0>"
      ]
     },
     "execution_count": 878,
     "metadata": {},
     "output_type": "execute_result"
    },
    {
     "data": {
      "image/png": "[encoded data removed]",
      "text/plain": [
       "<Figure size 432x288 with 1 Axes>"
      ]
     },
     "metadata": {
      "needs_background": "light"
     },
     "output_type": "display_data"
    }
   ],
   "source": [
    "sns.distplot(df_with_only_devs_age_lim_55['ConvertedComp'])"
   ]
  },
  {
   "cell_type": "markdown",
   "metadata": {},
   "source": [
    "## Data cleaning - Based on work week hours and compensation\n",
    "\n",
    "The **ConvertedComp** column contains values less than 500 USD. In order to make sure, the values in this column lie in the valid range of salaries, I have considered values greated than or equal to 10000 USD.\n",
    "\n",
    "Similarly, the **WorkWeekHrs** column cotains values less than 10. To make sure, we are dealing with correct data, I have considered only values greated than 40, which is 8 hours of work per day excluding the weekends in general for a professional developer"
   ]
  },
  {
   "cell_type": "code",
   "execution_count": 941,
   "metadata": {},
   "outputs": [],
   "source": [
    "min_df_s_w = df_with_only_devs_age_lim_55[df_with_only_devs_age_lim_55['WorkWeekHrs'] >= 40]\n",
    "min_df_s_w = min_df_s_w[min_df_s_w['ConvertedComp'] >= 10000]"
   ]
  },
  {
   "cell_type": "code",
   "execution_count": 880,
   "metadata": {},
   "outputs": [
    {
     "data": {
      "text/html": [
       "<div>\n",
       "<style scoped>\n",
       "    .dataframe tbody tr th:only-of-type {\n",
       "        vertical-align: middle;\n",
       "    }\n",
       "\n",
       "    .dataframe tbody tr th {\n",
       "        vertical-align: top;\n",
       "    }\n",
       "\n",
       "    .dataframe thead th {\n",
       "        text-align: right;\n",
       "    }\n",
       "</style>\n",
       "<table border=\"1\" class=\"dataframe\">\n",
       "  <thead>\n",
       "    <tr style=\"text-align: right;\">\n",
       "      <th></th>\n",
       "      <th>dev_type</th>\n",
       "      <th>expected_salary</th>\n",
       "      <th>workhours</th>\n",
       "    </tr>\n",
       "  </thead>\n",
       "  <tbody>\n",
       "    <tr>\n",
       "      <th>0</th>\n",
       "      <td>dev_type_ desktop or enterprise applications D...</td>\n",
       "      <td>64128.0</td>\n",
       "      <td>40.0</td>\n",
       "    </tr>\n",
       "    <tr>\n",
       "      <th>1</th>\n",
       "      <td>dev_type_ front-end Developer</td>\n",
       "      <td>60924.0</td>\n",
       "      <td>40.0</td>\n",
       "    </tr>\n",
       "    <tr>\n",
       "      <th>2</th>\n",
       "      <td>dev_type_Designer</td>\n",
       "      <td>61500.0</td>\n",
       "      <td>40.0</td>\n",
       "    </tr>\n",
       "    <tr>\n",
       "      <th>3</th>\n",
       "      <td>dev_type_ back-end Developer</td>\n",
       "      <td>64446.0</td>\n",
       "      <td>40.0</td>\n",
       "    </tr>\n",
       "    <tr>\n",
       "      <th>4</th>\n",
       "      <td>dev_type_ full-stack Developer</td>\n",
       "      <td>66666.0</td>\n",
       "      <td>40.0</td>\n",
       "    </tr>\n",
       "  </tbody>\n",
       "</table>\n",
       "</div>"
      ],
      "text/plain": [
       "                                            dev_type  expected_salary  \\\n",
       "0  dev_type_ desktop or enterprise applications D...          64128.0   \n",
       "1                      dev_type_ front-end Developer          60924.0   \n",
       "2                                  dev_type_Designer          61500.0   \n",
       "3                       dev_type_ back-end Developer          64446.0   \n",
       "4                     dev_type_ full-stack Developer          66666.0   \n",
       "\n",
       "   workhours  \n",
       "0       40.0  \n",
       "1       40.0  \n",
       "2       40.0  \n",
       "3       40.0  \n",
       "4       40.0  "
      ]
     },
     "execution_count": 880,
     "metadata": {},
     "output_type": "execute_result"
    }
   ],
   "source": [
    "records = {\n",
    "    'dev_type': [],\n",
    "    'expected_salary': [],\n",
    "    'workhours': []\n",
    "}\n",
    "\n",
    "# Input variable: Dev type, country\n",
    "for col in dev_type_columns:\n",
    "    df_with_dev_types_col_set = min_df_s_w[min_df_s_w[col] == 1]\n",
    "    # We take the median as ConvertedComp is left-skewed as shown above\n",
    "    records['expected_salary'].append(df_with_dev_types_col_set['ConvertedComp'].median())\n",
    "    # We take the median as WorkWeekHrs is left-skewed too\n",
    "    records['workhours'].append(df_with_dev_types_col_set['WorkWeekHrs'].median())\n",
    "    records['dev_type'].append(col)\n",
    "\n",
    "records_dict =  pd.DataFrame.from_dict(records)\n",
    "records_dict.head()"
   ]
  },
  {
   "cell_type": "code",
   "execution_count": 881,
   "metadata": {},
   "outputs": [
    {
     "data": {
      "text/plain": [
       "<seaborn.axisgrid.FacetGrid at 0x2bbe1e08>"
      ]
     },
     "execution_count": 881,
     "metadata": {},
     "output_type": "execute_result"
    },
    {
     "data": {
      "image/png": "[encoded data removed]",
      "text/plain": [
       "<Figure size 842.4x595.44 with 1 Axes>"
      ]
     },
     "metadata": {
      "needs_background": "light"
     },
     "output_type": "display_data"
    }
   ],
   "source": [
    "chart = sns.catplot(y=\"expected_salary\", x=\"dev_type\", kind=\"bar\",\n",
    "            height=8.27, aspect=11.7/8.27,\n",
    "            data=records_dict.sort_values(by=\"expected_salary\", ascending=False))\n",
    "chart.set_xticklabels(rotation=45, horizontalalignment='right')"
   ]
  },
  {
   "cell_type": "markdown",
   "metadata": {},
   "source": [
    "So, Engineering Manager and Senior executive/VP are the most paid individuals in terms of salary. Among individuals working in the field of data, Data Engineers are the most paid. Among individuals working in the field of web developement, full stack developers are the most paid."
   ]
  },
  {
   "cell_type": "markdown",
   "metadata": {},
   "source": [
    "### Q4. How does work load vary with compensation?"
   ]
  },
  {
   "cell_type": "code",
   "execution_count": 882,
   "metadata": {},
   "outputs": [
    {
     "data": {
      "text/plain": [
       "<seaborn.axisgrid.FacetGrid at 0x2fe535f8>"
      ]
     },
     "execution_count": 882,
     "metadata": {},
     "output_type": "execute_result"
    },
    {
     "data": {
      "image/png": "[encoded data removed]",
      "text/plain": [
       "<Figure size 842.4x595.44 with 1 Axes>"
      ]
     },
     "metadata": {
      "needs_background": "light"
     },
     "output_type": "display_data"
    }
   ],
   "source": [
    "chart = sns.relplot(y=\"workhours\", x=\"expected_salary\", kind=\"line\", ci=None,\n",
    "            height=8.27, aspect=11.7/8.27,\n",
    "            data=records_dict.sort_values(by=\"workhours\", ascending=False))\n",
    "chart.set_xticklabels(rotation=45, horizontalalignment='right')"
   ]
  },
  {
   "cell_type": "markdown",
   "metadata": {},
   "source": [
    "We can't say much from the above graph, however, the individuals drawing higher salary end up working more as can be deduced from the graph"
   ]
  },
  {
   "cell_type": "code",
   "execution_count": 942,
   "metadata": {},
   "outputs": [],
   "source": [
    "def find_features_and_create_columns(input_df, column_name, remove_values, prefix):\n",
    "    \"\"\"\n",
    "    Creates new columns based on values of an existing column, cleans the data and adds these new columns to the dataframe\n",
    "    Args:\n",
    "        input_df -- Dataframe\n",
    "        column_name -- { String } Column from which to create new columns\n",
    "        remove_values -- { List } Values to be removed before creating new columns\n",
    "        prefix -- { String } Prefix for the new column names\n",
    "    Returns:\n",
    "        A tuple of all extracted values, new column names and modified dataframe\n",
    "    \"\"\"\n",
    "    input_df = input_df.dropna(subset=[column_name], axis=0)\n",
    "    all_values = get_unique_values_list(input_df=input_df, \n",
    "                                         column_name=column_name, \n",
    "                                         remove_values=remove_values)\n",
    "    print(all_values)\n",
    "    new_cols = create_feature_columns(input_df=input_df,\n",
    "                                          values=all_values,\n",
    "                                          parent_col=column_name, \n",
    "                                          prefix=prefix)\n",
    "    print(new_cols, input_df.columns)\n",
    "    return all_values, new_cols, input_df"
   ]
  },
  {
   "cell_type": "markdown",
   "metadata": {},
   "source": [
    "## Data cleaning - LanguageWorkedWith "
   ]
  },
  {
   "cell_type": "code",
   "execution_count": 943,
   "metadata": {},
   "outputs": [
    {
     "name": "stdout",
     "output_type": "stream",
     "text": [
      "['Bash/Shell/PowerShell', 'HTML/CSS', 'JavaScript', 'PHP', 'SQL', 'TypeScript', 'C++', 'C#', 'VBA', 'Python', 'Ruby', 'Swift', 'Java', 'Objective-C', 'Go', 'Kotlin', 'C', 'R', 'Erlang', 'Assembly', 'Scala', 'Elixir', 'Dart', 'Clojure', 'Rust', 'F#', 'WebAssembly']\n"
     ]
    },
    {
     "name": "stderr",
     "output_type": "stream",
     "text": [
      "<ipython-input-900-dde717315dca>:22: SettingWithCopyWarning: \n",
      "A value is trying to be set on a copy of a slice from a DataFrame.\n",
      "Try using .loc[row_indexer,col_indexer] = value instead\n",
      "\n",
      "See the caveats in the documentation: https://pandas.pydata.org/pandas-docs/stable/user_guide/indexing.html#returning-a-view-versus-a-copy\n",
      "  input_df[prefix+value] = new_df\n"
     ]
    },
    {
     "name": "stdout",
     "output_type": "stream",
     "text": [
      "['languages_worked_with_type_Bash/Shell/PowerShell', 'languages_worked_with_type_HTML/CSS', 'languages_worked_with_type_JavaScript', 'languages_worked_with_type_PHP', 'languages_worked_with_type_SQL', 'languages_worked_with_type_TypeScript', 'languages_worked_with_type_C++', 'languages_worked_with_type_C#', 'languages_worked_with_type_VBA', 'languages_worked_with_type_Python', 'languages_worked_with_type_Ruby', 'languages_worked_with_type_Swift', 'languages_worked_with_type_Java', 'languages_worked_with_type_Objective-C', 'languages_worked_with_type_Go', 'languages_worked_with_type_Kotlin', 'languages_worked_with_type_C', 'languages_worked_with_type_R', 'languages_worked_with_type_Erlang', 'languages_worked_with_type_Assembly', 'languages_worked_with_type_Scala', 'languages_worked_with_type_Elixir', 'languages_worked_with_type_Dart', 'languages_worked_with_type_Clojure', 'languages_worked_with_type_Rust', 'languages_worked_with_type_F#', 'languages_worked_with_type_WebAssembly'] Index(['Respondent', 'MainBranch', 'Hobbyist', 'OpenSourcer', 'OpenSource',\n",
      "       'Employment', 'Country', 'Student', 'EdLevel', 'UndergradMajor',\n",
      "       ...\n",
      "       'languages_worked_with_type_R', 'languages_worked_with_type_Erlang',\n",
      "       'languages_worked_with_type_Assembly',\n",
      "       'languages_worked_with_type_Scala', 'languages_worked_with_type_Elixir',\n",
      "       'languages_worked_with_type_Dart', 'languages_worked_with_type_Clojure',\n",
      "       'languages_worked_with_type_Rust', 'languages_worked_with_type_F#',\n",
      "       'languages_worked_with_type_WebAssembly'],\n",
      "      dtype='object', length=144)\n"
     ]
    }
   ],
   "source": [
    "all_languages_worked_with, languages_worked_with_columns, min_df_s_w = \\\n",
    "                  find_features_and_create_columns(input_df=min_df_s_w, \n",
    "                                         column_name='LanguageWorkedWith', \n",
    "                                         remove_values=['nan', 'Other(s):'], \n",
    "                                         prefix='languages_worked_with_type_')"
   ]
  },
  {
   "cell_type": "markdown",
   "metadata": {},
   "source": [
    "## Data cleaning - DatabaseWorkedWith"
   ]
  },
  {
   "cell_type": "code",
   "execution_count": 944,
   "metadata": {},
   "outputs": [
    {
     "name": "stdout",
     "output_type": "stream",
     "text": [
      "['Couchbase', 'DynamoDB', 'Firebase', 'MySQL', 'MongoDB', 'Microsoft SQL Server', 'PostgreSQL', 'Elasticsearch', 'Oracle', 'Redis', 'SQLite', 'MariaDB', 'Cassandra']\n",
      "['databases_worked_with_type_Couchbase', 'databases_worked_with_type_DynamoDB', 'databases_worked_with_type_Firebase', 'databases_worked_with_type_MySQL', 'databases_worked_with_type_MongoDB', 'databases_worked_with_type_Microsoft SQL Server', 'databases_worked_with_type_PostgreSQL', 'databases_worked_with_type_Elasticsearch', 'databases_worked_with_type_Oracle', 'databases_worked_with_type_Redis', 'databases_worked_with_type_SQLite', 'databases_worked_with_type_MariaDB', 'databases_worked_with_type_Cassandra'] Index(['Respondent', 'MainBranch', 'Hobbyist', 'OpenSourcer', 'OpenSource',\n",
      "       'Employment', 'Country', 'Student', 'EdLevel', 'UndergradMajor',\n",
      "       ...\n",
      "       'databases_worked_with_type_MySQL',\n",
      "       'databases_worked_with_type_MongoDB',\n",
      "       'databases_worked_with_type_Microsoft SQL Server',\n",
      "       'databases_worked_with_type_PostgreSQL',\n",
      "       'databases_worked_with_type_Elasticsearch',\n",
      "       'databases_worked_with_type_Oracle', 'databases_worked_with_type_Redis',\n",
      "       'databases_worked_with_type_SQLite',\n",
      "       'databases_worked_with_type_MariaDB',\n",
      "       'databases_worked_with_type_Cassandra'],\n",
      "      dtype='object', length=157)\n"
     ]
    },
    {
     "name": "stderr",
     "output_type": "stream",
     "text": [
      "<ipython-input-900-dde717315dca>:22: SettingWithCopyWarning: \n",
      "A value is trying to be set on a copy of a slice from a DataFrame.\n",
      "Try using .loc[row_indexer,col_indexer] = value instead\n",
      "\n",
      "See the caveats in the documentation: https://pandas.pydata.org/pandas-docs/stable/user_guide/indexing.html#returning-a-view-versus-a-copy\n",
      "  input_df[prefix+value] = new_df\n"
     ]
    }
   ],
   "source": [
    "all_databases_worked_with, databases_worked_with_columns, min_df_s_w = \\\n",
    "                  find_features_and_create_columns(input_df=min_df_s_w, \n",
    "                                         column_name='DatabaseWorkedWith', \n",
    "                                         remove_values=['nan', 'Other(s):'], \n",
    "                                         prefix='databases_worked_with_type_')"
   ]
  },
  {
   "cell_type": "markdown",
   "metadata": {},
   "source": [
    "## Data cleaning - WebFrameWorkedWith"
   ]
  },
  {
   "cell_type": "code",
   "execution_count": 945,
   "metadata": {},
   "outputs": [
    {
     "name": "stdout",
     "output_type": "stream",
     "text": [
      "['Angular/Angular.js', 'ASP.NET', 'Express', 'jQuery', 'Vue.js', 'Spring', 'Ruby on Rails', 'React.js', 'Drupal', 'Django', 'Flask', 'Laravel']\n",
      "['frameworks_worked_with_type_Angular/Angular.js', 'frameworks_worked_with_type_ASP.NET', 'frameworks_worked_with_type_Express', 'frameworks_worked_with_type_jQuery', 'frameworks_worked_with_type_Vue.js', 'frameworks_worked_with_type_Spring', 'frameworks_worked_with_type_Ruby on Rails', 'frameworks_worked_with_type_React.js', 'frameworks_worked_with_type_Drupal', 'frameworks_worked_with_type_Django', 'frameworks_worked_with_type_Flask', 'frameworks_worked_with_type_Laravel'] Index(['Respondent', 'MainBranch', 'Hobbyist', 'OpenSourcer', 'OpenSource',\n",
      "       'Employment', 'Country', 'Student', 'EdLevel', 'UndergradMajor',\n",
      "       ...\n",
      "       'frameworks_worked_with_type_Express',\n",
      "       'frameworks_worked_with_type_jQuery',\n",
      "       'frameworks_worked_with_type_Vue.js',\n",
      "       'frameworks_worked_with_type_Spring',\n",
      "       'frameworks_worked_with_type_Ruby on Rails',\n",
      "       'frameworks_worked_with_type_React.js',\n",
      "       'frameworks_worked_with_type_Drupal',\n",
      "       'frameworks_worked_with_type_Django',\n",
      "       'frameworks_worked_with_type_Flask',\n",
      "       'frameworks_worked_with_type_Laravel'],\n",
      "      dtype='object', length=169)\n"
     ]
    },
    {
     "name": "stderr",
     "output_type": "stream",
     "text": [
      "<ipython-input-900-dde717315dca>:22: SettingWithCopyWarning: \n",
      "A value is trying to be set on a copy of a slice from a DataFrame.\n",
      "Try using .loc[row_indexer,col_indexer] = value instead\n",
      "\n",
      "See the caveats in the documentation: https://pandas.pydata.org/pandas-docs/stable/user_guide/indexing.html#returning-a-view-versus-a-copy\n",
      "  input_df[prefix+value] = new_df\n"
     ]
    }
   ],
   "source": [
    "all_frameworks_worked_with, frameworks_worked_with_columns, min_df_s_w = \\\n",
    "                  find_features_and_create_columns(input_df=min_df_s_w, \n",
    "                                         column_name='WebFrameWorkedWith', \n",
    "                                         remove_values=['nan', 'Other(s):'], \n",
    "                                         prefix='frameworks_worked_with_type_')"
   ]
  },
  {
   "cell_type": "code",
   "execution_count": 946,
   "metadata": {},
   "outputs": [
    {
     "data": {
      "text/plain": [
       "Index(['Respondent', 'MainBranch', 'Hobbyist', 'OpenSourcer', 'OpenSource',\n",
       "       'Employment', 'Country', 'Student', 'EdLevel', 'UndergradMajor',\n",
       "       ...\n",
       "       'frameworks_worked_with_type_Express',\n",
       "       'frameworks_worked_with_type_jQuery',\n",
       "       'frameworks_worked_with_type_Vue.js',\n",
       "       'frameworks_worked_with_type_Spring',\n",
       "       'frameworks_worked_with_type_Ruby on Rails',\n",
       "       'frameworks_worked_with_type_React.js',\n",
       "       'frameworks_worked_with_type_Drupal',\n",
       "       'frameworks_worked_with_type_Django',\n",
       "       'frameworks_worked_with_type_Flask',\n",
       "       'frameworks_worked_with_type_Laravel'],\n",
       "      dtype='object', length=169)"
      ]
     },
     "execution_count": 946,
     "metadata": {},
     "output_type": "execute_result"
    }
   ],
   "source": [
    "min_df_s_w.columns"
   ]
  },
  {
   "cell_type": "code",
   "execution_count": 947,
   "metadata": {},
   "outputs": [
    {
     "name": "stdout",
     "output_type": "stream",
     "text": [
      "['dev_type_ desktop or enterprise applications Developer', 'dev_type_ front-end Developer', 'dev_type_Designer', 'dev_type_ back-end Developer', 'dev_type_ full-stack Developer', 'dev_type_Academic researcher', 'dev_type_ mobile Developer', 'dev_type_Data or business analyst', 'dev_type_Data scientist or machine learning specialist', 'dev_type_Database administrator', 'dev_type_ data Engineer', 'dev_type_ site reliability Engineer', 'dev_type_ QA or test Developer', 'dev_type_DevOps specialist', 'dev_type_ game or graphics Developer', 'dev_type_Educator', 'dev_type_Engineering manager', 'dev_type_Senior executive/VP', 'dev_type_System administrator', 'dev_type_ embedded applications or devices Developer', 'dev_type_Product manager', 'dev_type_Scientist', 'dev_type_Marketing or sales professional']\n"
     ]
    }
   ],
   "source": [
    "print(dev_type_columns)"
   ]
  },
  {
   "cell_type": "code",
   "execution_count": 948,
   "metadata": {},
   "outputs": [],
   "source": [
    "def get_tools_summary(input_df, prefix='', professions=[], data=[]):\n",
    "    \"\"\"\n",
    "    Get a summary of tools used by profession\n",
    "    Args:\n",
    "        input_df -- Input dataframe\n",
    "        prefix -- { String } Look into columns prefixed with this string\n",
    "        professions -- { List } A list of professions\n",
    "        data -- { List } A list of valid values to look for in the data frame to reduce conclusion\n",
    "    Returns:\n",
    "        A dataframe containing information about the tools summary\n",
    "    \"\"\"\n",
    "    tools = {}\n",
    "    for dev_type in professions:\n",
    "        df_dev_type = input_df[input_df[dev_type] == 1]\n",
    "        for idx, row in df_dev_type.iterrows():\n",
    "            for val in data:\n",
    "                if val not in tools:\n",
    "                    tools[val] = 0\n",
    "                tools[val] += row[prefix+val]\n",
    "\n",
    "    new_dict = {\n",
    "        'tools': [],\n",
    "        'values': []\n",
    "    }\n",
    "    \n",
    "    total = sum(tools.values())\n",
    "\n",
    "    for tool in tools:\n",
    "        new_dict['tools'].append(tool)\n",
    "        new_dict['values'].append(100*tools[tool]/total)\n",
    "    \n",
    "    return pd.DataFrame.from_dict(new_dict)"
   ]
  },
  {
   "cell_type": "markdown",
   "metadata": {},
   "source": [
    "### Q5. What web frameworks are most used by web developers?"
   ]
  },
  {
   "cell_type": "code",
   "execution_count": 949,
   "metadata": {},
   "outputs": [],
   "source": [
    "web_developers = [\n",
    "    'dev_type_ front-end Developer',\n",
    "    'dev_type_ back-end Developer',\n",
    "    'dev_type_ full-stack Developer'\n",
    "]\n",
    "\n",
    "web_developer_summary = get_tools_summary(input_df=min_df_s_w, \n",
    "                                          prefix='frameworks_worked_with_type_', \n",
    "                                          professions=web_developers, \n",
    "                                          data=all_frameworks_worked_with)"
   ]
  },
  {
   "cell_type": "code",
   "execution_count": 950,
   "metadata": {},
   "outputs": [
    {
     "data": {
      "text/html": [
       "<div>\n",
       "<style scoped>\n",
       "    .dataframe tbody tr th:only-of-type {\n",
       "        vertical-align: middle;\n",
       "    }\n",
       "\n",
       "    .dataframe tbody tr th {\n",
       "        vertical-align: top;\n",
       "    }\n",
       "\n",
       "    .dataframe thead th {\n",
       "        text-align: right;\n",
       "    }\n",
       "</style>\n",
       "<table border=\"1\" class=\"dataframe\">\n",
       "  <thead>\n",
       "    <tr style=\"text-align: right;\">\n",
       "      <th></th>\n",
       "      <th>tools</th>\n",
       "      <th>values</th>\n",
       "    </tr>\n",
       "  </thead>\n",
       "  <tbody>\n",
       "    <tr>\n",
       "      <th>0</th>\n",
       "      <td>Angular/Angular.js</td>\n",
       "      <td>14.493269</td>\n",
       "    </tr>\n",
       "    <tr>\n",
       "      <th>1</th>\n",
       "      <td>ASP.NET</td>\n",
       "      <td>12.385620</td>\n",
       "    </tr>\n",
       "    <tr>\n",
       "      <th>2</th>\n",
       "      <td>Express</td>\n",
       "      <td>8.656310</td>\n",
       "    </tr>\n",
       "    <tr>\n",
       "      <th>3</th>\n",
       "      <td>jQuery</td>\n",
       "      <td>19.351133</td>\n",
       "    </tr>\n",
       "    <tr>\n",
       "      <th>4</th>\n",
       "      <td>Vue.js</td>\n",
       "      <td>6.963480</td>\n",
       "    </tr>\n",
       "  </tbody>\n",
       "</table>\n",
       "</div>"
      ],
      "text/plain": [
       "                tools     values\n",
       "0  Angular/Angular.js  14.493269\n",
       "1             ASP.NET  12.385620\n",
       "2             Express   8.656310\n",
       "3              jQuery  19.351133\n",
       "4              Vue.js   6.963480"
      ]
     },
     "execution_count": 950,
     "metadata": {},
     "output_type": "execute_result"
    }
   ],
   "source": [
    "web_developer_summary.head()"
   ]
  },
  {
   "cell_type": "code",
   "execution_count": 951,
   "metadata": {},
   "outputs": [
    {
     "data": {
      "text/plain": [
       "<seaborn.axisgrid.FacetGrid at 0x4706ccd0>"
      ]
     },
     "execution_count": 951,
     "metadata": {},
     "output_type": "execute_result"
    },
    {
     "data": {
      "image/png": "[encoded data removed]",
      "text/plain": [
       "<Figure size 842.4x595.44 with 1 Axes>"
      ]
     },
     "metadata": {
      "needs_background": "light"
     },
     "output_type": "display_data"
    }
   ],
   "source": [
    "chart = sns.catplot(y=\"values\", x=\"tools\", kind=\"bar\",\n",
    "            height=8.27, aspect=11.7/8.27,\n",
    "            data=web_developer_summary.sort_values(by=\"values\", ascending=False))\n",
    "chart.set_xticklabels(rotation=45, horizontalalignment='right')"
   ]
  },
  {
   "cell_type": "markdown",
   "metadata": {},
   "source": [
    "jQuery is the most used by web developers followed by Angular/Angular.js and then React.js"
   ]
  },
  {
   "cell_type": "markdown",
   "metadata": {},
   "source": [
    "### Q6. Which languages are most used by data scientists?"
   ]
  },
  {
   "cell_type": "code",
   "execution_count": 952,
   "metadata": {},
   "outputs": [],
   "source": [
    "data_scientists = [\n",
    "    'dev_type_Data scientist or machine learning specialist',\n",
    "]\n",
    "\n",
    "data_scientists_summary = get_tools_summary(input_df=min_df_s_w, \n",
    "                                          prefix='languages_worked_with_type_', \n",
    "                                          professions=data_scientists, \n",
    "                                          data=all_languages_worked_with)"
   ]
  },
  {
   "cell_type": "code",
   "execution_count": 953,
   "metadata": {},
   "outputs": [
    {
     "data": {
      "text/html": [
       "<div>\n",
       "<style scoped>\n",
       "    .dataframe tbody tr th:only-of-type {\n",
       "        vertical-align: middle;\n",
       "    }\n",
       "\n",
       "    .dataframe tbody tr th {\n",
       "        vertical-align: top;\n",
       "    }\n",
       "\n",
       "    .dataframe thead th {\n",
       "        text-align: right;\n",
       "    }\n",
       "</style>\n",
       "<table border=\"1\" class=\"dataframe\">\n",
       "  <thead>\n",
       "    <tr style=\"text-align: right;\">\n",
       "      <th></th>\n",
       "      <th>tools</th>\n",
       "      <th>values</th>\n",
       "    </tr>\n",
       "  </thead>\n",
       "  <tbody>\n",
       "    <tr>\n",
       "      <th>0</th>\n",
       "      <td>Bash/Shell/PowerShell</td>\n",
       "      <td>7.753814</td>\n",
       "    </tr>\n",
       "    <tr>\n",
       "      <th>1</th>\n",
       "      <td>HTML/CSS</td>\n",
       "      <td>8.890058</td>\n",
       "    </tr>\n",
       "    <tr>\n",
       "      <th>2</th>\n",
       "      <td>JavaScript</td>\n",
       "      <td>9.963177</td>\n",
       "    </tr>\n",
       "    <tr>\n",
       "      <th>3</th>\n",
       "      <td>PHP</td>\n",
       "      <td>2.777486</td>\n",
       "    </tr>\n",
       "    <tr>\n",
       "      <th>4</th>\n",
       "      <td>SQL</td>\n",
       "      <td>9.921094</td>\n",
       "    </tr>\n",
       "  </tbody>\n",
       "</table>\n",
       "</div>"
      ],
      "text/plain": [
       "                   tools    values\n",
       "0  Bash/Shell/PowerShell  7.753814\n",
       "1               HTML/CSS  8.890058\n",
       "2             JavaScript  9.963177\n",
       "3                    PHP  2.777486\n",
       "4                    SQL  9.921094"
      ]
     },
     "execution_count": 953,
     "metadata": {},
     "output_type": "execute_result"
    }
   ],
   "source": [
    "data_scientists_summary.head()"
   ]
  },
  {
   "cell_type": "code",
   "execution_count": 954,
   "metadata": {},
   "outputs": [
    {
     "data": {
      "text/plain": [
       "<seaborn.axisgrid.FacetGrid at 0x554e79b8>"
      ]
     },
     "execution_count": 954,
     "metadata": {},
     "output_type": "execute_result"
    },
    {
     "data": {
      "image/png": "[encoded data removed]",
      "text/plain": [
       "<Figure size 842.4x595.44 with 1 Axes>"
      ]
     },
     "metadata": {
      "needs_background": "light"
     },
     "output_type": "display_data"
    }
   ],
   "source": [
    "chart = sns.catplot(y=\"values\", x=\"tools\", kind=\"bar\",\n",
    "            height=8.27, aspect=11.7/8.27,\n",
    "            data=data_scientists_summary.sort_values(by=\"values\", ascending=False))\n",
    "chart.set_xticklabels(rotation=45, horizontalalignment='right')"
   ]
  },
  {
   "cell_type": "markdown",
   "metadata": {},
   "source": [
    "Data scientists mostly work with Java, followed by Python, C, and JavaScript"
   ]
  },
  {
   "cell_type": "markdown",
   "metadata": {},
   "source": [
    "### Q7. What languages are most used by people working with data?"
   ]
  },
  {
   "cell_type": "code",
   "execution_count": 955,
   "metadata": {},
   "outputs": [],
   "source": [
    "data_scientists = [\n",
    "    'dev_type_Data scientist or machine learning specialist',\n",
    "    'dev_type_Data or business analyst',\n",
    "    'dev_type_ data Engineer'\n",
    "]\n",
    "\n",
    "data_scientists_summary = get_tools_summary(input_df=min_df_s_w, \n",
    "                                          prefix='languages_worked_with_type_', \n",
    "                                          professions=data_scientists, \n",
    "                                          data=all_languages_worked_with)"
   ]
  },
  {
   "cell_type": "code",
   "execution_count": 956,
   "metadata": {},
   "outputs": [
    {
     "data": {
      "text/plain": [
       "<seaborn.axisgrid.FacetGrid at 0x47060208>"
      ]
     },
     "execution_count": 956,
     "metadata": {},
     "output_type": "execute_result"
    },
    {
     "data": {
      "image/png": "[encoded data removed]",
      "text/plain": [
       "<Figure size 842.4x595.44 with 1 Axes>"
      ]
     },
     "metadata": {
      "needs_background": "light"
     },
     "output_type": "display_data"
    }
   ],
   "source": [
    "chart = sns.catplot(y=\"values\", x=\"tools\", kind=\"bar\",\n",
    "            height=8.27, aspect=11.7/8.27,\n",
    "            data=data_scientists_summary.sort_values(by=\"values\", ascending=False))\n",
    "chart.set_xticklabels(rotation=45, horizontalalignment='right')"
   ]
  },
  {
   "cell_type": "markdown",
   "metadata": {},
   "source": [
    "People working with data prefer Java, C, SQL, JavaScript, HTML/CSS and Python in that order."
   ]
  },
  {
   "cell_type": "markdown",
   "metadata": {},
   "source": [
    "### Q8. What languages are most used by mobile developers?"
   ]
  },
  {
   "cell_type": "code",
   "execution_count": 957,
   "metadata": {},
   "outputs": [],
   "source": [
    "mobile_developer = [\n",
    "    'dev_type_ mobile Developer'\n",
    "]\n",
    "\n",
    "mobile_developer_summary = get_tools_summary(input_df=min_df_s_w, \n",
    "                                          prefix='languages_worked_with_type_', \n",
    "                                          professions=mobile_developer, \n",
    "                                          data=all_languages_worked_with)"
   ]
  },
  {
   "cell_type": "code",
   "execution_count": 958,
   "metadata": {},
   "outputs": [
    {
     "data": {
      "text/plain": [
       "<seaborn.axisgrid.FacetGrid at 0x374d4718>"
      ]
     },
     "execution_count": 958,
     "metadata": {},
     "output_type": "execute_result"
    },
    {
     "data": {
      "image/png": "[encoded data removed]",
      "text/plain": [
       "<Figure size 842.4x595.44 with 1 Axes>"
      ]
     },
     "metadata": {
      "needs_background": "light"
     },
     "output_type": "display_data"
    }
   ],
   "source": [
    "chart = sns.catplot(y=\"values\", x=\"tools\", kind=\"bar\",\n",
    "            height=8.27, aspect=11.7/8.27,\n",
    "            data=mobile_developer_summary.sort_values(by=\"values\", ascending=False))\n",
    "chart.set_xticklabels(rotation=45, horizontalalignment='right')"
   ]
  },
  {
   "cell_type": "markdown",
   "metadata": {},
   "source": [
    "Mobile developers mostly prefer Java, C and JavaScript."
   ]
  },
  {
   "cell_type": "code",
   "execution_count": null,
   "metadata": {},
   "outputs": [],
   "source": []
  }
 ],
 "metadata": {
  "kernelspec": {
   "display_name": "Python 3.8.2 32-bit ('venv': venv)",
   "language": "python",
   "name": "python38232bitvenvvenvdb99328eaee741ffb7be707357a93c9b"
  },
  "language_info": {
   "codemirror_mode": {
    "name": "ipython",
    "version": 3
   },
   "file_extension": ".py",
   "mimetype": "text/x-python",
   "name": "python",
   "nbconvert_exporter": "python",
   "pygments_lexer": "ipython3",
   "version": "3.8.2"
  }
 },
 "nbformat": 4,
 "nbformat_minor": 4
}